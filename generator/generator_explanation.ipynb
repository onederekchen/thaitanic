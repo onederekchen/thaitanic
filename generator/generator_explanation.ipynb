{
 "cells": [
  {
   "cell_type": "markdown",
   "metadata": {},
   "source": [
    "# Explanation on generator design choices. \n",
    "\n",
    "**Don't look if you don't want spoilers!**\n",
    "\n",
    "This notebook covers the design choices of the [data generator](#Data-generator) (and [changes for the regenerator](#Data-re-generator). If you're looking for an exploratory analysis of the data, look **HERE**. If you're looking for the experimental plan and analysis, look **HERE**."
   ]
  },
  {
   "cell_type": "markdown",
   "metadata": {},
   "source": [
    "### Why we need a generator\n",
    "\n",
    "**Why I wanted to do this project**\n",
    "\n",
    "Before I learned to program / decided I wanted to learn to do data science, I ran user-testing programs for hardware products at a tech company. There are a lot of people getting into data science, and while I still feel like a beginner at programming, I'm pretty confident in my business background. So I wanted a project to show that. When I first started, this project had almost nothing to do with business, but it just kind of bled through - the connections were already there.\n",
    "\n",
    "--> so maybe it's better to just say that? think about the message and try to get it clear.\n",
    "--> I also like this stuff anyway - ask me about the case study I wrote for a business fraternity in 2018. (I picked this restaurant because I thought the name was funny - I was going to use another restaurant I also wrote a case about called the Himalayan Chimney, but they changed their website to just an ordering screen because of covid, which wasn't as fun).\n",
    "\n",
    "**Showcasing A/B testing is hard**\n",
    "\n",
    "Anyway, it's hard to showcase A/B testing because you need a product and users. And every company seems to want A/B testing experience. So instead of giving up, I found a sneaky way around it. When a company does A/B testing, they just look at the data to see how users interact with a change. So instead of actually implementing a change and looking at the data, we can just regenerate data for a month and pretend that's the sales data from the users. It's just order data, so it's not as good as real-time user data (like click-through-rates or stuff like that), but it's not likely most restaurants will have that kind of data either - it's a nice, simple example.\n",
    "\n",
    "--> also gives us a chance to talk about the difference between a/b testing and other types of user testing\n",
    "--> don't forget about the pitfalls of A/B testing! How does that apply to this case?\n",
    "\n",
    "**Notebooks are independent**\n",
    "\n",
    "In each workbook, we assume we have no knowledge of other notebooks.\n",
    "\n",
    "A truer chronological workflow might look like this:\n",
    "\n",
    "1. Get data\n",
    "    1. Write generator, generate data [data_generator.py]\n",
    "    2. Document generator design [generator_explanation.ipynb]\n",
    "    \n",
    "    \n",
    "2. Explore data\n",
    "    1. Explore, validate data (suggest business recs / potential tests) [data_analysis.ipynb]\n",
    "    \n",
    "    \n",
    "3. Design test\n",
    "    1. Design experiment for accepted tests [experiment_analysis.ipynb]\n",
    "    \n",
    "    \n",
    "4. Implement test\n",
    "    1. Regenerate data for test [data_generator.py]\n",
    "    2. Document re-generator design [generator_explanation.ipynb]\n",
    "    \n",
    "    \n",
    "5. Evaluate findings\n",
    "    1. Analyze experiment, explain findings [experiment_analysis.ipynb]"
   ]
  },
  {
   "cell_type": "markdown",
   "metadata": {},
   "source": [
    "# Setup\n",
    "\n",
    "Essentially the same setup that happens in the analysis - we need this to validate our generator later."
   ]
  },
  {
   "cell_type": "code",
   "execution_count": 1,
   "metadata": {},
   "outputs": [],
   "source": [
    "import pandas as pd\n",
    "pd.options.display.max_rows = 10  # limit huge ouputs\n",
    "import os\n",
    "import datetime\n",
    "import matplotlib.pyplot as plt\n",
    "import seaborn as sns\n",
    "plt.style.use('ggplot')  # plt.style.available\n",
    "\n",
    "import warnings\n",
    "warnings.filterwarnings(\"ignore\")  # filter warnings"
   ]
  },
  {
   "cell_type": "code",
   "execution_count": 2,
   "metadata": {},
   "outputs": [],
   "source": [
    "path = \"../data/raw_data/\"\n",
    "\n",
    "all_months_data = pd.DataFrame()\n",
    "\n",
    "for file in os.listdir(path):\n",
    "    if not file.startswith('.'):  # ignore hidden files\n",
    "        current_month_data = pd.read_csv(path+file)\n",
    "        all_months_data = pd.concat([all_months_data, current_month_data])\n",
    "\n",
    "# remove unnamed column (fixed for future generations!)\n",
    "df = all_months_data.loc[:, ~all_months_data.columns.str.contains('^Unnamed')]"
   ]
  },
  {
   "cell_type": "code",
   "execution_count": 3,
   "metadata": {},
   "outputs": [],
   "source": [
    "# add sales, datetime columns to filter by\n",
    "\n",
    "df['Order Date'] = pd.to_datetime(df['Order Date'])\n",
    "\n",
    "df['Sales'] = df['Quantity Ordered'] * df['Price Each']\n",
    "\n",
    "df['Year'] = df['Order Date'].dt.year\n",
    "\n",
    "df['Month'] = df['Order Date'].dt.month\n",
    "\n",
    "df['Weekday'] = df['Order Date'].dt.day_name()\n",
    "\n",
    "df['Weekday Value'] = df['Order Date'].dt.weekday\n",
    "\n",
    "df['Hour'] = df['Order Date'].dt.hour\n",
    "\n",
    "df['Day of Month'] = df['Order Date'].dt.day"
   ]
  },
  {
   "cell_type": "markdown",
   "metadata": {},
   "source": [
    "![](..\\\\revenue_model.jpg)\n",
    "\n",
    "<!-- This is an extra model so I can see it while I'm typing - don't forget to remove! -->"
   ]
  },
  {
   "cell_type": "markdown",
   "metadata": {},
   "source": [
    "# Data generator"
   ]
  },
  {
   "cell_type": "markdown",
   "metadata": {},
   "source": [
    "# Conceptual revenue model\n",
    "\n",
    "We don't have ThaiTanic's actual data, but we can can get pretty close by paying attention to public information about their business. Let's consider a revenue model for the restaurant.\n",
    "\n",
    "![](..\\\\revenue_model.jpg)\n",
    "\n",
    "Their revenue is basically the number of orders times the cost per order. There's a bunch of stuff that affects those two factors, so we'll look at them one at a time:\n",
    "\n",
    "1. How many orders does the restaurant get per month?\n",
    "2. What do people spend on orders?\n",
    "\n",
    "We can answer the first through market sizing, and the second by making our best guess based on what's on their menu (I asked some friends for input too!). And then we'll add some random variation to the values.\n",
    "\n",
    "--> can probably move this to the individual sections\n",
    "\n",
    "### (!) Our goal is to output monthly csvs that are realistic to the data\n",
    "\n",
    "Why monthly? It seems pretty reasonable to me.\n",
    "\n",
    "### (!) we could go even further by creating expense values, but that seems a bit out of scope\n",
    "\n",
    "# (!) there's some component of how long a meal takes...\n",
    "\n",
    "ALSO DO I ADD TAKEOUT TO THE MODEL?"
   ]
  },
  {
   "cell_type": "markdown",
   "metadata": {},
   "source": [
    "# 1. How many orders does the restaurant get per month?\n",
    "\n",
    "We can answer this by using some market sizing tricks.\n",
    "\n",
    "__Order:__\n",
    "1. Market sizing\n",
    "    1. Seating count\n",
    "    2. Dining time\n",
    "    3. Delivery/takeout\n",
    "\n",
    "    \n",
    "2. Popular times (we generate by hour!)\n",
    "\n",
    "4. Annual, seasonal multipliers\n",
    "    1. Annual multiplier --> just make future years slightly bigger to show growth over time\n",
    "    2. Seasonal multiplier --> winter months are max?"
   ]
  },
  {
   "cell_type": "markdown",
   "metadata": {},
   "source": [
    "### Market sizing\n",
    "\n",
    "Seating count, dining time, delivery/takeout\n",
    "\n",
    "We can estimate their maximum realistic income...\n",
    "\n",
    "### Seating: estimate dine-in capacity\n",
    "\n",
    "Eyeballing the pictures, it looks like there are 4 + 4 + 2 + 2 + 2 + 3 indoor seats and 4 + 4 outdoor seats. ==> 13ish indoor seats, and 8 outdoor seats. ==> 21ish seats.\n",
    "\n",
    "I don't think outdoor seats are as popular so I'm okay with rounding down to 20 seats. \n",
    "\n",
    "[ThaiTanic street view (Google Earth)](https://earth.google.com/web/search/ThaiTanic+Streetfood,+Bridgeway,+Sausalito,+CA/@37.85851259,-122.48337616,3.31408215a,0d,60y,258.6686533h,78.86489434t,0r/data=CpkBGm8SaQolMHg4MDg1ODQ1MWI0ZjE4YTkxOjB4YTU2MWViNDU4NTcyMWU5ZBl0mfW94e1CQCG4HK9A9J5ewCouVGhhaVRhbmljIFN0cmVldGZvb2QsIEJyaWRnZXdheSwgU2F1c2FsaXRvLCBDQRgBIAEiJgokCUlFdQiQmTZAEUdFdQiQmTbAGda0jUD-tz1AIQtYmNuq1VLAIhoKFlNMblNLNWVpQURnbUg4SlN3MzZoTmcQAg)\n",
    "\n",
    "[ThaiTanic aerial view (Google Earth)](https://earth.google.com/web/search/ThaiTanic+Streetfood,+Bridgeway,+Sausalito,+CA/@37.85845058,-122.4836834,2.8947445a,41.80733363d,35y,-45.474136h,27.45597896t,360r/data=CpkBGm8SaQolMHg4MDg1ODQ1MWI0ZjE4YTkxOjB4YTU2MWViNDU4NTcyMWU5ZBl0mfW94e1CQCG4HK9A9J5ewCouVGhhaVRhbmljIFN0cmVldGZvb2QsIEJyaWRnZXdheSwgU2F1c2FsaXRvLCBDQRgBIAEiJgokCUlFdQiQmTZAEUdFdQiQmTbAGda0jUD-tz1AIQtYmNuq1VLA)\n",
    "\n",
    "### Takeout capacity\n",
    "\n",
    "I didn't have a good way to estimate takeout, so I just added 50% to the seating count. It seemed unrealistic to do not account for it, and doubling seating felt like too much. So our 20 seats became 30 seats.\n",
    "\n",
    "### how long does a meal take?\n",
    "\n",
    "Google indicates people typically spend 15 minutes to 1 hour here. The restaurant is open about 8 hours a day.\n",
    "\n",
    "It feels too short to use 30 minutes as an average (even though some of the meals are during lunch hour or are takeout), and 1 hour feels too long, so I'm okay with 45. I don't know much about kitchen capacity or prep, but that seems reasonable to me. It seems like a sit-down place.\n",
    "\n",
    "They're open 8 hours a day, so 8/0.75 is 10.66, we can just round that to 11 meals per hour.\n",
    "\n",
    "So 30 seats * 11 meals per hour is an average of 330 orders per day. How close are we to that? We should definitely below that because that's the ceiling\n",
    "\n",
    "==> in n out for reference?\n",
    "\n",
    "\n",
    "\n",
    "\n",
    "==> We can use Google's popular times to estimate occupancy by the hour. If we didn't have this, we could either estimate by hour, or just randomize by day or something. \n",
    "\n"
   ]
  },
  {
   "cell_type": "code",
   "execution_count": 8,
   "metadata": {},
   "outputs": [
    {
     "data": {
      "image/png": "[encoded data removed]",
      "text/plain": [
       "<Figure size 576x432 with 1 Axes>"
      ]
     },
     "metadata": {},
     "output_type": "display_data"
    }
   ],
   "source": [
    "# show average count of unique orders per weekday\n",
    "\n",
    "weekday_sales_without_monday = orders_per_day = df.groupby(['Year', 'Month', 'Day of Month', 'Weekday Value', 'Weekday']\n",
    "                                                          ).nunique().reset_index()\n",
    "weekday_sales_without_monday = weekday_sales_without_monday.sort_values(by='Weekday Value')  # keep weekday order\n",
    "\n",
    "weekday_sales = pd.DataFrame(columns=weekday_sales_without_monday.columns)\n",
    "monday_row = {'Weekday': 'Monday', 'Sales': 0}  # show mondays are closed\n",
    "\n",
    "weekday_sales = weekday_sales.append(monday_row, ignore_index=True)\n",
    "weekday_sales = pd.concat([weekday_sales, weekday_sales_without_monday]).reset_index(drop=True)\n",
    "\n",
    "plt.figure(figsize=(8,6))\n",
    "ax = sns.barplot(data=weekday_sales, x='Weekday', y='Order ID')\n",
    "\n",
    "# ax.set_xticklabels(ax.get_xticklabels(), rotation=45, horizontalalignment='right')  # rotate if small figsize\n",
    "plt.title(\"Jan 2017 - Dec 2019 Average Count of Unique Orders by Weekday\")\n",
    "plt.ylabel(\"Sales in USD\");"
   ]
  },
  {
   "cell_type": "markdown",
   "metadata": {},
   "source": [
    "this is what we were expecting - 330 is the maximum amount of orders the restaurant could serve in a day. If they had nonstop demand (lines out the door) all day, they would be looking at 330 orders. We see that they get close to this on weekends, but aren't close on weekdays. This is intentional - it looks like the difference in demand is big, but if we didn't add buffer values to the popular times weights, the difference would be even bigger.\n",
    "\n",
    "For reference, the actual Saturday popular times values are almost three times bigger than Wednesdays!"
   ]
  },
  {
   "cell_type": "code",
   "execution_count": 9,
   "metadata": {},
   "outputs": [
    {
     "data": {
      "text/html": [
       "<div>\n",
       "<style scoped>\n",
       "    .dataframe tbody tr th:only-of-type {\n",
       "        vertical-align: middle;\n",
       "    }\n",
       "\n",
       "    .dataframe tbody tr th {\n",
       "        vertical-align: top;\n",
       "    }\n",
       "\n",
       "    .dataframe thead th {\n",
       "        text-align: right;\n",
       "    }\n",
       "</style>\n",
       "<table border=\"1\" class=\"dataframe\">\n",
       "  <thead>\n",
       "    <tr style=\"text-align: right;\">\n",
       "      <th></th>\n",
       "      <th>Year</th>\n",
       "      <th>Month</th>\n",
       "      <th>Count of Unique Orders per Month</th>\n",
       "    </tr>\n",
       "  </thead>\n",
       "  <tbody>\n",
       "    <tr>\n",
       "      <th>0</th>\n",
       "      <td>2017</td>\n",
       "      <td>1</td>\n",
       "      <td>5194</td>\n",
       "    </tr>\n",
       "    <tr>\n",
       "      <th>1</th>\n",
       "      <td>2017</td>\n",
       "      <td>2</td>\n",
       "      <td>4763</td>\n",
       "    </tr>\n",
       "    <tr>\n",
       "      <th>2</th>\n",
       "      <td>2017</td>\n",
       "      <td>3</td>\n",
       "      <td>5329</td>\n",
       "    </tr>\n",
       "    <tr>\n",
       "      <th>3</th>\n",
       "      <td>2017</td>\n",
       "      <td>4</td>\n",
       "      <td>5268</td>\n",
       "    </tr>\n",
       "    <tr>\n",
       "      <th>4</th>\n",
       "      <td>2017</td>\n",
       "      <td>5</td>\n",
       "      <td>5094</td>\n",
       "    </tr>\n",
       "    <tr>\n",
       "      <th>...</th>\n",
       "      <td>...</td>\n",
       "      <td>...</td>\n",
       "      <td>...</td>\n",
       "    </tr>\n",
       "    <tr>\n",
       "      <th>31</th>\n",
       "      <td>2019</td>\n",
       "      <td>8</td>\n",
       "      <td>6138</td>\n",
       "    </tr>\n",
       "    <tr>\n",
       "      <th>32</th>\n",
       "      <td>2019</td>\n",
       "      <td>9</td>\n",
       "      <td>5102</td>\n",
       "    </tr>\n",
       "    <tr>\n",
       "      <th>33</th>\n",
       "      <td>2019</td>\n",
       "      <td>10</td>\n",
       "      <td>5410</td>\n",
       "    </tr>\n",
       "    <tr>\n",
       "      <th>34</th>\n",
       "      <td>2019</td>\n",
       "      <td>11</td>\n",
       "      <td>7424</td>\n",
       "    </tr>\n",
       "    <tr>\n",
       "      <th>35</th>\n",
       "      <td>2019</td>\n",
       "      <td>12</td>\n",
       "      <td>7334</td>\n",
       "    </tr>\n",
       "  </tbody>\n",
       "</table>\n",
       "<p>36 rows × 3 columns</p>\n",
       "</div>"
      ],
      "text/plain": [
       "    Year  Month  Count of Unique Orders per Month\n",
       "0   2017      1                              5194\n",
       "1   2017      2                              4763\n",
       "2   2017      3                              5329\n",
       "3   2017      4                              5268\n",
       "4   2017      5                              5094\n",
       "..   ...    ...                               ...\n",
       "31  2019      8                              6138\n",
       "32  2019      9                              5102\n",
       "33  2019     10                              5410\n",
       "34  2019     11                              7424\n",
       "35  2019     12                              7334\n",
       "\n",
       "[36 rows x 3 columns]"
      ]
     },
     "execution_count": 9,
     "metadata": {},
     "output_type": "execute_result"
    }
   ],
   "source": [
    "330 * 24  # >>> 7920 orders per month - abs max\n",
    "\n",
    "df.groupby(['Year', 'Month']).nunique().reset_index().iloc[:, 0:3].rename(\n",
    "    columns={'Order ID': 'Count of Unique Orders per Month'}\n",
    ")"
   ]
  },
  {
   "cell_type": "markdown",
   "metadata": {},
   "source": [
    "another double check - we would expect about 8000 orders per month if they were at max capacity every day of the week for a month. But they're not so we see around half of that. it gets close on the busiest months of the year, which is a good sign.\n",
    "\n",
    "again, it seems like a big difference, but the variation is actually just that big."
   ]
  },
  {
   "cell_type": "markdown",
   "metadata": {},
   "source": [
    "# (!) how did i come up with the month and year weights?"
   ]
  },
  {
   "cell_type": "markdown",
   "metadata": {},
   "source": [
    "# (!) struggling a bit to remember how i did this\n",
    "\n",
    "__I think I used the market sizing (seats * # meals) to create a max, and then I used the occupancy formula to figure out how occupied it actually was.__\n",
    "\n",
    "(?) Is there some implication for ordering two quantity of something? Does that mean someone ordered two things so stayed there longer? Or maybe they pay for their friend (even though I'm assuming it's one order per person?)\n",
    "\n",
    "I'm not totally sure, but it feels wrong to just let all of the order quantities be 1. "
   ]
  },
  {
   "cell_type": "markdown",
   "metadata": {},
   "source": [
    "### Popular times (by hour)\n",
    "\n",
    "Used Google popular times to estimate orders per hour. Assigned weights and assumed 0 value gives 50%.\n",
    "\n",
    "Huge variance - busiest day is almost 3x as busy as least busy day.\n",
    "\n",
    "---\n",
    "\n",
    "I noticed Google has \"popular_times\" values for the restaurant. There isn't really a scale, but I can use these to approximate restaurant occupancy to the hour instead of to the day.\n",
    "\n",
    "I'm not sure how specific these are to 2020 - they seem a little low to me, but I figured it's fine because I'm just estimating and I'll throw in variance anyway.\n",
    "\n",
    "##### (!) should I add in variance in the years? and the months?! how did i miss that?\n",
    "\n",
    "##### (!) add in a visualization that shows the min/max values vs. the average weighted values we have? that would be a cool graph! (would belong in this notebook)."
   ]
  },
  {
   "cell_type": "markdown",
   "metadata": {},
   "source": [
    "### Annual/seasonal multipliers\n",
    "\n",
    "Year multiplier, summer/winter month multiplier. Mostly negative."
   ]
  },
  {
   "cell_type": "markdown",
   "metadata": {},
   "source": [
    "### Chance for additional item in order\n",
    "\n",
    "If ordering starter or dessert, there's a chance for an additional item. "
   ]
  },
  {
   "cell_type": "markdown",
   "metadata": {},
   "source": [
    "### Chance for increased order quantity"
   ]
  },
  {
   "cell_type": "markdown",
   "metadata": {},
   "source": [
    "### Generating by hour\n",
    "\n",
    "Tried by month (because csvs are by month), but \"accuracy\" to the hour made more sense. Added variance with normal distribution."
   ]
  },
  {
   "cell_type": "markdown",
   "metadata": {},
   "source": [
    "### Weights for menu (by category, by item)\n",
    "\n",
    "Categories have weights, and then within the category the items have weights."
   ]
  },
  {
   "cell_type": "markdown",
   "metadata": {},
   "source": []
  },
  {
   "cell_type": "markdown",
   "metadata": {},
   "source": []
  },
  {
   "cell_type": "code",
   "execution_count": null,
   "metadata": {},
   "outputs": [],
   "source": []
  },
  {
   "cell_type": "markdown",
   "metadata": {},
   "source": []
  },
  {
   "cell_type": "code",
   "execution_count": null,
   "metadata": {},
   "outputs": [],
   "source": []
  },
  {
   "cell_type": "markdown",
   "metadata": {},
   "source": [
    "# (!) need to validate the total number of orders!"
   ]
  },
  {
   "cell_type": "code",
   "execution_count": 7,
   "metadata": {},
   "outputs": [
    {
     "data": {
      "image/png": "[encoded data removed]",
      "text/plain": [
       "<Figure size 576x432 with 1 Axes>"
      ]
     },
     "metadata": {},
     "output_type": "display_data"
    }
   ],
   "source": [
    "# look at actual month sales\n",
    "\n",
    "month_sales = df.groupby(['Year', 'Month']).sum().reset_index()\n",
    "month_sales.index += 1\n",
    "\n",
    "plt.figure(figsize=(8,6))  # figsize not applying for some reason\n",
    "ax = sns.barplot(x=month_sales.index, y=month_sales['Quantity Ordered'])"
   ]
  },
  {
   "cell_type": "markdown",
   "metadata": {},
   "source": [
    "This helps us size the total market. The idea is that we can estimate the total realistic output from the restaurant, and then apply modifiers to decrease from there. "
   ]
  },
  {
   "cell_type": "markdown",
   "metadata": {},
   "source": []
  },
  {
   "cell_type": "code",
   "execution_count": null,
   "metadata": {},
   "outputs": [],
   "source": []
  },
  {
   "cell_type": "code",
   "execution_count": null,
   "metadata": {},
   "outputs": [],
   "source": []
  },
  {
   "cell_type": "code",
   "execution_count": null,
   "metadata": {},
   "outputs": [],
   "source": []
  },
  {
   "cell_type": "code",
   "execution_count": null,
   "metadata": {},
   "outputs": [],
   "source": []
  },
  {
   "cell_type": "code",
   "execution_count": null,
   "metadata": {},
   "outputs": [],
   "source": []
  },
  {
   "cell_type": "markdown",
   "metadata": {},
   "source": [
    "# 2. What do people spend on orders?\n",
    "\n",
    "I peeked at yelp too for input and considered scraping them for ratings, but their robot.txt disallows it."
   ]
  },
  {
   "cell_type": "code",
   "execution_count": null,
   "metadata": {},
   "outputs": [],
   "source": []
  },
  {
   "cell_type": "code",
   "execution_count": null,
   "metadata": {},
   "outputs": [],
   "source": []
  },
  {
   "cell_type": "code",
   "execution_count": null,
   "metadata": {},
   "outputs": [],
   "source": []
  },
  {
   "cell_type": "code",
   "execution_count": null,
   "metadata": {},
   "outputs": [],
   "source": []
  },
  {
   "cell_type": "code",
   "execution_count": null,
   "metadata": {},
   "outputs": [],
   "source": []
  },
  {
   "cell_type": "markdown",
   "metadata": {},
   "source": [
    "# Improvements"
   ]
  },
  {
   "cell_type": "markdown",
   "metadata": {},
   "source": [
    "Quantity ordered is big at 1, then 2, then follows a normal distribution after that. It sticks out a bit that as many people ordered 9 quantity of an item as 3 quantity. Maybe a geometric distribution would be more appropriate."
   ]
  },
  {
   "cell_type": "markdown",
   "metadata": {},
   "source": [
    "# Data re-generator\n",
    "\n",
    "I'm going to talk about regenerating data for the A/B test now. Chronologically, this takes place AFTER the analysis and writing out the experiment. If you want to read those first, the links are here:\n",
    "\n",
    "We regenerate fresh data to simulate collection of user data. \n",
    "\n",
    "Current plan is slight random variance in weights, and printing out the weight used to a .txt file which I won't look at until after the analysis. The goal is to evaluate whether or not the value went up or down, and whether it's statistically significant or just noise (e.g. the change we made actually had some impact). \n",
    "\n",
    "I'll look at the randomly printed value afterwards to compare. Might make a note: based on the test results, I would say this is statistically significant and would recommend this change going forward. Bonus: since it's a simulation, I'll try to guess the weight (not really sure if this is worth anything since there's so many random variation all over the place, but it's just for fun)."
   ]
  },
  {
   "cell_type": "code",
   "execution_count": null,
   "metadata": {},
   "outputs": [],
   "source": []
  },
  {
   "cell_type": "code",
   "execution_count": null,
   "metadata": {},
   "outputs": [],
   "source": []
  },
  {
   "cell_type": "code",
   "execution_count": null,
   "metadata": {},
   "outputs": [],
   "source": []
  },
  {
   "cell_type": "code",
   "execution_count": null,
   "metadata": {},
   "outputs": [],
   "source": []
  }
 ],
 "metadata": {
  "kernelspec": {
   "display_name": "Python 3",
   "language": "python",
   "name": "python3"
  },
  "language_info": {
   "codemirror_mode": {
    "name": "ipython",
    "version": 3
   },
   "file_extension": ".py",
   "mimetype": "text/x-python",
   "name": "python",
   "nbconvert_exporter": "python",
   "pygments_lexer": "ipython3",
   "version": "3.8.3"
  }
 },
 "nbformat": 4,
 "nbformat_minor": 4
}
