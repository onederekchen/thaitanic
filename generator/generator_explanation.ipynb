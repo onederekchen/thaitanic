{
 "cells": [
  {
   "cell_type": "markdown",
   "metadata": {},
   "source": [
    "# Explanation on generator design choices. \n",
    "\n",
    "**Don't look if you don't want spoilers!**\n",
    "\n",
    "This notebook covers the design choices of the [data generator](#Data-generator) (and [changes for the regenerator](#Data-re-generator). If you're looking for an exploratory analysis of the data, look **HERE**. If you're looking for the experimental plan and analysis, look **HERE**."
   ]
  },
  {
   "cell_type": "markdown",
   "metadata": {},
   "source": [
    "### Why we need a generator (!) definitely cut this down\n",
    "\n",
    "**Why I wanted to do this project**\n",
    "\n",
    "Before I learned to program / decided I wanted to learn to do data science, I ran user-testing programs for hardware products at a tech company. There are a lot of people getting into data science, and while I still feel like a beginner at programming, I'm pretty confident in my business background. So I wanted a project to show that. When I first started, this project had almost nothing to do with business, but it just kind of bled through - the connections were already there.\n",
    "\n",
    "--> so maybe it's better to just say that? think about the message and try to get it clear.\n",
    "--> I also like this stuff anyway - ask me about the case study I wrote for a business fraternity in 2018. (I picked this restaurant because I thought the name was funny - I was going to use another restaurant I also wrote a case about called the Himalayan Chimney, but they changed their website to just an ordering screen because of covid, which wasn't as fun).\n",
    "\n",
    "**Showcasing A/B testing is hard**\n",
    "\n",
    "Anyway, it's hard to showcase A/B testing because you need a product and users. And every company seems to want A/B testing experience. So instead of giving up, I found a sneaky way around it. When a company does A/B testing, they just look at the data to see how users interact with a change. So instead of actually implementing a change and looking at the data, we can just regenerate data for a month and pretend that's the sales data from the users. It's just order data, so it's not as good as real-time user data (like click-through-rates or stuff like that), but it's not likely most restaurants will have that kind of data either - it's a nice, simple example.\n",
    "\n",
    "--> also gives us a chance to talk about the difference between a/b testing and other types of user testing\n",
    "--> don't forget about the pitfalls of A/B testing! How does that apply to this case?\n",
    "\n",
    "**Notebooks are independent** (!) will probably move to readme\n",
    "\n",
    "In each workbook, we assume we have no knowledge of other notebooks.\n",
    "\n",
    "A truer chronological workflow might look like this:\n",
    "\n",
    "1. Get data\n",
    "    1. Write generator, generate data [data_generator.py]\n",
    "    2. Document generator design [generator_explanation.ipynb]\n",
    "    \n",
    "    \n",
    "2. Explore data\n",
    "    1. Explore, validate data (suggest business recs / potential tests) [data_analysis.ipynb]\n",
    "    \n",
    "    \n",
    "3. Design test\n",
    "    1. Design experiment for accepted tests [experiment_analysis.ipynb]\n",
    "    \n",
    "    \n",
    "4. Implement test\n",
    "    1. Regenerate data for test [data_generator.py]\n",
    "    2. Document re-generator design [generator_explanation.ipynb]\n",
    "    \n",
    "    \n",
    "5. Evaluate findings\n",
    "    1. Analyze experiment, explain findings [experiment_analysis.ipynb]"
   ]
  },
  {
   "cell_type": "markdown",
   "metadata": {},
   "source": [
    "# Setup\n",
    "\n",
    "Essentially the same setup that happens in the analysis - we need this to validate our generator later."
   ]
  },
  {
   "cell_type": "code",
   "execution_count": 18,
   "metadata": {},
   "outputs": [],
   "source": [
    "import pandas as pd\n",
    "pd.options.display.max_rows = 10  # limit huge ouputs\n",
    "import os\n",
    "import datetime\n",
    "import matplotlib.pyplot as plt\n",
    "import seaborn as sns\n",
    "plt.style.use('ggplot')  # plt.style.available\n",
    "import pprint\n",
    "pp = pprint.PrettyPrinter(indent=4)  # make printed dictionaries readable\n",
    "\n",
    "import warnings\n",
    "warnings.filterwarnings(\"ignore\")  # filter warnings"
   ]
  },
  {
   "cell_type": "code",
   "execution_count": 2,
   "metadata": {},
   "outputs": [],
   "source": [
    "path = \"../data/raw_data/\"\n",
    "\n",
    "all_months_data = pd.DataFrame()\n",
    "\n",
    "for file in os.listdir(path):\n",
    "    if not file.startswith('.'):  # ignore hidden files\n",
    "        current_month_data = pd.read_csv(path+file)\n",
    "        all_months_data = pd.concat([all_months_data, current_month_data])\n",
    "\n",
    "# remove unnamed column (fixed for future generations!)\n",
    "df = all_months_data.loc[:, ~all_months_data.columns.str.contains('^Unnamed')]"
   ]
  },
  {
   "cell_type": "code",
   "execution_count": 3,
   "metadata": {},
   "outputs": [],
   "source": [
    "# add sales, datetime columns to filter by\n",
    "\n",
    "df['Order Date'] = pd.to_datetime(df['Order Date'])\n",
    "\n",
    "df['Sales'] = df['Quantity Ordered'] * df['Price Each']\n",
    "\n",
    "df['Year'] = df['Order Date'].dt.year\n",
    "\n",
    "df['Month'] = df['Order Date'].dt.month\n",
    "\n",
    "df['Weekday'] = df['Order Date'].dt.day_name()\n",
    "\n",
    "df['Weekday Value'] = df['Order Date'].dt.weekday\n",
    "\n",
    "df['Hour'] = df['Order Date'].dt.hour\n",
    "\n",
    "df['Day of Month'] = df['Order Date'].dt.day"
   ]
  },
  {
   "cell_type": "markdown",
   "metadata": {},
   "source": [
    "<!-- ![](..\\\\revenue_model.jpg) -->\n",
    "\n",
    "<!-- This is an extra model so I can see it while I'm typing - don't forget to remove! -->"
   ]
  },
  {
   "cell_type": "markdown",
   "metadata": {},
   "source": [
    "# Data generator\n",
    "\n",
    "The generator takes occupancy weights, menu item weights, and date weights and generates monthly csvs.\n",
    "\n",
    "### (!) Maybe I should focus on explaining what the generator does first, and then explain why it's reasonable afterwards."
   ]
  },
  {
   "cell_type": "markdown",
   "metadata": {},
   "source": [
    "### Conceptual revenue model\n",
    "\n",
    "We don't have ThaiTanic's actual data, but we can can get pretty close by paying attention to public information about their business. Let's consider a revenue model for the restaurant.\n",
    "\n",
    "![](..\\\\revenue_model.jpg)\n",
    "\n",
    "Their revenue is basically the number of orders times the cost per order. There's a bunch of stuff that affects those two factors, so we'll look at them one at a time:\n",
    "\n",
    "1. How many orders does the restaurant get per month?\n",
    "2. What do people spend on orders?\n",
    "\n",
    "==> the generator uses information from these assumptions and adds random variance to create the dataset\n",
    "\n",
    "We can answer the first through market sizing, and the second by making our best guess based on what's on their menu (I asked some friends for input too!). And then we'll add some random variation to the values.\n",
    "\n",
    "--> can probably move this to the individual sections"
   ]
  },
  {
   "cell_type": "markdown",
   "metadata": {},
   "source": [
    "# 1. How many orders does the restaurant get per month?"
   ]
  },
  {
   "cell_type": "markdown",
   "metadata": {},
   "source": [
    "### Market sizing\n",
    "\n",
    "We want to find out the maximum amount of orders the restaurant could get. We can get this by multiplying the restaurant's max capacity by the number of orders the resturant can handle (which is the average meal length).\n",
    "\n",
    "##### Restaurant capacity\n",
    "\n",
    "Based on photos from \n",
    "[Yelp](https://www.yelp.com/biz_photos/thaitanic-streetfood-sausalito-2)\n",
    "and \n",
    "[Google](https://www.google.com/maps/uv?pb=!1s0x80858451b4f18a91:0xa561eb4585721e9d!3m1!7e115!4s)\n",
    "(can't rehost images due to copyright), it looks like there are **30 seats total** (20 indoor, 10 outdoor).\n",
    "\n",
    "##### # of servable meals + takeout\n",
    "\n",
    "Google indicates the average time spent per meal is 15 minutes to an hour. One hour seems high for an average, and 30 minutes seems low, but to account for takeout, we can just use 30 minutes. \n",
    "\n",
    "The restaurant is open for 8 hours a day, so we're saying they can serve at max 16 meals per seat per day. Our implication is that they can serve (30 * 16 =) **480 meals per day**. This sounds high, but it's really the amount of meals the restaurant would be able to fulfill if they had lines out the door from the minute they open to the minute they close. This assumes space is the limiting factor, not kitchen capacity. \n",
    "\n",
    "In the actual data, we probably wouldn't want to see any numbers above 400 except for the busiest days of the busiest months.\n",
    "\n",
    "For reference...?"
   ]
  },
  {
   "cell_type": "markdown",
   "metadata": {},
   "source": [
    "### Estimating actual demand\n",
    "\n",
    "Google also provides \"Popular Times\" estimates. It doesn't come with a set metric, but we can evaluate it. The thing to note is that the difference between the days is HUGE. The busiest day is almost three times as busy as the least busy day. Google indicates there are practically empty times for most days, which I don't think is totally true. I think it's giving relative values. So I added a buffer: if you look at popular values, I assume we start at 50, and that each tick is 25. Then I divide by 100 to turn it into a multiplier. A formula is as follows:\n",
    "\n",
    "$f(x) = \\frac{25x + 50}{100}$\n",
    "\n",
    "The values I pulled are specific to 2020 so there's a chance they're uncharacteristically low, but I checked against restaurants in areas not heavily affected by covid and they seemed similar enough to just keep.\n",
    "\n",
    "***\n",
    "\n",
    "If we didn't have Google's data, we could just estimate by the hour, or generate data on a per-day basis (which I'm glad we didn't do because that would be much to uniform).\n",
    "\n",
    "We might also be able to increase accuracy by evaluating the local population, but at that point I would rather sit outside with a clipboard."
   ]
  },
  {
   "cell_type": "code",
   "execution_count": 34,
   "metadata": {},
   "outputs": [
    {
     "name": "stdout",
     "output_type": "stream",
     "text": [
      "Wednesday Hours: [base weight, calculated weight]\n",
      "{   11: [0.25, 0.5625],\n",
      "    12: [0.5, 0.625],\n",
      "    13: [0.5, 0.625],\n",
      "    14: [0.5, 0.625],\n",
      "    17: [0.75, 0.6875],\n",
      "    18: [1, 0.75],\n",
      "    19: [1, 0.75],\n",
      "    20: [0.75, 0.6875]}\n",
      "\n",
      "Saturday Hours: [base weight, calculated weight]\n",
      "{   12: [1.5, 0.875],\n",
      "    13: [2.25, 1.0625],\n",
      "    14: [2.25, 1.0625],\n",
      "    15: [1.75, 0.9375],\n",
      "    17: [2.25, 1.0625],\n",
      "    18: [2.75, 1.1875],\n",
      "    19: [2.5, 1.125],\n",
      "    20: [1.5, 0.875]}\n"
     ]
    }
   ],
   "source": [
    "# example of weight calculation on the most busy, least busy days of the week\n",
    "\n",
    "def calculate_hourly_weights(weight):\n",
    "    \"\"\"\n",
    "    takes an occupancy weight from popular_times and returns a multiplier.\n",
    "    base occupancy is 50. ex: one popular_times bar filled = 75% occupancy.\n",
    "    \"\"\"\n",
    "    return (50 + 25 * weight) / 100\n",
    "\n",
    "wednesday_hours = {  # least busy day\n",
    "    # hour value: [hour weight]\n",
    "    11: [0.25],\n",
    "    12: [0.5],\n",
    "    13: [0.5],\n",
    "    14: [0.5],\n",
    "    17: [0.75],\n",
    "    18: [1],\n",
    "    19: [1],\n",
    "    20: [0.75],\n",
    "}\n",
    "\n",
    "saturday_hours = {  # most busy day\n",
    "    # hour value: [hour weight]\n",
    "    12: [1.5],\n",
    "    13: [2.25],\n",
    "    14: [2.25],\n",
    "    15: [1.75],\n",
    "    17: [2.25],\n",
    "    18: [2.75],\n",
    "    19: [2.5],\n",
    "    20: [1.5],\n",
    "}\n",
    "\n",
    "hours_for_day_of_week = { \n",
    "    # weekday_value: day_hours dictionary\n",
    "#     1: tuesday_hours,\n",
    "    2: wednesday_hours,\n",
    "#     3: thursday_hours,\n",
    "#     4: friday_hours,\n",
    "    5: saturday_hours,\n",
    "#     6: sunday_hours\n",
    "}\n",
    "\n",
    "\n",
    "# add percent_occupancy to day_hours dictionaries\n",
    "for day in hours_for_day_of_week.values():\n",
    "    for hour in day:\n",
    "        day[hour].append(calculate_hourly_weights(day.get(hour)[0]))\n",
    "\n",
    "print('Wednesday Hours: [base weight, calculated weight]')\n",
    "pp.pprint(wednesday_hours)\n",
    "print()\n",
    "print('Saturday Hours: [base weight, calculated weight]')\n",
    "pp.pprint(saturday_hours)"
   ]
  },
  {
   "cell_type": "markdown",
   "metadata": {},
   "source": [
    "We can see that really busy days go over max capacity, which is fine. And not-busy days are esssentially estimated to be half occupancy, which is 240 orders... We want the really busy days to be around 100. It adds some smoothing, because when Google says something is practically no occupancy, it seems way too low.\n",
    "\n",
    "It feels a bit flawed because in a day where they have 0 capacity all day, the assumption is they still got 240 orders.\n",
    "\n",
    "The formula was just based on interpreting the popular times chart. Here's an example:\n",
    "\n",
    "**Wednesday**\n",
    "\n",
    "![](..\\data/popular_times/wednesday.PNG)\n",
    "\n",
    "\n",
    "**Saturday**\n",
    "\n",
    "![](..\\data/popular_times/saturday.PNG)"
   ]
  },
  {
   "cell_type": "markdown",
   "metadata": {},
   "source": [
    "I interpret the lowest line to be 50% occupancy. It sounds genereous, but the difference is still pretty big.\n",
    "\n",
    "So if a line reaches the first light grey tick from the bottom, that's 75% occupancy. And the next is 100%. Based on this, a restaurant can go OVER 100% occupancy, but I don't think that's unreasonable - there would just be a line during that hour."
   ]
  },
  {
   "cell_type": "markdown",
   "metadata": {},
   "source": [
    "##### Annual, seasonal weights\n",
    "\n",
    "I also added weights to decrease the number of orders. Annually, I just wanted the restaurant to be trending upwards. I checked some google market research for this.\n",
    "\n",
    "I wanted the holiday months to be really high, and the summer months to be slightly higher. The rest ofthe months could be whatever, I put them at 80 (so at 50% occupancy all day - zero bars - we're now looking at about 190 orders. It works out pretty well to start from a high amount and use decreasing multipliers.\n",
    "\n"
   ]
  },
  {
   "cell_type": "markdown",
   "metadata": {},
   "source": [
    "### Calculating the number of orders\n",
    "\n",
    "Based on this information, we calculate order by multiplying the year weight, month weight and... **?**"
   ]
  },
  {
   "cell_type": "markdown",
   "metadata": {},
   "source": [
    "# Order sizing (probably goes at end... right?)"
   ]
  },
  {
   "cell_type": "code",
   "execution_count": 8,
   "metadata": {},
   "outputs": [
    {
     "data": {
      "image/png": "[encoded data removed]",
      "text/plain": [
       "<Figure size 576x432 with 1 Axes>"
      ]
     },
     "metadata": {},
     "output_type": "display_data"
    }
   ],
   "source": [
    "# show average count of unique orders per weekday\n",
    "\n",
    "weekday_sales_without_monday = orders_per_day = df.groupby(['Year', 'Month', 'Day of Month', 'Weekday Value', 'Weekday']\n",
    "                                                          ).nunique().reset_index()\n",
    "weekday_sales_without_monday = weekday_sales_without_monday.sort_values(by='Weekday Value')  # keep weekday order\n",
    "\n",
    "weekday_sales = pd.DataFrame(columns=weekday_sales_without_monday.columns)\n",
    "monday_row = {'Weekday': 'Monday', 'Sales': 0}  # show mondays are closed\n",
    "\n",
    "weekday_sales = weekday_sales.append(monday_row, ignore_index=True)\n",
    "weekday_sales = pd.concat([weekday_sales, weekday_sales_without_monday]).reset_index(drop=True)\n",
    "\n",
    "plt.figure(figsize=(8,6))\n",
    "ax = sns.barplot(data=weekday_sales, x='Weekday', y='Order ID')\n",
    "\n",
    "# ax.set_xticklabels(ax.get_xticklabels(), rotation=45, horizontalalignment='right')  # rotate if small figsize\n",
    "plt.title(\"Jan 2017 - Dec 2019 Average Count of Unique Orders by Weekday\")\n",
    "plt.ylabel(\"Sales in USD\");"
   ]
  },
  {
   "cell_type": "markdown",
   "metadata": {},
   "source": [
    "this is what we were expecting - 330 is the maximum amount of orders the restaurant could serve in a day. If they had nonstop demand (lines out the door) all day, they would be looking at 330 orders. We see that they get close to this on weekends, but aren't close on weekdays. This is intentional - it looks like the difference in demand is big, but if we didn't add buffer values to the popular times weights, the difference would be even bigger.\n",
    "\n",
    "For reference, the actual Saturday popular times values are almost three times bigger than Wednesdays!"
   ]
  },
  {
   "cell_type": "code",
   "execution_count": 283,
   "metadata": {},
   "outputs": [
    {
     "name": "stdout",
     "output_type": "stream",
     "text": [
      "12000\n"
     ]
    },
    {
     "data": {
      "text/html": [
       "<div>\n",
       "<style scoped>\n",
       "    .dataframe tbody tr th:only-of-type {\n",
       "        vertical-align: middle;\n",
       "    }\n",
       "\n",
       "    .dataframe tbody tr th {\n",
       "        vertical-align: top;\n",
       "    }\n",
       "\n",
       "    .dataframe thead th {\n",
       "        text-align: right;\n",
       "    }\n",
       "</style>\n",
       "<table border=\"1\" class=\"dataframe\">\n",
       "  <thead>\n",
       "    <tr style=\"text-align: right;\">\n",
       "      <th></th>\n",
       "      <th>Year</th>\n",
       "      <th>Month</th>\n",
       "      <th>Count of Unique Orders per Month</th>\n",
       "    </tr>\n",
       "  </thead>\n",
       "  <tbody>\n",
       "    <tr>\n",
       "      <th>0</th>\n",
       "      <td>2017</td>\n",
       "      <td>1</td>\n",
       "      <td>5194</td>\n",
       "    </tr>\n",
       "    <tr>\n",
       "      <th>1</th>\n",
       "      <td>2017</td>\n",
       "      <td>2</td>\n",
       "      <td>4763</td>\n",
       "    </tr>\n",
       "    <tr>\n",
       "      <th>2</th>\n",
       "      <td>2017</td>\n",
       "      <td>3</td>\n",
       "      <td>5329</td>\n",
       "    </tr>\n",
       "    <tr>\n",
       "      <th>3</th>\n",
       "      <td>2017</td>\n",
       "      <td>4</td>\n",
       "      <td>5268</td>\n",
       "    </tr>\n",
       "    <tr>\n",
       "      <th>4</th>\n",
       "      <td>2017</td>\n",
       "      <td>5</td>\n",
       "      <td>5094</td>\n",
       "    </tr>\n",
       "    <tr>\n",
       "      <th>...</th>\n",
       "      <td>...</td>\n",
       "      <td>...</td>\n",
       "      <td>...</td>\n",
       "    </tr>\n",
       "    <tr>\n",
       "      <th>31</th>\n",
       "      <td>2019</td>\n",
       "      <td>8</td>\n",
       "      <td>6138</td>\n",
       "    </tr>\n",
       "    <tr>\n",
       "      <th>32</th>\n",
       "      <td>2019</td>\n",
       "      <td>9</td>\n",
       "      <td>5102</td>\n",
       "    </tr>\n",
       "    <tr>\n",
       "      <th>33</th>\n",
       "      <td>2019</td>\n",
       "      <td>10</td>\n",
       "      <td>5410</td>\n",
       "    </tr>\n",
       "    <tr>\n",
       "      <th>34</th>\n",
       "      <td>2019</td>\n",
       "      <td>11</td>\n",
       "      <td>7424</td>\n",
       "    </tr>\n",
       "    <tr>\n",
       "      <th>35</th>\n",
       "      <td>2019</td>\n",
       "      <td>12</td>\n",
       "      <td>7334</td>\n",
       "    </tr>\n",
       "  </tbody>\n",
       "</table>\n",
       "<p>36 rows × 3 columns</p>\n",
       "</div>"
      ],
      "text/plain": [
       "    Year  Month  Count of Unique Orders per Month\n",
       "0   2017      1                              5194\n",
       "1   2017      2                              4763\n",
       "2   2017      3                              5329\n",
       "3   2017      4                              5268\n",
       "4   2017      5                              5094\n",
       "..   ...    ...                               ...\n",
       "31  2019      8                              6138\n",
       "32  2019      9                              5102\n",
       "33  2019     10                              5410\n",
       "34  2019     11                              7424\n",
       "35  2019     12                              7334\n",
       "\n",
       "[36 rows x 3 columns]"
      ]
     },
     "execution_count": 283,
     "metadata": {},
     "output_type": "execute_result"
    }
   ],
   "source": [
    "print(480 * 25)  # >>> 7920 orders per month - abs max\n",
    "\n",
    "df.groupby(['Year', 'Month']).nunique().reset_index().iloc[:, 0:3].rename(\n",
    "    columns={'Order ID': 'Count of Unique Orders per Month'}\n",
    ")"
   ]
  },
  {
   "cell_type": "markdown",
   "metadata": {},
   "source": [
    "another double check - we would expect about 8000 orders per month if they were at max capacity every day of the week for a month. But they're not so we see around half of that. it gets close on the busiest months of the year, which is a good sign.\n",
    "\n",
    "again, it seems like a big difference, but the variation is actually just that big."
   ]
  },
  {
   "cell_type": "markdown",
   "metadata": {},
   "source": [
    "### Popular times (by hour)\n",
    "\n",
    "Used Google popular times to estimate orders per hour. Assigned weights and assumed 0 value gives 50%.\n",
    "\n",
    "Huge variance - busiest day is almost 3x as busy as least busy day.\n",
    "\n",
    "---\n",
    "\n",
    "I noticed Google has \"popular_times\" values for the restaurant. There isn't really a scale, but I can use these to approximate restaurant occupancy to the hour instead of to the day.\n",
    "\n",
    "I'm not sure how specific these are to 2020 - they seem a little low to me, but I figured it's fine because I'm just estimating and I'll throw in variance anyway.\n",
    "\n",
    "##### (!) should I add in variance in the years? and the months?! how did i miss that?\n",
    "\n",
    "##### (!) add in a visualization that shows the min/max values vs. the average weighted values we have? that would be a cool graph! (would belong in this notebook)."
   ]
  },
  {
   "cell_type": "markdown",
   "metadata": {},
   "source": [
    "### Annual/seasonal multipliers\n",
    "\n",
    "Year multiplier, summer/winter month multiplier. Mostly negative."
   ]
  },
  {
   "cell_type": "markdown",
   "metadata": {},
   "source": [
    "### Chance for additional item in order\n",
    "\n",
    "If ordering starter or dessert, there's a chance for an additional item. "
   ]
  },
  {
   "cell_type": "markdown",
   "metadata": {},
   "source": [
    "### Chance for increased order quantity"
   ]
  },
  {
   "cell_type": "markdown",
   "metadata": {},
   "source": [
    "### Generating by hour\n",
    "\n",
    "Tried by month (because csvs are by month), but \"accuracy\" to the hour made more sense. Added variance with normal distribution."
   ]
  },
  {
   "cell_type": "markdown",
   "metadata": {},
   "source": [
    "### Weights for menu (by category, by item)\n",
    "\n",
    "Categories have weights, and then within the category the items have weights."
   ]
  },
  {
   "cell_type": "markdown",
   "metadata": {},
   "source": []
  },
  {
   "cell_type": "markdown",
   "metadata": {},
   "source": []
  },
  {
   "cell_type": "code",
   "execution_count": null,
   "metadata": {},
   "outputs": [],
   "source": []
  },
  {
   "cell_type": "markdown",
   "metadata": {},
   "source": []
  },
  {
   "cell_type": "code",
   "execution_count": null,
   "metadata": {},
   "outputs": [],
   "source": []
  },
  {
   "cell_type": "code",
   "execution_count": 7,
   "metadata": {},
   "outputs": [
    {
     "data": {
      "image/png": "[encoded data removed]",
      "text/plain": [
       "<Figure size 576x432 with 1 Axes>"
      ]
     },
     "metadata": {},
     "output_type": "display_data"
    }
   ],
   "source": [
    "# look at actual month sales - maybe i should add this after the order validation?\n",
    "\n",
    "month_sales = df.groupby(['Year', 'Month']).sum().reset_index()\n",
    "month_sales.index += 1\n",
    "\n",
    "plt.figure(figsize=(8,6))  # figsize not applying for some reason\n",
    "ax = sns.barplot(x=month_sales.index, y=month_sales['Quantity Ordered'])"
   ]
  },
  {
   "cell_type": "markdown",
   "metadata": {},
   "source": [
    "This helps us size the total market. The idea is that we can estimate the total realistic output from the restaurant, and then apply modifiers to decrease from there. "
   ]
  },
  {
   "cell_type": "markdown",
   "metadata": {},
   "source": []
  },
  {
   "cell_type": "code",
   "execution_count": null,
   "metadata": {},
   "outputs": [],
   "source": []
  },
  {
   "cell_type": "code",
   "execution_count": null,
   "metadata": {},
   "outputs": [],
   "source": []
  },
  {
   "cell_type": "code",
   "execution_count": null,
   "metadata": {},
   "outputs": [],
   "source": []
  },
  {
   "cell_type": "code",
   "execution_count": null,
   "metadata": {},
   "outputs": [],
   "source": []
  },
  {
   "cell_type": "code",
   "execution_count": null,
   "metadata": {},
   "outputs": [],
   "source": []
  },
  {
   "cell_type": "markdown",
   "metadata": {},
   "source": [
    "# 2. What do people spend on orders?\n",
    "\n",
    "I peeked at yelp too for input and considered scraping them for ratings, but their robot.txt disallows it.\n",
    "\n",
    "This part was really easy... I just added in the weights from the menu. \n",
    "\n",
    "### Menu weights\n",
    "\n",
    "I copied the menu and added weights per category and then per item. The category weights were basd on whether or not I thought someone would want an item from there if they actually ordered. It also had to do with how good the items were. \n",
    "\n",
    "Then for the items in the category, there are relative weights that determine which item should be preferred once the category is selected.\n",
    "\n",
    "I peeked at the local population and went with my gut on what I thought would actually be ordered (it hurt me to rank Pad Thai above Pad See Ew). I also asked some friends for input on this. I initially considered asking a bunch of people on the internet to tell me what they would actually order, but I figured it was overkill (might be fun for another project though)."
   ]
  },
  {
   "cell_type": "markdown",
   "metadata": {},
   "source": [
    "### Order quantity \n",
    "\n",
    "I kind of just added this in at the end, but it felt like the values were really low so I threw in a chance to order more of an item.\n",
    "\n",
    "And also a chance to order a second item. Both of these increase total quantity ordered and therefore sales, but I think it's fine."
   ]
  },
  {
   "cell_type": "markdown",
   "metadata": {},
   "source": [
    "### Adding a second item to an order\n",
    "\n",
    "There's a small chance to order a second item. It's really high if it's a dessert, and it's kind of high if there's an appetizer. I actually forgot about the appetizer part, then rediscovered it in the analysis."
   ]
  },
  {
   "cell_type": "markdown",
   "metadata": {},
   "source": [
    "# Talk about the distributions!\n",
    "\n",
    "Will take a break to work on the generator but will be back!\n",
    "\n",
    "Updated scale from 40 to 60, loc from 5 to 10. **This is based on the market sizing!** The scale is what we put into the random normal distribution, and then multiply that by the weights. \n",
    "\n",
    "What amount am I expecting? "
   ]
  },
  {
   "cell_type": "code",
   "execution_count": 278,
   "metadata": {},
   "outputs": [
    {
     "data": {
      "text/plain": [
       "7867.392000000001"
      ]
     },
     "execution_count": 278,
     "metadata": {},
     "output_type": "execute_result"
    }
   ],
   "source": [
    "60 * 8 * 0.8 * 0.985 * 0.80 * 26# doesn't count hour weight (between 0.5 and 0.7 mostly)\n",
    "\n",
    "# do i need to think more about the scale? it just means the 60 could be any number from 50 to 70, which is reasonable.\n",
    "# the diff. is kind of big, but i guess there's a lot of variation in restaurants?"
   ]
  },
  {
   "cell_type": "markdown",
   "metadata": {},
   "source": [
    "(?) Why did it print 8000... obviously because i printed the entire month. Seems high though..."
   ]
  },
  {
   "cell_type": "code",
   "execution_count": 279,
   "metadata": {},
   "outputs": [
    {
     "data": {
      "text/html": [
       "<div>\n",
       "<style scoped>\n",
       "    .dataframe tbody tr th:only-of-type {\n",
       "        vertical-align: middle;\n",
       "    }\n",
       "\n",
       "    .dataframe tbody tr th {\n",
       "        vertical-align: top;\n",
       "    }\n",
       "\n",
       "    .dataframe thead th {\n",
       "        text-align: right;\n",
       "    }\n",
       "</style>\n",
       "<table border=\"1\" class=\"dataframe\">\n",
       "  <thead>\n",
       "    <tr style=\"text-align: right;\">\n",
       "      <th></th>\n",
       "      <th>Order ID</th>\n",
       "      <th>Product</th>\n",
       "      <th>Price Each</th>\n",
       "      <th>Order Date</th>\n",
       "    </tr>\n",
       "    <tr>\n",
       "      <th>Quantity Ordered</th>\n",
       "      <th></th>\n",
       "      <th></th>\n",
       "      <th></th>\n",
       "      <th></th>\n",
       "    </tr>\n",
       "  </thead>\n",
       "  <tbody>\n",
       "    <tr>\n",
       "      <th>1</th>\n",
       "      <td>5150</td>\n",
       "      <td>5150</td>\n",
       "      <td>5150</td>\n",
       "      <td>5150</td>\n",
       "    </tr>\n",
       "    <tr>\n",
       "      <th>2</th>\n",
       "      <td>1903</td>\n",
       "      <td>1903</td>\n",
       "      <td>1903</td>\n",
       "      <td>1903</td>\n",
       "    </tr>\n",
       "    <tr>\n",
       "      <th>3</th>\n",
       "      <td>703</td>\n",
       "      <td>703</td>\n",
       "      <td>703</td>\n",
       "      <td>703</td>\n",
       "    </tr>\n",
       "    <tr>\n",
       "      <th>4</th>\n",
       "      <td>263</td>\n",
       "      <td>263</td>\n",
       "      <td>263</td>\n",
       "      <td>263</td>\n",
       "    </tr>\n",
       "    <tr>\n",
       "      <th>5</th>\n",
       "      <td>96</td>\n",
       "      <td>96</td>\n",
       "      <td>96</td>\n",
       "      <td>96</td>\n",
       "    </tr>\n",
       "    <tr>\n",
       "      <th>6</th>\n",
       "      <td>40</td>\n",
       "      <td>40</td>\n",
       "      <td>40</td>\n",
       "      <td>40</td>\n",
       "    </tr>\n",
       "    <tr>\n",
       "      <th>7</th>\n",
       "      <td>10</td>\n",
       "      <td>10</td>\n",
       "      <td>10</td>\n",
       "      <td>10</td>\n",
       "    </tr>\n",
       "    <tr>\n",
       "      <th>8</th>\n",
       "      <td>5</td>\n",
       "      <td>5</td>\n",
       "      <td>5</td>\n",
       "      <td>5</td>\n",
       "    </tr>\n",
       "    <tr>\n",
       "      <th>9</th>\n",
       "      <td>6</td>\n",
       "      <td>6</td>\n",
       "      <td>6</td>\n",
       "      <td>6</td>\n",
       "    </tr>\n",
       "    <tr>\n",
       "      <th>10</th>\n",
       "      <td>1</td>\n",
       "      <td>1</td>\n",
       "      <td>1</td>\n",
       "      <td>1</td>\n",
       "    </tr>\n",
       "  </tbody>\n",
       "</table>\n",
       "</div>"
      ],
      "text/plain": [
       "                  Order ID  Product  Price Each  Order Date\n",
       "Quantity Ordered                                           \n",
       "1                     5150     5150        5150        5150\n",
       "2                     1903     1903        1903        1903\n",
       "3                      703      703         703         703\n",
       "4                      263      263         263         263\n",
       "5                       96       96          96          96\n",
       "6                       40       40          40          40\n",
       "7                       10       10          10          10\n",
       "8                        5        5           5           5\n",
       "9                        6        6           6           6\n",
       "10                       1        1           1           1"
      ]
     },
     "execution_count": 279,
     "metadata": {},
     "output_type": "execute_result"
    }
   ],
   "source": [
    "t = pd.read_csv('..\\generator/January_2017_data.csv')\n",
    "t.groupby('Quantity Ordered').count()"
   ]
  },
  {
   "cell_type": "code",
   "execution_count": 281,
   "metadata": {},
   "outputs": [
    {
     "data": {
      "image/png": "[encoded data removed]",
      "text/plain": [
       "<Figure size 360x360 with 1 Axes>"
      ]
     },
     "metadata": {},
     "output_type": "display_data"
    }
   ],
   "source": [
    "import numpy as np\n",
    "import math\n",
    "\n",
    "quantity_ordered = []\n",
    "\n",
    "# test = round(np.random.exponential(scale=1.0, size=1)[0],0)\n",
    "for quantity in range(100):\n",
    "    value = math.ceil(np.random.exponential(scale=1, size=100)[0])\n",
    "    quantity_ordered.append(value)\n",
    "\n",
    "sns.displot(data=quantity_ordered);"
   ]
  },
  {
   "cell_type": "code",
   "execution_count": null,
   "metadata": {},
   "outputs": [],
   "source": []
  },
  {
   "cell_type": "markdown",
   "metadata": {},
   "source": [
    "# Improvements"
   ]
  },
  {
   "cell_type": "markdown",
   "metadata": {},
   "source": [
    "- Quantity ordered is big at 1, then 2, then follows a normal distribution after that. It sticks out a bit that as many people ordered 9 quantity of an item as 3 quantity. Maybe a geometric distribution would be more appropriate.\n",
    "- Order IDs don't match Order Date. They're all within the hour, but they're random. It doesn't really make sense that the first order would be 10 minutes from closing, while the next order after that is halfway through the shift. The solution is probably to generate from a minute basis, but it seems like a small enough detail to skip for now. "
   ]
  },
  {
   "cell_type": "markdown",
   "metadata": {},
   "source": [
    "# Data re-generator\n",
    "\n",
    "I'm going to talk about regenerating data for the A/B test now. Chronologically, this takes place AFTER the analysis and writing out the experiment. If you want to read those first, the links are here:\n",
    "\n",
    "We regenerate fresh data to simulate collection of user data. \n",
    "\n",
    "Current plan is slight random variance in weights, and printing out the weight used to a .txt file which I won't look at until after the analysis. The goal is to evaluate whether or not the value went up or down, and whether it's statistically significant or just noise (e.g. the change we made actually had some impact). \n",
    "\n",
    "I'll look at the randomly printed value afterwards to compare. Might make a note: based on the test results, I would say this is statistically significant and would recommend this change going forward. Bonus: since it's a simulation, I'll try to guess the weight (not really sure if this is worth anything since there's so many random variation all over the place, but it's just for fun)."
   ]
  },
  {
   "cell_type": "code",
   "execution_count": null,
   "metadata": {},
   "outputs": [],
   "source": []
  },
  {
   "cell_type": "code",
   "execution_count": null,
   "metadata": {},
   "outputs": [],
   "source": []
  },
  {
   "cell_type": "code",
   "execution_count": null,
   "metadata": {},
   "outputs": [],
   "source": []
  },
  {
   "cell_type": "code",
   "execution_count": null,
   "metadata": {},
   "outputs": [],
   "source": []
  }
 ],
 "metadata": {
  "kernelspec": {
   "display_name": "Python 3",
   "language": "python",
   "name": "python3"
  },
  "language_info": {
   "codemirror_mode": {
    "name": "ipython",
    "version": 3
   },
   "file_extension": ".py",
   "mimetype": "text/x-python",
   "name": "python",
   "nbconvert_exporter": "python",
   "pygments_lexer": "ipython3",
   "version": "3.8.3"
  }
 },
 "nbformat": 4,
 "nbformat_minor": 4
}
