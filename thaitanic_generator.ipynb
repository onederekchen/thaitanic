{
 "cells": [
  {
   "cell_type": "markdown",
   "metadata": {},
   "source": [
    "# Thaitanic\n",
    "\n",
    "Goal is to generate a dataset and A/B test it.\n",
    "\n",
    "I estimated 2019 data because it felt a little ridiculous to estimate 2020 data given covid. \n",
    "\n",
    "This is based on an actual restaurant that I wrote a case study about for a business fraternity in 2018. (Everything in the case is real except for the backstory). "
   ]
  },
  {
   "cell_type": "markdown",
   "metadata": {},
   "source": [
    "### Notes\n",
    "\n",
    "Thaitanic menu: http://thaitanicstreetfood.com/wp-content/pdf/ThaiTanic%20Streetfood%20Menu.pdf\n",
    "\n",
    "Thaitanic site: http://thaitanicstreetfood.com/\n",
    "\n",
    "Thaitanic yelp: https://www.yelp.com/biz/thaitanic-streetfood-sausalito-2\n",
    "\n",
    "Yelp robots.txt: https://www.yelp.com/robots.txt\n",
    "\n",
    "Case study doc: https://docs.google.com/document/d/1iwT_TimRU4odQRN2J2ChMyN4kJbqcM5lxDdTyFkDV0U/edit\n",
    "\n",
    "Case study notes: https://docs.google.com/document/d/1uOokFU3q-R25ZbLXpE8LHrUBQi1ky6k2tBpA3ejNHvI/edit\n",
    "\n"
   ]
  },
  {
   "cell_type": "markdown",
   "metadata": {},
   "source": [
    "# Import libraries"
   ]
  },
  {
   "cell_type": "code",
   "execution_count": 16,
   "metadata": {},
   "outputs": [],
   "source": [
    "import pandas as pd\n",
    "import numpy as np\n",
    "import datetime\n",
    "import random\n",
    "import calendar"
   ]
  },
  {
   "cell_type": "markdown",
   "metadata": {},
   "source": [
    "# Create data\n",
    "\n",
    "create a dataframe of products with frequencies based on weights.\n",
    "\n",
    "we'll make some months have more than others (google says 72% of restaurants have their highest in november/december (2018): https://www.thinkwithgoogle.com/consumer-insights/consumer-trends/restaurant-sale-statistics-by-month).\n",
    "\n",
    "seems like it varies heavily depending on the type of restaurant and the location, but probably there's also a general increase in the summer."
   ]
  },
  {
   "cell_type": "code",
   "execution_count": 13,
   "metadata": {},
   "outputs": [],
   "source": [
    "products = {\n",
    "    # Product: [Price, Weight]\n",
    "    'Dish 1': [12, 10],\n",
    "    'Dish 2': [13, 4],\n",
    "    'Dish 3': [13, 8],\n",
    "    'Dish 4': [15, 6],\n",
    "    'Dish 5': [12, 9],\n",
    "    'Dish 6': [13, 2],\n",
    "    'Dish 7': [11, 7],\n",
    "}\n",
    "\n",
    "columns = ['Order ID', 'Product', 'Quantity Ordered', 'Price Each', 'Order Date']\n"
   ]
  },
  {
   "cell_type": "code",
   "execution_count": 60,
   "metadata": {},
   "outputs": [],
   "source": [
    "def generate_random_time(month):\n",
    "    # generate random dates and peak around noon and 8pm mm/dd/year H:m\n",
    "    random_day = random.randint(1, days_per_month.get(month))\n",
    "    date = datetime.datetime(2019, month, random_day) # weight random days?"
   ]
  },
  {
   "cell_type": "code",
   "execution_count": null,
   "metadata": {},
   "outputs": [],
   "source": [
    "# select select a day"
   ]
  },
  {
   "cell_type": "code",
   "execution_count": 61,
   "metadata": {},
   "outputs": [
    {
     "name": "stdout",
     "output_type": "stream",
     "text": [
      "January has been generated!\n"
     ]
    }
   ],
   "source": [
    "def generate_random_time():\n",
    "    # generate random dates and peak around noon and 8pm mm/dd/year H:m\n",
    "    date = datetime.datetime()\n",
    "\n",
    "summer_months = [6, 7, 8]\n",
    "winter_months = [11, 12]\n",
    "days_per_month = {\n",
    "    1: 31, 2: 28, 3: 31,\n",
    "    4: 30, 5: 31, 6: 30,\n",
    "    7: 31, 8: 31, 9: 30,\n",
    "    10: 31, 11: 30, 12: 31\n",
    "}\n",
    "\n",
    "product_list = [product for product in products]\n",
    "weights = [products[product][1] for product in products]\n",
    "\n",
    "order_id = 3910\n",
    "\n",
    "for month in days_per_month.keys():\n",
    "    if month in summer_months:\n",
    "        orders = int(np.random.normal(loc=270*days_per_month.get(month), scale=600))\n",
    "    elif month in winter_months:\n",
    "        orders = int(np.random.normal(loc=300*days_per_month.get(month), scale=600))\n",
    "    else:\n",
    "        orders = int(np.random.normal(loc=250*days_per_month.get(month), scale=600))\n",
    "        \n",
    "    df = pd.DataFrame(columns=columns)\n",
    "\n",
    "    for i in range(orders):\n",
    "        product = random.choices(product_list, weights=weights)[0]\n",
    "        price = products[product]\n",
    "        df.loc[i] = [order_id, product, 1, price, 'NA']\n",
    "        order_id +=1 \n",
    "    \n",
    "    month_name = calendar.month_name[month]\n",
    "    df.to_csv(f'{month_name}_data.csv')\n",
    "    print(f'{month_name} has been generated!')\n",
    "    break"
   ]
  },
  {
   "cell_type": "code",
   "execution_count": null,
   "metadata": {},
   "outputs": [],
   "source": []
  },
  {
   "cell_type": "markdown",
   "metadata": {},
   "source": [
    "### Estimate dine-in/takeout sales\n",
    "\n",
    "Eyeballing the pictures, it looks like there are 4 + 4 + 2 + 2 + 2 + 3 indoor seats and 4 + 4 outdoor seats.\n",
    "\n",
    "\n",
    "Google Earth to thai tanic (street view): https://earth.google.com/web/search/ThaiTanic+Streetfood,+Bridgeway,+Sausalito,+CA/@37.85851259,-122.48337616,3.31408215a,0d,60y,258.6686533h,78.86489434t,0r/data=CpkBGm8SaQolMHg4MDg1ODQ1MWI0ZjE4YTkxOjB4YTU2MWViNDU4NTcyMWU5ZBl0mfW94e1CQCG4HK9A9J5ewCouVGhhaVRhbmljIFN0cmVldGZvb2QsIEJyaWRnZXdheSwgU2F1c2FsaXRvLCBDQRgBIAEiJgokCUlFdQiQmTZAEUdFdQiQmTbAGda0jUD-tz1AIQtYmNuq1VLAIhoKFlNMblNLNWVpQURnbUg4SlN3MzZoTmcQAg\n",
    "\n",
    "Google Earth to thai tanic (aerial view)\n",
    "https://earth.google.com/web/search/ThaiTanic+Streetfood,+Bridgeway,+Sausalito,+CA/@37.85845058,-122.4836834,2.8947445a,41.80733363d,35y,-45.474136h,27.45597896t,360r/data=CpkBGm8SaQolMHg4MDg1ODQ1MWI0ZjE4YTkxOjB4YTU2MWViNDU4NTcyMWU5ZBl0mfW94e1CQCG4HK9A9J5ewCouVGhhaVRhbmljIFN0cmVldGZvb2QsIEJyaWRnZXdheSwgU2F1c2FsaXRvLCBDQRgBIAEiJgokCUlFdQiQmTZAEUdFdQiQmTbAGda0jUD-tz1AIQtYmNuq1VLA\n",
    "\n",
    "I also see some \"popular times\" values provided by Google - these are for 2020 but seem pretty reasonable for a restaurant. I'm just ballparking so this looks good - the popular times even reflect the different opening hours between weekdays and weekends. This is 2020 data but it looks general enough that I feel comfortably applying it to 2019."
   ]
  },
  {
   "cell_type": "markdown",
   "metadata": {},
   "source": [
    "##### options for estimating demand\n",
    "\n",
    "13ish indoor seats, and 8 outdoor seats.\n",
    "\n",
    "Let's assume indoors vary around 90% occupancy all the time, and maybe the outdoor seats are closer to 60% occupancy. These are probably a bit generous. \n",
    "\n",
    "(?) How can I use the weights from the Google data? I can use the lowest bar to estimate 90% occupancy and throw in some randomness. So if the popularity looks close to the first bar, I'll say 90% occupancy. "
   ]
  },
  {
   "cell_type": "code",
   "execution_count": null,
   "metadata": {},
   "outputs": [],
   "source": []
  },
  {
   "cell_type": "code",
   "execution_count": null,
   "metadata": {},
   "outputs": [],
   "source": []
  },
  {
   "cell_type": "code",
   "execution_count": null,
   "metadata": {},
   "outputs": [],
   "source": []
  },
  {
   "cell_type": "markdown",
   "metadata": {},
   "source": [
    "##### we can ballpark their revenue range \n",
    "\n",
    "by estimating average meal price * number of meals served. let's just assume they do half as much delivery/takeout as they serve regularly?\n",
    "\n",
    "it's a \\$\\$ restaurant, which appears to be the \\\\$11-\\\\$20 range (source: quora https://www.quora.com/What-exactly-do-the-price-indicators-mean-in-Google-restaurant-listings-and-does-it-depend-on-the-part-of-the-country)\n",
    "\n",
    "I think that feels a bit low looking at their menu though, so I'm okay estimating $20 average per person.\n",
    "\n",
    "they're open 8 hours a day, 6 days a week. they have 13 indoor seats and 8 outdoor seats, i don't think outdoor is as popular so i'm okay just putting that as 20 seats. + 10 seats equivalent for delivery is 30.\n",
    "\n",
    "average meal is like 45 minutes? 30 feels short, although a lot of the meals are during lunch hour. 8/0.75 is 10.66, let's just round that to 11.\n",
    "\n",
    "so 30 meals per hour * 11 meals per day * \\\\$20 per meal * 6 days per week  * 50 weeks = \\\\$1,980,000/year in revenue. these numbers sound reasonable, so i'm okay with using \n"
   ]
  },
  {
   "cell_type": "code",
   "execution_count": 36,
   "metadata": {},
   "outputs": [
    {
     "data": {
      "text/plain": [
       "9900"
      ]
     },
     "execution_count": 36,
     "metadata": {},
     "output_type": "execute_result"
    }
   ],
   "source": [
    "30 * 11 * 30"
   ]
  },
  {
   "cell_type": "markdown",
   "metadata": {},
   "source": [
    "so volume is like 330 / day? is that low?"
   ]
  },
  {
   "cell_type": "markdown",
   "metadata": {},
   "source": [
    "we'll just call it 10k/month. the 10k represents out-the-door demand. like if there was a two hour wait at all times for this place."
   ]
  },
  {
   "cell_type": "code",
   "execution_count": null,
   "metadata": {},
   "outputs": [],
   "source": []
  },
  {
   "cell_type": "code",
   "execution_count": null,
   "metadata": {},
   "outputs": [],
   "source": []
  },
  {
   "cell_type": "code",
   "execution_count": 37,
   "metadata": {},
   "outputs": [
    {
     "data": {
      "text/plain": [
       "10230"
      ]
     },
     "execution_count": 37,
     "metadata": {},
     "output_type": "execute_result"
    }
   ],
   "source": [
    "330 * 31"
   ]
  },
  {
   "cell_type": "code",
   "execution_count": 38,
   "metadata": {},
   "outputs": [
    {
     "data": {
      "text/plain": [
       "9240"
      ]
     },
     "execution_count": 38,
     "metadata": {},
     "output_type": "execute_result"
    }
   ],
   "source": [
    "330 * 28"
   ]
  },
  {
   "cell_type": "code",
   "execution_count": 39,
   "metadata": {},
   "outputs": [],
   "source": [
    "days_per_month = {\n",
    "    1: 31, 2: 28, 3: 31,\n",
    "    4: 30, 5: 31, 6: 30,\n",
    "    7: 31, 8: 31, 9: 30,\n",
    "    10: 31, 11: 30, 12: 31\n",
    "}"
   ]
  },
  {
   "cell_type": "markdown",
   "metadata": {},
   "source": [
    "### break down logic from the top\n",
    "\n",
    "(!) daily variance (break down by daily average, not sure if we need hourly). \n",
    "\n",
    "\n",
    "(!) monthly variance (max occupancy all day is 330/330 - this is what you can realistically serve if you have infinite demand)\n",
    "- in november/december, we'll do 30 mean (90%) occupancy\n",
    "- in june/july/august, we'll do 270/330 (about 80%) occupancy\n",
    "- and every other month we'll do 250/330 (75%) occupancy."
   ]
  },
  {
   "cell_type": "code",
   "execution_count": null,
   "metadata": {},
   "outputs": [],
   "source": []
  },
  {
   "cell_type": "code",
   "execution_count": null,
   "metadata": {},
   "outputs": [],
   "source": []
  },
  {
   "cell_type": "code",
   "execution_count": null,
   "metadata": {},
   "outputs": [],
   "source": []
  },
  {
   "cell_type": "code",
   "execution_count": null,
   "metadata": {},
   "outputs": [],
   "source": []
  },
  {
   "cell_type": "code",
   "execution_count": null,
   "metadata": {},
   "outputs": [],
   "source": []
  },
  {
   "cell_type": "code",
   "execution_count": null,
   "metadata": {},
   "outputs": [],
   "source": []
  },
  {
   "cell_type": "code",
   "execution_count": null,
   "metadata": {},
   "outputs": [],
   "source": []
  },
  {
   "cell_type": "code",
   "execution_count": null,
   "metadata": {},
   "outputs": [],
   "source": []
  },
  {
   "cell_type": "code",
   "execution_count": null,
   "metadata": {},
   "outputs": [],
   "source": []
  },
  {
   "cell_type": "code",
   "execution_count": null,
   "metadata": {},
   "outputs": [],
   "source": []
  },
  {
   "cell_type": "code",
   "execution_count": null,
   "metadata": {},
   "outputs": [],
   "source": []
  },
  {
   "cell_type": "code",
   "execution_count": null,
   "metadata": {},
   "outputs": [],
   "source": []
  },
  {
   "cell_type": "code",
   "execution_count": null,
   "metadata": {},
   "outputs": [],
   "source": []
  },
  {
   "cell_type": "code",
   "execution_count": null,
   "metadata": {},
   "outputs": [],
   "source": []
  },
  {
   "cell_type": "code",
   "execution_count": null,
   "metadata": {},
   "outputs": [],
   "source": []
  },
  {
   "cell_type": "code",
   "execution_count": null,
   "metadata": {},
   "outputs": [],
   "source": []
  },
  {
   "cell_type": "code",
   "execution_count": null,
   "metadata": {},
   "outputs": [],
   "source": []
  },
  {
   "cell_type": "code",
   "execution_count": null,
   "metadata": {},
   "outputs": [],
   "source": []
  },
  {
   "cell_type": "code",
   "execution_count": null,
   "metadata": {},
   "outputs": [],
   "source": []
  },
  {
   "cell_type": "code",
   "execution_count": null,
   "metadata": {},
   "outputs": [],
   "source": []
  },
  {
   "cell_type": "code",
   "execution_count": null,
   "metadata": {},
   "outputs": [],
   "source": []
  },
  {
   "cell_type": "code",
   "execution_count": null,
   "metadata": {},
   "outputs": [],
   "source": []
  }
 ],
 "metadata": {
  "kernelspec": {
   "display_name": "Python 3",
   "language": "python",
   "name": "python3"
  },
  "language_info": {
   "codemirror_mode": {
    "name": "ipython",
    "version": 3
   },
   "file_extension": ".py",
   "mimetype": "text/x-python",
   "name": "python",
   "nbconvert_exporter": "python",
   "pygments_lexer": "ipython3",
   "version": "3.8.3"
  }
 },
 "nbformat": 4,
 "nbformat_minor": 4
}
