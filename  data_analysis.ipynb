{
 "cells": [
  {
   "cell_type": "markdown",
   "metadata": {},
   "source": [
    "# **Analysis of generated data**\n",
    "\n",
    "<!-- Analyze dataset results, present findings. The goal is to explore the data and present some business recommendations. We'll also flag some  -->\n",
    "\n",
    "Explore the dataset, make some business recommendations. Notebook input is data, output is A/B test suggestions. **If you're just interested in what the findings were and not how I got there, you should check out the slides.**\n",
    "\n",
    "<!-- ### (!) talk some more about the goal here -->\n",
    "\n",
    "Links to learn more about the business:\n",
    "- Restaurant [website](http://thaitanicstreetfood.com/)\n",
    "- Google [live search results](https://www.google.com/search?q=thai+tanic+sausalito) ([backup](https://github.com/onederekchen/thaitanic/blob/main/data/popular_times/full_view.PNG))\n",
    "- [Menu backup](https://github.com/onederekchen/thaitanic/blob/main/data/menus/thaitanic_menu_original%2010.2020.pdf) (menu has changed since project debut)"
   ]
  },
  {
   "cell_type": "markdown",
   "metadata": {},
   "source": [
    "# Setup"
   ]
  },
  {
   "cell_type": "markdown",
   "metadata": {},
   "source": [
    "### Import libraries"
   ]
  },
  {
   "cell_type": "code",
   "execution_count": 1,
   "metadata": {},
   "outputs": [],
   "source": [
    "import pandas as pd\n",
    "import os\n",
    "import datetime\n",
    "import matplotlib.pyplot as plt\n",
    "import seaborn as sns\n",
    "import warnings\n",
    "import numpy as np\n",
    "\n",
    "pd.options.display.max_rows = 10  # limit huge ouputs\n",
    "# plt.rcParams['figure.figsize'] = (8.0, 3.5)  # set default figsize\n",
    "plt.style.use('ggplot')  # plt.style.available\n",
    "# plt.tight_layout()  # have been manually tightening figures\n",
    "warnings.filterwarnings(\"ignore\")  # filter warnings"
   ]
  },
  {
   "cell_type": "markdown",
   "metadata": {},
   "source": [
    "### Get data\n",
    "\n",
    "Merge monthly order data into single .csv file. Raw files available on [Github](https://github.com/onederekchen/thaitanic/tree/main/data/raw_data)."
   ]
  },
  {
   "cell_type": "code",
   "execution_count": 2,
   "metadata": {},
   "outputs": [
    {
     "name": "stdout",
     "output_type": "stream",
     "text": [
      "36 months of data!\n"
     ]
    }
   ],
   "source": [
    "path = \"../thaitanic/data/raw_data/\"\n",
    "\n",
    "all_months_data = pd.DataFrame()\n",
    "number_of_files = 0\n",
    "\n",
    "for file in os.listdir(path):\n",
    "    if not file.startswith('.'):  # ignore hidden files\n",
    "        current_month_data = pd.read_csv(path+file)\n",
    "        all_months_data = pd.concat([all_months_data, current_month_data])\n",
    "        number_of_files += 1\n",
    "\n",
    "all_months_data.to_csv('../thaitanic/data/all_data.csv', index=False)  # don't want to re-save csv every time\n",
    "print(f\"{number_of_files} months of data!\")"
   ]
  },
  {
   "cell_type": "code",
   "execution_count": 3,
   "metadata": {},
   "outputs": [
    {
     "data": {
      "text/html": [
       "<div>\n",
       "<style scoped>\n",
       "    .dataframe tbody tr th:only-of-type {\n",
       "        vertical-align: middle;\n",
       "    }\n",
       "\n",
       "    .dataframe tbody tr th {\n",
       "        vertical-align: top;\n",
       "    }\n",
       "\n",
       "    .dataframe thead th {\n",
       "        text-align: right;\n",
       "    }\n",
       "</style>\n",
       "<table border=\"1\" class=\"dataframe\">\n",
       "  <thead>\n",
       "    <tr style=\"text-align: right;\">\n",
       "      <th></th>\n",
       "      <th>Order ID</th>\n",
       "      <th>Item</th>\n",
       "      <th>Quantity Ordered</th>\n",
       "      <th>Price Each</th>\n",
       "      <th>Order Date</th>\n",
       "    </tr>\n",
       "  </thead>\n",
       "  <tbody>\n",
       "    <tr>\n",
       "      <th>0</th>\n",
       "      <td>220826</td>\n",
       "      <td>Yellow Curry</td>\n",
       "      <td>2</td>\n",
       "      <td>12</td>\n",
       "      <td>2019-12-31 20:59:00</td>\n",
       "    </tr>\n",
       "    <tr>\n",
       "      <th>1</th>\n",
       "      <td>220809</td>\n",
       "      <td>Nam Kao Tod</td>\n",
       "      <td>2</td>\n",
       "      <td>12</td>\n",
       "      <td>2019-12-31 20:58:00</td>\n",
       "    </tr>\n",
       "    <tr>\n",
       "      <th>2</th>\n",
       "      <td>220835</td>\n",
       "      <td>Thai Streetfood Noodle</td>\n",
       "      <td>1</td>\n",
       "      <td>12</td>\n",
       "      <td>2019-12-31 20:55:00</td>\n",
       "    </tr>\n",
       "    <tr>\n",
       "      <th>3</th>\n",
       "      <td>220828</td>\n",
       "      <td>Won Ton Soup</td>\n",
       "      <td>2</td>\n",
       "      <td>12</td>\n",
       "      <td>2019-12-31 20:50:00</td>\n",
       "    </tr>\n",
       "    <tr>\n",
       "      <th>4</th>\n",
       "      <td>220808</td>\n",
       "      <td>Thai Fried Rice</td>\n",
       "      <td>1</td>\n",
       "      <td>12</td>\n",
       "      <td>2019-12-31 20:50:00</td>\n",
       "    </tr>\n",
       "    <tr>\n",
       "      <th>...</th>\n",
       "      <td>...</td>\n",
       "      <td>...</td>\n",
       "      <td>...</td>\n",
       "      <td>...</td>\n",
       "      <td>...</td>\n",
       "    </tr>\n",
       "    <tr>\n",
       "      <th>228485</th>\n",
       "      <td>3911</td>\n",
       "      <td>Pad Char</td>\n",
       "      <td>1</td>\n",
       "      <td>15</td>\n",
       "      <td>2017-01-01 12:09:00</td>\n",
       "    </tr>\n",
       "    <tr>\n",
       "      <th>228486</th>\n",
       "      <td>3917</td>\n",
       "      <td>Pad See Ew</td>\n",
       "      <td>1</td>\n",
       "      <td>12</td>\n",
       "      <td>2017-01-01 12:08:00</td>\n",
       "    </tr>\n",
       "    <tr>\n",
       "      <th>228487</th>\n",
       "      <td>3934</td>\n",
       "      <td>Green Curry</td>\n",
       "      <td>4</td>\n",
       "      <td>12</td>\n",
       "      <td>2017-01-01 12:04:00</td>\n",
       "    </tr>\n",
       "    <tr>\n",
       "      <th>228488</th>\n",
       "      <td>3922</td>\n",
       "      <td>Pumpkin Curry</td>\n",
       "      <td>2</td>\n",
       "      <td>15</td>\n",
       "      <td>2017-01-01 12:02:00</td>\n",
       "    </tr>\n",
       "    <tr>\n",
       "      <th>228489</th>\n",
       "      <td>3918</td>\n",
       "      <td>Thai Beef Noodle Soup</td>\n",
       "      <td>1</td>\n",
       "      <td>12</td>\n",
       "      <td>2017-01-01 12:01:00</td>\n",
       "    </tr>\n",
       "  </tbody>\n",
       "</table>\n",
       "<p>228490 rows × 5 columns</p>\n",
       "</div>"
      ],
      "text/plain": [
       "        Order ID                    Item  Quantity Ordered  Price Each  \\\n",
       "0         220826            Yellow Curry                 2          12   \n",
       "1         220809             Nam Kao Tod                 2          12   \n",
       "2         220835  Thai Streetfood Noodle                 1          12   \n",
       "3         220828            Won Ton Soup                 2          12   \n",
       "4         220808         Thai Fried Rice                 1          12   \n",
       "...          ...                     ...               ...         ...   \n",
       "228485      3911                Pad Char                 1          15   \n",
       "228486      3917              Pad See Ew                 1          12   \n",
       "228487      3934             Green Curry                 4          12   \n",
       "228488      3922           Pumpkin Curry                 2          15   \n",
       "228489      3918   Thai Beef Noodle Soup                 1          12   \n",
       "\n",
       "                 Order Date  \n",
       "0       2019-12-31 20:59:00  \n",
       "1       2019-12-31 20:58:00  \n",
       "2       2019-12-31 20:55:00  \n",
       "3       2019-12-31 20:50:00  \n",
       "4       2019-12-31 20:50:00  \n",
       "...                     ...  \n",
       "228485  2017-01-01 12:09:00  \n",
       "228486  2017-01-01 12:08:00  \n",
       "228487  2017-01-01 12:04:00  \n",
       "228488  2017-01-01 12:02:00  \n",
       "228489  2017-01-01 12:01:00  \n",
       "\n",
       "[228490 rows x 5 columns]"
      ]
     },
     "execution_count": 3,
     "metadata": {},
     "output_type": "execute_result"
    }
   ],
   "source": [
    "df = pd.read_csv(\"../thaitanic/data/all_data.csv\").sort_values(by='Order Date', ascending=False)\n",
    "df.reset_index(drop=True, inplace=True)\n",
    "df"
   ]
  },
  {
   "cell_type": "markdown",
   "metadata": {},
   "source": [
    "### Clean data"
   ]
  },
  {
   "cell_type": "code",
   "execution_count": 4,
   "metadata": {},
   "outputs": [
    {
     "data": {
      "text/plain": [
       "Order ID            0\n",
       "Item                0\n",
       "Quantity Ordered    0\n",
       "Price Each          0\n",
       "Order Date          0\n",
       "dtype: int64"
      ]
     },
     "execution_count": 4,
     "metadata": {},
     "output_type": "execute_result"
    }
   ],
   "source": [
    "df.isnull().sum()  # conveniently clean"
   ]
  },
  {
   "cell_type": "code",
   "execution_count": 5,
   "metadata": {},
   "outputs": [
    {
     "data": {
      "text/plain": [
       "Order ID                     int64\n",
       "Item                        object\n",
       "Quantity Ordered             int64\n",
       "Price Each                   int64\n",
       "Order Date          datetime64[ns]\n",
       "dtype: object"
      ]
     },
     "execution_count": 5,
     "metadata": {},
     "output_type": "execute_result"
    }
   ],
   "source": [
    "df['Order Date'] = pd.to_datetime(df['Order Date'])\n",
    "\n",
    "df.dtypes"
   ]
  },
  {
   "cell_type": "markdown",
   "metadata": {},
   "source": [
    "### Augment data"
   ]
  },
  {
   "cell_type": "code",
   "execution_count": 6,
   "metadata": {},
   "outputs": [],
   "source": [
    "df['Sales'] = df['Quantity Ordered'] * df['Price Each']\n",
    "\n",
    "df['Year'] = df['Order Date'].dt.year\n",
    "\n",
    "df['Month'] = df['Order Date'].dt.month\n",
    "\n",
    "df['Weekday'] = df['Order Date'].dt.day_name()\n",
    "\n",
    "df['Weekday Value'] = df['Order Date'].dt.weekday\n",
    "\n",
    "df['Hour'] = df['Order Date'].dt.hour"
   ]
  },
  {
   "cell_type": "code",
   "execution_count": 7,
   "metadata": {},
   "outputs": [
    {
     "data": {
      "text/html": [
       "<div>\n",
       "<style scoped>\n",
       "    .dataframe tbody tr th:only-of-type {\n",
       "        vertical-align: middle;\n",
       "    }\n",
       "\n",
       "    .dataframe tbody tr th {\n",
       "        vertical-align: top;\n",
       "    }\n",
       "\n",
       "    .dataframe thead th {\n",
       "        text-align: right;\n",
       "    }\n",
       "</style>\n",
       "<table border=\"1\" class=\"dataframe\">\n",
       "  <thead>\n",
       "    <tr style=\"text-align: right;\">\n",
       "      <th></th>\n",
       "      <th>Order ID</th>\n",
       "      <th>Item</th>\n",
       "      <th>Quantity Ordered</th>\n",
       "      <th>Price Each</th>\n",
       "      <th>Order Date</th>\n",
       "      <th>Sales</th>\n",
       "      <th>Year</th>\n",
       "      <th>Month</th>\n",
       "      <th>Weekday</th>\n",
       "      <th>Weekday Value</th>\n",
       "      <th>Hour</th>\n",
       "      <th>group</th>\n",
       "    </tr>\n",
       "  </thead>\n",
       "  <tbody>\n",
       "    <tr>\n",
       "      <th>0</th>\n",
       "      <td>220826</td>\n",
       "      <td>Yellow Curry</td>\n",
       "      <td>2</td>\n",
       "      <td>12</td>\n",
       "      <td>2019-12-31 20:59:00</td>\n",
       "      <td>24</td>\n",
       "      <td>2019</td>\n",
       "      <td>12</td>\n",
       "      <td>Tuesday</td>\n",
       "      <td>1</td>\n",
       "      <td>20</td>\n",
       "      <td>Starter</td>\n",
       "    </tr>\n",
       "    <tr>\n",
       "      <th>1</th>\n",
       "      <td>220809</td>\n",
       "      <td>Nam Kao Tod</td>\n",
       "      <td>2</td>\n",
       "      <td>12</td>\n",
       "      <td>2019-12-31 20:58:00</td>\n",
       "      <td>24</td>\n",
       "      <td>2019</td>\n",
       "      <td>12</td>\n",
       "      <td>Tuesday</td>\n",
       "      <td>1</td>\n",
       "      <td>20</td>\n",
       "      <td>Salad</td>\n",
       "    </tr>\n",
       "    <tr>\n",
       "      <th>2</th>\n",
       "      <td>220835</td>\n",
       "      <td>Thai Streetfood Noodle</td>\n",
       "      <td>1</td>\n",
       "      <td>12</td>\n",
       "      <td>2019-12-31 20:55:00</td>\n",
       "      <td>12</td>\n",
       "      <td>2019</td>\n",
       "      <td>12</td>\n",
       "      <td>Tuesday</td>\n",
       "      <td>1</td>\n",
       "      <td>20</td>\n",
       "      <td>Noodles/Rice</td>\n",
       "    </tr>\n",
       "    <tr>\n",
       "      <th>3</th>\n",
       "      <td>220828</td>\n",
       "      <td>Won Ton Soup</td>\n",
       "      <td>2</td>\n",
       "      <td>12</td>\n",
       "      <td>2019-12-31 20:50:00</td>\n",
       "      <td>24</td>\n",
       "      <td>2019</td>\n",
       "      <td>12</td>\n",
       "      <td>Tuesday</td>\n",
       "      <td>1</td>\n",
       "      <td>20</td>\n",
       "      <td>Soup</td>\n",
       "    </tr>\n",
       "    <tr>\n",
       "      <th>4</th>\n",
       "      <td>220808</td>\n",
       "      <td>Thai Fried Rice</td>\n",
       "      <td>1</td>\n",
       "      <td>12</td>\n",
       "      <td>2019-12-31 20:50:00</td>\n",
       "      <td>12</td>\n",
       "      <td>2019</td>\n",
       "      <td>12</td>\n",
       "      <td>Tuesday</td>\n",
       "      <td>1</td>\n",
       "      <td>20</td>\n",
       "      <td>Noodles/Rice</td>\n",
       "    </tr>\n",
       "    <tr>\n",
       "      <th>...</th>\n",
       "      <td>...</td>\n",
       "      <td>...</td>\n",
       "      <td>...</td>\n",
       "      <td>...</td>\n",
       "      <td>...</td>\n",
       "      <td>...</td>\n",
       "      <td>...</td>\n",
       "      <td>...</td>\n",
       "      <td>...</td>\n",
       "      <td>...</td>\n",
       "      <td>...</td>\n",
       "      <td>...</td>\n",
       "    </tr>\n",
       "    <tr>\n",
       "      <th>228485</th>\n",
       "      <td>3911</td>\n",
       "      <td>Pad Char</td>\n",
       "      <td>1</td>\n",
       "      <td>15</td>\n",
       "      <td>2017-01-01 12:09:00</td>\n",
       "      <td>15</td>\n",
       "      <td>2017</td>\n",
       "      <td>1</td>\n",
       "      <td>Sunday</td>\n",
       "      <td>6</td>\n",
       "      <td>12</td>\n",
       "      <td>Sauteed</td>\n",
       "    </tr>\n",
       "    <tr>\n",
       "      <th>228486</th>\n",
       "      <td>3917</td>\n",
       "      <td>Pad See Ew</td>\n",
       "      <td>1</td>\n",
       "      <td>12</td>\n",
       "      <td>2017-01-01 12:08:00</td>\n",
       "      <td>12</td>\n",
       "      <td>2017</td>\n",
       "      <td>1</td>\n",
       "      <td>Sunday</td>\n",
       "      <td>6</td>\n",
       "      <td>12</td>\n",
       "      <td>Noodles/Rice</td>\n",
       "    </tr>\n",
       "    <tr>\n",
       "      <th>228487</th>\n",
       "      <td>3934</td>\n",
       "      <td>Green Curry</td>\n",
       "      <td>4</td>\n",
       "      <td>12</td>\n",
       "      <td>2017-01-01 12:04:00</td>\n",
       "      <td>48</td>\n",
       "      <td>2017</td>\n",
       "      <td>1</td>\n",
       "      <td>Sunday</td>\n",
       "      <td>6</td>\n",
       "      <td>12</td>\n",
       "      <td>Curries</td>\n",
       "    </tr>\n",
       "    <tr>\n",
       "      <th>228488</th>\n",
       "      <td>3922</td>\n",
       "      <td>Pumpkin Curry</td>\n",
       "      <td>2</td>\n",
       "      <td>15</td>\n",
       "      <td>2017-01-01 12:02:00</td>\n",
       "      <td>30</td>\n",
       "      <td>2017</td>\n",
       "      <td>1</td>\n",
       "      <td>Sunday</td>\n",
       "      <td>6</td>\n",
       "      <td>12</td>\n",
       "      <td>Curries</td>\n",
       "    </tr>\n",
       "    <tr>\n",
       "      <th>228489</th>\n",
       "      <td>3918</td>\n",
       "      <td>Thai Beef Noodle Soup</td>\n",
       "      <td>1</td>\n",
       "      <td>12</td>\n",
       "      <td>2017-01-01 12:01:00</td>\n",
       "      <td>12</td>\n",
       "      <td>2017</td>\n",
       "      <td>1</td>\n",
       "      <td>Sunday</td>\n",
       "      <td>6</td>\n",
       "      <td>12</td>\n",
       "      <td>Soup</td>\n",
       "    </tr>\n",
       "  </tbody>\n",
       "</table>\n",
       "<p>228490 rows × 12 columns</p>\n",
       "</div>"
      ],
      "text/plain": [
       "        Order ID                    Item  Quantity Ordered  Price Each  \\\n",
       "0         220826            Yellow Curry                 2          12   \n",
       "1         220809             Nam Kao Tod                 2          12   \n",
       "2         220835  Thai Streetfood Noodle                 1          12   \n",
       "3         220828            Won Ton Soup                 2          12   \n",
       "4         220808         Thai Fried Rice                 1          12   \n",
       "...          ...                     ...               ...         ...   \n",
       "228485      3911                Pad Char                 1          15   \n",
       "228486      3917              Pad See Ew                 1          12   \n",
       "228487      3934             Green Curry                 4          12   \n",
       "228488      3922           Pumpkin Curry                 2          15   \n",
       "228489      3918   Thai Beef Noodle Soup                 1          12   \n",
       "\n",
       "                Order Date  Sales  Year  Month  Weekday  Weekday Value  Hour  \\\n",
       "0      2019-12-31 20:59:00     24  2019     12  Tuesday              1    20   \n",
       "1      2019-12-31 20:58:00     24  2019     12  Tuesday              1    20   \n",
       "2      2019-12-31 20:55:00     12  2019     12  Tuesday              1    20   \n",
       "3      2019-12-31 20:50:00     24  2019     12  Tuesday              1    20   \n",
       "4      2019-12-31 20:50:00     12  2019     12  Tuesday              1    20   \n",
       "...                    ...    ...   ...    ...      ...            ...   ...   \n",
       "228485 2017-01-01 12:09:00     15  2017      1   Sunday              6    12   \n",
       "228486 2017-01-01 12:08:00     12  2017      1   Sunday              6    12   \n",
       "228487 2017-01-01 12:04:00     48  2017      1   Sunday              6    12   \n",
       "228488 2017-01-01 12:02:00     30  2017      1   Sunday              6    12   \n",
       "228489 2017-01-01 12:01:00     12  2017      1   Sunday              6    12   \n",
       "\n",
       "               group  \n",
       "0            Starter  \n",
       "1              Salad  \n",
       "2       Noodles/Rice  \n",
       "3               Soup  \n",
       "4       Noodles/Rice  \n",
       "...              ...  \n",
       "228485       Sauteed  \n",
       "228486  Noodles/Rice  \n",
       "228487       Curries  \n",
       "228488       Curries  \n",
       "228489          Soup  \n",
       "\n",
       "[228490 rows x 12 columns]"
      ]
     },
     "execution_count": 7,
     "metadata": {},
     "output_type": "execute_result"
    }
   ],
   "source": [
    "# add food groups\n",
    "\n",
    "starters = [\"Tom Kha Gai\", \"Sriracha Wings\", \"Chicken Satay\", \"Vegan Fresh Rolls\", \"Yellow Curry\"]\n",
    "soup = [\"Tom Yum Gai\", \"Thai Beef Noodle Soup\", \"Tom Yum Goong\",\"Won Ton Soup\"]\n",
    "salad = [\"Larb Gai\",\"Nam Kao Tod\",\"Yum Woonsen\",\"Som Tum\",\"Yum Nua\", \"Waterfall Mushroom and Tofu\", \"MyThai Salad\"]\n",
    "barbecue = [\"Grilled Thai Steak\", \"Bar-B-Q Chicken\", \"Grilled Salmon\"]\n",
    "sauteed = [\"Pad Gra Prow\", \"Pad Gra Tiem\", \"Pad Char\"]\n",
    "vegetables = [\"Pad Ma Keur\", \"Pra Ram\", \"Pad Pak\", \"Pad Prig Khing\", \"Pad Ka Nar\"]\n",
    "curries = [\"Green Curry\", \"Yellow Curry\", \"Red Curry\", \"Pumpkin Curry\"]\n",
    "noodles_and_rice = [\"Pad Thai\", \"Pad See Ew\", \"Thai Fried Rice\", \"Pad Kee Mao\", \"Thai Streetfood Noodle\", \"Basil Fried Rice\"]\n",
    "desserts = [\"Sticky Rice with Mango\"]\n",
    "\n",
    "full_menu = [starters, soup, salad, barbecue, sauteed, vegetables, curries, noodles_and_rice, desserts]\n",
    "\n",
    "def food_group(row):  # please please please refactor\n",
    "    if row[1] in starters:\n",
    "        return 'Starter'\n",
    "    elif row[1] in soup:\n",
    "        return 'Soup'\n",
    "    elif row[1] in salad:\n",
    "        return 'Salad'\n",
    "    elif row[1] in barbecue:\n",
    "        return 'Barbecue'\n",
    "    elif row[1] in sauteed:\n",
    "        return 'Sauteed'\n",
    "    elif row[1] in vegetables:\n",
    "        return 'Vegetables'\n",
    "    elif row[1] in curries:\n",
    "        return 'Curries'\n",
    "    elif row[1] in noodles_and_rice:\n",
    "        return 'Noodles/Rice'\n",
    "    elif row[1] in desserts:\n",
    "        return 'Desserts'\n",
    "    else:\n",
    "        return np.nan\n",
    "\n",
    "df['group'] = df.apply(lambda row: food_group(row), axis=1)"
   ]
  },
  {
   "cell_type": "markdown",
   "metadata": {},
   "source": [
    "# Explore data"
   ]
  },
  {
   "cell_type": "code",
   "execution_count": 8,
   "metadata": {},
   "outputs": [
    {
     "data": {
      "text/html": [
       "<div>\n",
       "<style scoped>\n",
       "    .dataframe tbody tr th:only-of-type {\n",
       "        vertical-align: middle;\n",
       "    }\n",
       "\n",
       "    .dataframe tbody tr th {\n",
       "        vertical-align: top;\n",
       "    }\n",
       "\n",
       "    .dataframe thead th {\n",
       "        text-align: right;\n",
       "    }\n",
       "</style>\n",
       "<table border=\"1\" class=\"dataframe\">\n",
       "  <thead>\n",
       "    <tr style=\"text-align: right;\">\n",
       "      <th></th>\n",
       "      <th>Order ID</th>\n",
       "      <th>Quantity Ordered</th>\n",
       "      <th>Price Each</th>\n",
       "      <th>Sales</th>\n",
       "      <th>Year</th>\n",
       "      <th>Month</th>\n",
       "      <th>Weekday Value</th>\n",
       "      <th>Hour</th>\n",
       "    </tr>\n",
       "  </thead>\n",
       "  <tbody>\n",
       "    <tr>\n",
       "      <th>count</th>\n",
       "      <td>228490.000000</td>\n",
       "      <td>228490.000000</td>\n",
       "      <td>228490.000000</td>\n",
       "      <td>228490.000000</td>\n",
       "      <td>228490.000000</td>\n",
       "      <td>228490.000000</td>\n",
       "      <td>228490.000000</td>\n",
       "      <td>228490.000000</td>\n",
       "    </tr>\n",
       "    <tr>\n",
       "      <th>mean</th>\n",
       "      <td>112336.111681</td>\n",
       "      <td>1.579483</td>\n",
       "      <td>12.143923</td>\n",
       "      <td>19.192481</td>\n",
       "      <td>2018.005545</td>\n",
       "      <td>6.850317</td>\n",
       "      <td>3.730688</td>\n",
       "      <td>15.874879</td>\n",
       "    </tr>\n",
       "    <tr>\n",
       "      <th>std</th>\n",
       "      <td>62621.871087</td>\n",
       "      <td>0.955397</td>\n",
       "      <td>2.904703</td>\n",
       "      <td>12.817808</td>\n",
       "      <td>0.817605</td>\n",
       "      <td>3.495026</td>\n",
       "      <td>1.707090</td>\n",
       "      <td>2.954665</td>\n",
       "    </tr>\n",
       "    <tr>\n",
       "      <th>min</th>\n",
       "      <td>3910.000000</td>\n",
       "      <td>1.000000</td>\n",
       "      <td>6.000000</td>\n",
       "      <td>6.000000</td>\n",
       "      <td>2017.000000</td>\n",
       "      <td>1.000000</td>\n",
       "      <td>1.000000</td>\n",
       "      <td>11.000000</td>\n",
       "    </tr>\n",
       "    <tr>\n",
       "      <th>25%</th>\n",
       "      <td>58100.250000</td>\n",
       "      <td>1.000000</td>\n",
       "      <td>12.000000</td>\n",
       "      <td>12.000000</td>\n",
       "      <td>2017.000000</td>\n",
       "      <td>4.000000</td>\n",
       "      <td>2.000000</td>\n",
       "      <td>13.000000</td>\n",
       "    </tr>\n",
       "    <tr>\n",
       "      <th>50%</th>\n",
       "      <td>112299.500000</td>\n",
       "      <td>1.000000</td>\n",
       "      <td>12.000000</td>\n",
       "      <td>12.000000</td>\n",
       "      <td>2018.000000</td>\n",
       "      <td>7.000000</td>\n",
       "      <td>4.000000</td>\n",
       "      <td>17.000000</td>\n",
       "    </tr>\n",
       "    <tr>\n",
       "      <th>75%</th>\n",
       "      <td>166562.750000</td>\n",
       "      <td>2.000000</td>\n",
       "      <td>12.000000</td>\n",
       "      <td>24.000000</td>\n",
       "      <td>2019.000000</td>\n",
       "      <td>10.000000</td>\n",
       "      <td>5.000000</td>\n",
       "      <td>19.000000</td>\n",
       "    </tr>\n",
       "    <tr>\n",
       "      <th>max</th>\n",
       "      <td>220837.000000</td>\n",
       "      <td>12.000000</td>\n",
       "      <td>22.000000</td>\n",
       "      <td>198.000000</td>\n",
       "      <td>2019.000000</td>\n",
       "      <td>12.000000</td>\n",
       "      <td>6.000000</td>\n",
       "      <td>20.000000</td>\n",
       "    </tr>\n",
       "  </tbody>\n",
       "</table>\n",
       "</div>"
      ],
      "text/plain": [
       "            Order ID  Quantity Ordered     Price Each          Sales  \\\n",
       "count  228490.000000     228490.000000  228490.000000  228490.000000   \n",
       "mean   112336.111681          1.579483      12.143923      19.192481   \n",
       "std     62621.871087          0.955397       2.904703      12.817808   \n",
       "min      3910.000000          1.000000       6.000000       6.000000   \n",
       "25%     58100.250000          1.000000      12.000000      12.000000   \n",
       "50%    112299.500000          1.000000      12.000000      12.000000   \n",
       "75%    166562.750000          2.000000      12.000000      24.000000   \n",
       "max    220837.000000         12.000000      22.000000     198.000000   \n",
       "\n",
       "                Year          Month  Weekday Value           Hour  \n",
       "count  228490.000000  228490.000000  228490.000000  228490.000000  \n",
       "mean     2018.005545       6.850317       3.730688      15.874879  \n",
       "std         0.817605       3.495026       1.707090       2.954665  \n",
       "min      2017.000000       1.000000       1.000000      11.000000  \n",
       "25%      2017.000000       4.000000       2.000000      13.000000  \n",
       "50%      2018.000000       7.000000       4.000000      17.000000  \n",
       "75%      2019.000000      10.000000       5.000000      19.000000  \n",
       "max      2019.000000      12.000000       6.000000      20.000000  "
      ]
     },
     "execution_count": 8,
     "metadata": {},
     "output_type": "execute_result"
    }
   ],
   "source": [
    "df.describe()"
   ]
  },
  {
   "cell_type": "markdown",
   "metadata": {},
   "source": [
    "The lowest Order ID is 3910: maybe Thaitanic started recording data or switched to a new system in December 2016, and just gave us data from January 2017 onwards.  \n",
    "\n",
    "We're looking at almost 9000 orders per month. With 36 months of data, about 25 open days per month and 8 open hours per day, we're looking at about 350 orders per day, or 40 orders per hour.\n",
    "\n",
    "At least half of the orders are just a single item, although someone ordered 12!! items. It's probably a business ordering catering, or maybe someone really likes Thai food. No judgement.\n",
    "\n",
    "The cheapest item is 6 dollars while the most expensive is 22."
   ]
  },
  {
   "cell_type": "markdown",
   "metadata": {},
   "source": [
    "### Quantity ordered\n",
    "\n",
    "Let's check to make sure the 12 orders isn't an error."
   ]
  },
  {
   "cell_type": "code",
   "execution_count": 9,
   "metadata": {},
   "outputs": [
    {
     "data": {
      "image/png": "[encoded data removed]",
      "text/plain": [
       "<Figure size 576x270 with 1 Axes>"
      ]
     },
     "metadata": {},
     "output_type": "display_data"
    }
   ],
   "source": [
    "order_distribution = df.groupby('Quantity Ordered').count()\n",
    "\n",
    "plt.figure(figsize=(8,3.75))\n",
    "ax = sns.barplot(order_distribution.index, order_distribution['Order ID'])  # column doesn't matter\n",
    "\n",
    "plt.title(\"Frequency of Quantity Ordered, Jan 2017 - Dec 2019\")\n",
    "plt.xlabel(\"\")  # the quantity ordered part is self explanatory\n",
    "\n",
    "plt.ylabel(\"Count of Quantity Ordered\");\n",
    "\n",
    "plt.savefig(\"frequency_quantity_ordered\", dpi=360, bbox_inches='tight')\n",
    "# plt.savefig(\"frequency_quantity_ordered\", dpi=360)"
   ]
  },
  {
   "cell_type": "markdown",
   "metadata": {},
   "source": [
    "Okay, looks like it really is just a few people ordering a bunch of items. It's a tiny amount compared to 300k+ orders over 3 years.\n",
    "\n",
    "Let's check which items are the most popular so we can compare it against these bulk orders."
   ]
  },
  {
   "cell_type": "code",
   "execution_count": 10,
   "metadata": {},
   "outputs": [],
   "source": [
    "# # warning: hacky code to add colorings to food groups to color by\n",
    "\n",
    "# item_popularity = df.groupby('Item').sum().sort_values(by='Quantity Ordered', ascending=False)\n",
    "\n",
    "# starters = [\"Tom Kha Gai\", \"Sriracha Wings\", \"Chicken Satay\", \"Vegan Fresh Rolls\", \"Yellow Curry\"]\n",
    "# soup = [\"Tom Yum Gai\", \"Thai Beef Noodle Soup\", \"Tom Yum Goong\",\"Won Ton Soup\"]\n",
    "# salad = [\"Larb Gai\",\"Nam Kao Tod\",\"Yum Woonsen\",\"Som Tum\",\"Yum Nua\", \"Waterfall Mushroom and Tofu\", \"MyThai Salad\"]\n",
    "# barbecue = [\"Grilled Thai Steak\", \"Bar-B-Q Chicken\", \"Grilled Salmon\"]\n",
    "# sauteed = [\"Pad Gra Prow\", \"Pad Gra Tiem\", \"Pad Char\"]\n",
    "# vegetables = [\"Pad Ma Keur\", \"Pra Ram\", \"Pad Pak\", \"Pad Prig Khing\", \"Pad Ka Nar\"]\n",
    "# curries = [\"Green Curry\", \"Yellow Curry\", \"Red Curry\", \"Pumpkin Curry\"]\n",
    "# noodles_and_rice = [\"Pad Thai\", \"Pad See Ew\", \"Thai Fried Rice\", \"Pad Kee Mao\", \"Thai Streetfood Noodle\", \"Basil Fried Rice\"]\n",
    "# desserts = [\"Sticky Rice with Mango\"]\n",
    "\n",
    "# full_menu = [starters, soup, salad, barbecue, sauteed, vegetables, curries, noodles_and_rice, desserts]\n",
    "\n",
    "# def food_group(row):  # please please please refactor\n",
    "#     if row[1] in starters:\n",
    "#         return 'Starter'\n",
    "#     elif row[1] in soup:\n",
    "#         return 'Soup'\n",
    "#     elif row[1] in salad:\n",
    "#         return 'Salad'\n",
    "#     elif row[1] in barbecue:\n",
    "#         return 'Barbecue'\n",
    "#     elif row[1] in sauteed:\n",
    "#         return 'Sauteed'\n",
    "#     elif row[1] in vegetables:\n",
    "#         return 'Vegetables'\n",
    "#     elif row[1] in curries:\n",
    "#         return 'Curries'\n",
    "#     elif row[1] in noodles_and_rice:\n",
    "#         return 'Noodles/Rice'\n",
    "#     elif row[1] in desserts:\n",
    "#         return 'Desserts'\n",
    "#     else:\n",
    "#         return np.nan\n",
    "\n",
    "# # map in food group\n",
    "\n",
    "# # my_slice = item_popularity[index].iat[0]\n",
    "# # my_slice\n",
    "# # df['group'] = df.apply(lambda row: food_group(row), axis=1)\n",
    "# # df"
   ]
  },
  {
   "cell_type": "markdown",
   "metadata": {},
   "source": [
    "### Item popularity"
   ]
  },
  {
   "cell_type": "code",
   "execution_count": 11,
   "metadata": {},
   "outputs": [
    {
     "data": {
      "image/png": "[encoded data removed]",
      "text/plain": [
       "<Figure size 720x244.8 with 1 Axes>"
      ]
     },
     "metadata": {},
     "output_type": "display_data"
    }
   ],
   "source": [
    "item_popularity = df.groupby('Item').sum().sort_values(by='Quantity Ordered', ascending=False)\n",
    "\n",
    "plt.figure(figsize=(10,3.4))\n",
    "ax = sns.barplot(item_popularity.index, item_popularity['Quantity Ordered'])\n",
    "\n",
    "ax.set_xticklabels(ax.get_xticklabels(), rotation=45, horizontalalignment='right', fontsize=8)  # rotate if small figsize\n",
    "plt.title(\"Items by Quantity Ordered, Jan 2017 - Dec 2019\")\n",
    "plt.xlabel('')\n",
    "plt.ylabel(\"Sales in USD\");\n",
    "\n",
    "plt.savefig(\"items_quantity_ordered\", dpi=360, bbox_inches='tight')  # couldn't find a smart way to shift the axis so i used two images in slides"
   ]
  },
  {
   "cell_type": "code",
   "execution_count": 12,
   "metadata": {},
   "outputs": [
    {
     "ename": "SyntaxError",
     "evalue": "'break' outside loop (<ipython-input-12-6aaf1f276005>, line 1)",
     "output_type": "error",
     "traceback": [
      "\u001b[1;36m  File \u001b[1;32m\"<ipython-input-12-6aaf1f276005>\"\u001b[1;36m, line \u001b[1;32m1\u001b[0m\n\u001b[1;33m    break\u001b[0m\n\u001b[1;37m    ^\u001b[0m\n\u001b[1;31mSyntaxError\u001b[0m\u001b[1;31m:\u001b[0m 'break' outside loop\n"
     ]
    }
   ],
   "source": [
    "break"
   ]
  },
  {
   "cell_type": "markdown",
   "metadata": {},
   "source": [
    "Some observations:\n",
    "- There's a LOT of menu items, and a significanty drop off in popularity\n",
    "- Everybody loves sticky rice with mango\n",
    "- Some categories of items are really popular (like curries and soups)\n",
    "- Items with non-English names seem to be less popular\n",
    "\n",
    "We don't have expense information, but we could probably save a bunch of money by removing items from the menu. It's expensive to stock a big menu, and not that risky to remove it: if we get rid of an item, do we think it will cause a customer to eat elsewhere, or to just order something else? Does it even help us to have such a big menu in the first place?\n",
    "\n",
    "It also seems like an easy change to add English names (would be really easy to test too).\n",
    "\n",
    "Let's compare against sales next."
   ]
  },
  {
   "cell_type": "code",
   "execution_count": null,
   "metadata": {},
   "outputs": [],
   "source": [
    "ax = sns.barplot(item_popularity.index, item_popularity['Quantity Ordered'])\n",
    "\n",
    "ax2 = ax.twinx()\n",
    "sns.lineplot(item_popularity.index, item_popularity['Sales'], label='Sales', linewidth=3)  # consider increasing thickness, changing color\n",
    "\n",
    "ax.set_xticklabels(ax.get_xticklabels(), rotation=45, horizontalalignment='right')  # rotate if small figsize\n",
    "plt.title(\"Items by Quantity Ordered vs Sales, Jan 2017 - Dec 2019\")\n",
    "plt.ylabel(\"Sales in USD\");\n",
    "\n",
    "# plt.savefig(\"item_sales_vs_quantity_ordered\", dpi=100, bbox_inches='tight')"
   ]
  },
  {
   "cell_type": "markdown",
   "metadata": {},
   "source": [
    "More observations:\n",
    "- Interesting that the most sold item isn't the one generating the most profit - sticky rice is only 6 dollars.\n",
    "- The curries and soups are top tier popularity and sales. \n",
    "- There's a dip around appetizers (since they don't cost as much), but they aren't as popular as the sticky rice.\n",
    "- The BBQ items are expensive... combo them with something to sell more?\n",
    "- Seriously consider adding English names to the Thai dishes, some of these are so slept on.\n",
    "\n",
    "Sales is quantity ordered times the price. So even though sticky rice is the most popular, it doesn't make as much money as other dishes because it's cheap. It's only six dollars per dish.\n",
    "\n",
    "Let's check it against those big orders from earlier.\n",
    "\n",
    "<!-- (!) might be interesting to group this by menu type... \n",
    "\n",
    "Note on increasing number of orders: Alternatively, you could pair the most popular dish as a combo with even more popular dishes to get people to buy more. But you might be able to increase overall demand like this. The Bay Area has foodie culture, and if you're known for top tier Thai food and good prices, people will make the trip. In this case, you might want to consider some marketing stuff too. \n",
    "\n",
    "Could evaluate tradeoffs in order quantity vs price: e.g. if sticky rice was ten dollars, what percentage of customers could we afford to lose?\n",
    "... this is business recs that are beyond the point though. focus on the main idea here. \n",
    "\n",
    "-->"
   ]
  },
  {
   "cell_type": "markdown",
   "metadata": {},
   "source": [
    "### Check against big orders\n",
    "\n",
    "Let's check against those big orders from before to found out our product exploration."
   ]
  },
  {
   "cell_type": "code",
   "execution_count": null,
   "metadata": {},
   "outputs": [],
   "source": [
    "big_orders = df.loc[(df['Quantity Ordered'])>=9]\n",
    "grouped_big_orders = big_orders.groupby('Item').sum().sort_values(by='Quantity Ordered', ascending=False)\n",
    "\n",
    "ax = sns.barplot(grouped_big_orders.index, grouped_big_orders['Quantity Ordered'])\n",
    "\n",
    "ax2 = ax.twinx()\n",
    "sns.lineplot(grouped_big_orders.index, grouped_big_orders['Sales'], label='Sales', linewidth=3)  # consider increasing thickness, changing color\n",
    "\n",
    "ax.set_xticklabels(ax.get_xticklabels(), rotation=45, horizontalalignment='right')  # rotate if small figsize\n",
    "plt.title(\"Quantity Ordered 9 or Greater by Quantity Ordered vs Sales, Jan 2017 - Dec 2019\")\n",
    "plt.ylabel(\"Sales in USD\");\n",
    "\n",
    "# plt.savefig(\"big_orders\", dpi=100, bbox_inches='tight')"
   ]
  },
  {
   "cell_type": "markdown",
   "metadata": {},
   "source": [
    "I just picked 9 because a group of 6 doesn't seem unusual. Rare, but not really unusual. Would be cool if we had data on whether it was eat-in or takeout.\n",
    "\n",
    "Comparing this to all of the data, there doesn't seem to be a big difference. The orders are changed around, but for the most part the popular items are still popular and the unpopular items are still unpopular. It does look like there's relatively less sticky rice with mango purchases. So unfortunately nothing promising in big orders.\n",
    "\n",
    "Next let's look at what items people are buying together."
   ]
  },
  {
   "cell_type": "markdown",
   "metadata": {},
   "source": [
    "### Multiple items in one order"
   ]
  },
  {
   "cell_type": "code",
   "execution_count": null,
   "metadata": {},
   "outputs": [],
   "source": [
    "dupes_df = df.loc[(df['Order ID'].duplicated(keep=False))]\n",
    "dupes_df"
   ]
  },
  {
   "cell_type": "markdown",
   "metadata": {},
   "source": [
    "Looks like additional items in the same order are listed as another line with the same Order ID.\n",
    "\n",
    "Let's see if the dupes are any different than the individual products."
   ]
  },
  {
   "cell_type": "code",
   "execution_count": null,
   "metadata": {},
   "outputs": [],
   "source": [
    "dupes_popularity = dupes_df.groupby('Item').sum().sort_values(by='Quantity Ordered', ascending=False)\n",
    "\n",
    "ax = sns.barplot(dupes_popularity.index, dupes_popularity['Quantity Ordered'])\n",
    "\n",
    "ax2 = ax.twinx()\n",
    "sns.lineplot(dupes_popularity.index, dupes_popularity['Sales'], label='Sales', linewidth=3)  # consider increasing thickness, changing color\n",
    "\n",
    "ax.set_xticklabels(ax.get_xticklabels(), rotation=45, horizontalalignment='right')  # rotate if small figsize\n",
    "plt.title(\"Multiple Items in Order by Quantity Ordered vs Sales, Jan 2017 - Dec 2019\")\n",
    "plt.ylabel(\"Sales in USD\");\n",
    "\n",
    "# plt.savefig(\"multiple_items\", dpi=100, bbox_inches='tight')"
   ]
  },
  {
   "cell_type": "markdown",
   "metadata": {},
   "source": [
    "Wow, that's a huge jump. I guess it makes sense because most people who eat a meal will be full. And then the dessert is nice and also not very expensive.\n",
    "\n",
    "Things appear to be relatively even (following their item popularity from before) except for sticky rice with many which is way high. Also, the next most popular items are appetizers, which were ranked very low otherwise.\n",
    "\n",
    "For completeness, let's also look at orders not paired with sticky rice and mango."
   ]
  },
  {
   "cell_type": "code",
   "execution_count": null,
   "metadata": {},
   "outputs": [],
   "source": [
    "dupes_no_sticky_rice = df.loc[(df['Order ID'].duplicated(keep=False) & ~(df['Item'].str[0:6]==\"Sticky\"))]\n",
    "remaining_dupes = dupes_no_sticky_rice.loc[(dupes_no_sticky_rice['Order ID'].duplicated(keep=False))]\n",
    "grouped_remaining_dupes = remaining_dupes.groupby('Item').sum().sort_values(by='Quantity Ordered', ascending=False)\n",
    "\n",
    "# plt.figure(figsize=(12,9))\n",
    "ax = sns.barplot(grouped_remaining_dupes.index, grouped_remaining_dupes['Quantity Ordered'])\n",
    "\n",
    "ax2 = ax.twinx()\n",
    "sns.lineplot(grouped_remaining_dupes.index, grouped_remaining_dupes['Sales'], label='Sales', linewidth=3)  # consider increasing thickness, changing color\n",
    "\n",
    "ax.set_xticklabels(ax.get_xticklabels(), rotation=45, horizontalalignment='right')  # rotate if small figsize\n",
    "plt.title(\"Multiple Items in Orders not including Sticky Rice by Quantity Ordered vs Sales, Jan 2017 - Dec 2019\")\n",
    "plt.ylabel(\"Sales in USD\");"
   ]
  },
  {
   "cell_type": "markdown",
   "metadata": {},
   "source": [
    "So not including sticky rice, it looks like people also pair appetizers (it was just hard to see because of how much people like sticky rice). \n",
    "\n",
    "It looks like the rest of the distribution follows the item popularity. Let's quantify it quickly."
   ]
  },
  {
   "cell_type": "code",
   "execution_count": null,
   "metadata": {},
   "outputs": [],
   "source": [
    "# show number of appetizers in duplicate orders\n",
    "len(remaining_dupes.loc[(remaining_dupes['Item'].str[0:5]==\"Tom K\") | \n",
    "                   (remaining_dupes['Item'].str[0:5]==\"Srira\") | \n",
    "                   (remaining_dupes['Item'].str[0:5]==\"Chick\") | \n",
    "                   (remaining_dupes['Item'].str[0:5]==\"Vegan\")]\n",
    "   )"
   ]
  },
  {
   "cell_type": "code",
   "execution_count": null,
   "metadata": {},
   "outputs": [],
   "source": [
    "# duplicate pairings not including an appetizer (740)\n",
    "len(remaining_dupes.loc[~(remaining_dupes['Item'].str[0:5]==\"Tom K\") & \n",
    "                   ~(remaining_dupes['Item'].str[0:5]==\"Srira\") & \n",
    "                   ~(remaining_dupes['Item'].str[0:5]==\"Chick\") & \n",
    "                   ~(remaining_dupes['Item'].str[0:5]==\"Vegan\")]\n",
    "   )"
   ]
  },
  {
   "cell_type": "markdown",
   "metadata": {},
   "source": [
    "So excluding desserts, the FOUR appetizers are paired more frequently than every other dish.\n",
    "\n",
    "##### So our finding is that people very frequently frequently add the dessert the dessert to their order, and people pair the appetizers more than normal meals (but far less than the desserts).\n",
    "\n",
    "Maybe we can include this as a combo to encourage people to buy more expensive items, or to buy appetizers which don't seem to be especially popular as a pairing."
   ]
  },
  {
   "cell_type": "markdown",
   "metadata": {},
   "source": [
    "### Recap product recommendations\n",
    "\n",
    "I feel fine with this for an initial exploration. We could go on forever, but we already have some solid recommendations. Note that we are specifically looking to maximize sales (if we had expense information, we would be trying to maximize profit too).\n",
    "\n",
    "<!-- **Business recommendations** -->\n",
    "\n",
    "- Consider adding English names to the menu.\n",
    "\n",
    "- Consider raising the price of sticky rice? (tests elasticity...)\n",
    "\n",
    "- Consider offering combo meals w/ appetizers and profitable meals (perhaps pairing sticky rice and an appetizer with the profitable bbq items).\n",
    "\n",
    "<!-- The two ways to increase revenue are to get more customers into the restaurant, or to get customers already in the restaurant to spend more. If offering -->\n",
    "\n",
    "- Consider removing some of the less popular dishes from the menu.\n",
    "\n",
    "<!-- What combos can we offer? (i'm too tired to figure it out right now... probably pair sticky rice and/or an app w/ bbq items) -->\n",
    "\n",
    "<!-- **Test recommendations** -->\n",
    "\n",
    "<!-- In a testing scenario, we would want to test -->\n",
    "\n",
    "<!-- ...(!) I actually think about it better in terms of slides... -->\n",
    "\n",
    "<!-- ### a great way to think about the menu change: if you make the change, you only need 30% (random num) of your customers to stay to make the same amount of revenue. That assumes you're not also saving money + labor from stocking a bigger menu. -->"
   ]
  },
  {
   "cell_type": "markdown",
   "metadata": {},
   "source": [
    "# Best, worst months of sales?\n",
    "\n",
    "Now that we're familiar with the products, let's check out sales."
   ]
  },
  {
   "cell_type": "code",
   "execution_count": null,
   "metadata": {},
   "outputs": [],
   "source": [
    "month_total_sales = df.groupby('Month').sum()\n",
    "\n",
    "ax = sns.barplot(month_total_sales.index, month_total_sales['Sales'])\n",
    "\n",
    "plt.title(\"Jan 2017 - Dec 2019 Average Total Sales by Month\")\n",
    "plt.ylabel(\"Sales in USD\");\n",
    "\n",
    "# plt.savefig(\"average_profit_months\", dpi=100, bbox_inches='tight')"
   ]
  },
  {
   "cell_type": "markdown",
   "metadata": {},
   "source": [
    "This just shows gets us an idea of how much money we're looking at. It's cumulative months, so we'll probably look by month by year in a bit. But this is a quick way to get a picture of where things are. Looks like Nov/Dec are the highest, Jun/Jul/Aug are slightly high, and Feb is lower. This is a running total so the value might be slightly impacted by the number of days in the month though.\n"
   ]
  },
  {
   "cell_type": "code",
   "execution_count": null,
   "metadata": {},
   "outputs": [],
   "source": [
    "year_sales = df.groupby('Year').sum()\n",
    "\n",
    "plt.figure(figsize=(8,3.6))\n",
    "ax = sns.barplot(year_sales.index, year_sales['Sales'])\n",
    "\n",
    "plt.title(\"2017 - 2019 Sales by Year\")\n",
    "plt.xlabel('')\n",
    "plt.ylabel(\"Sales in USD (millions)\");\n",
    "\n",
    "plt.savefig(\"profit_years\", dpi=360, bbox_inches='tight')"
   ]
  },
  {
   "cell_type": "code",
   "execution_count": null,
   "metadata": {},
   "outputs": [],
   "source": [
    "year_sales"
   ]
  },
  {
   "cell_type": "code",
   "execution_count": null,
   "metadata": {},
   "outputs": [],
   "source": [
    "# change in revenue from 2017 to 2018\n",
    "print(year_sales['Sales'][2018] - year_sales['Sales'][2017])\n",
    "print(year_sales['Sales'][2018]/year_sales['Sales'][2017]/100)"
   ]
  },
  {
   "cell_type": "code",
   "execution_count": null,
   "metadata": {},
   "outputs": [],
   "source": [
    "# change in revenue from 2018 to 2019\n",
    "print(year_sales['Sales'][2019] - year_sales['Sales'][2018])\n",
    "print(year_sales['Sales'][2019]/year_sales['Sales'][2018]/100)"
   ]
  },
  {
   "cell_type": "markdown",
   "metadata": {},
   "source": [
    "Sales look similar between years. Trending upwards, but not significantly enough to note. 2019's sales are about 1% higher than 2017's.\n",
    "\n",
    "This isn't a new restaurant, so it's likely the demand has settled to the market. It's beyond the scope of this analysis, but you could look at trends for other restaurants in the area to get an idea of how much the area affects sales (as opposed to effort from the restaurant team). "
   ]
  },
  {
   "cell_type": "code",
   "execution_count": null,
   "metadata": {},
   "outputs": [],
   "source": [
    "month_names = ['Jan', 'Feb', 'Mar', 'Apr', 'May', 'Jun', 'Jul', 'Aug', 'Sep', 'Oct', 'Nov', 'Dec']\n",
    "\n",
    "month_sales = df.groupby(['Year', 'Month']).sum().reset_index()\n",
    "month_sales['month_names'] = month_names*3  # jank way to add month_names columns for xtick names\n",
    "\n",
    "plt.figure(figsize=(8,3.75))\n",
    "ax = sns.barplot(data=month_sales, x='month_names', y='Sales', ci=95)\n",
    "\n",
    "plt.title(\"Jan 2017 - Dec 2019 Average Sales by Month\")\n",
    "plt.xlabel('')\n",
    "plt.ylabel(\"Sales in USD\");\n",
    "\n",
    "# check: most of the highest values are from 2019\n",
    "# sales_2019 = df.loc[(df['Year']==2019)]\n",
    "# month_sales_2019 = sales_2019.groupby('Month').sum()\n",
    "# ax = sns.pointplot(month_sales_2019.index, month_sales_2019['Sales'], marker='.', join=False)\n",
    "\n",
    "plt.savefig(\"average_profit_months\", dpi=360, bbox_inches='tight')"
   ]
  },
  {
   "cell_type": "markdown",
   "metadata": {},
   "source": [
    "This shows us the average sales per month, as well as the highest and lowest recorded in any year. Note that most of the highest values are from 2019, as the restaurants business has been trending (slightly) upwards.\n",
    "\n",
    "We mostly see that November and December are significantly higher, and that the summer months are slightly higher. February looks really low, but it might just be because it has slightly less days.\n",
    "\n",
    "The bars show standard error, which is a measure of how confident we are about the distribution. For this visualization, we can be pretty sure about the trends we've noticed."
   ]
  },
  {
   "cell_type": "code",
   "execution_count": null,
   "metadata": {},
   "outputs": [],
   "source": [
    "# average weekday sales with range  # (!) this graph is wrong, should show mean instead\n",
    "weekday_sales_without_monday = df.groupby(['Year', 'Month', 'Weekday Value', 'Weekday']).sum().reset_index()\n",
    "\n",
    "weekday_sales = pd.DataFrame(columns=weekday_sales_without_monday.columns)\n",
    "monday_row = {'Weekday': 'Monday', 'Sales': 0}  # show mondays are closed\n",
    "\n",
    "weekday_sales = weekday_sales.append(monday_row, ignore_index=True)\n",
    "weekday_sales = pd.concat([weekday_sales, weekday_sales_without_monday]).reset_index(drop=True)\n",
    "\n",
    "plt.figure(figsize=(8,3.75))\n",
    "ax = sns.barplot(data=weekday_sales, x='Weekday', y='Sales', ci=95)\n",
    "\n",
    "plt.title(\"Jan 2017 - Dec 2019 Average Sales by Weekday per year\")\n",
    "plt.xlabel('')\n",
    "plt.ylabel(\"Sales in USD\");\n",
    "\n",
    "plt.savefig(\"average_profit_weekdays\", dpi=360, bbox_inches='tight')"
   ]
  },
  {
   "cell_type": "markdown",
   "metadata": {},
   "source": [
    "From looking at the weekdays, we see that Wednesdays are pretty consistently the least popular days of the week. There's a dip, so could we add money by opening on Mondays instead of Wednesdays?\n",
    "\n",
    "Our hypothesis might be that opening on Mondays instead of Wednesdays will increase sales by X amount. We will open on Mondays for a month, and afterwards will consider it a success if the Monday sales are in X range.\n",
    "\n",
    "If we make more money over the course of a month on Mondays than we do on Wednesdays, that's obviously a good thing. We can value the experiment by taking the the change in revenue from Monday/Wednesday minus the amount of effort/labor that went into the experiment.\n",
    "<!-- evaluate these differences in the experiments notebook. -->"
   ]
  },
  {
   "cell_type": "code",
   "execution_count": null,
   "metadata": {},
   "outputs": [],
   "source": [
    "# it might even be a waste of space to even include this visualization.\n",
    "\n",
    "hour_sales = df.groupby(['Year', 'Month', 'Weekday', 'Hour']).sum().reset_index()\n",
    "\n",
    "ax = sns.barplot(data=hour_sales, x='Hour', y='Sales')\n",
    "\n",
    "plt.title(\"Jan 2017 - Dec 2019 Average Sales by Business Hour\")\n",
    "plt.ylabel(\"Sales in USD\");"
   ]
  },
  {
   "cell_type": "markdown",
   "metadata": {},
   "source": [
    "This gives averages, which is fine because we have so many data points, but isn't helpful aside from showing us that the early lunch hours are the least profitable. Maybe they should just be open from 12-4 every day instead of being open from 11-3 on weekdays. That would also be pretty easy to test.\n",
    "\n",
    "Let's look at the hours for each day instead though."
   ]
  },
  {
   "cell_type": "code",
   "execution_count": null,
   "metadata": {},
   "outputs": [],
   "source": [
    "weekdays = ['Tuesday', 'Wednesday', 'Thursday', 'Friday', 'Saturday', 'Sunday']\n",
    "\n",
    "plt.figure(figsize=(8,3.75))\n",
    "\n",
    "for weekday in weekdays:\n",
    "    day_sales_filtered = df.loc[(df['Weekday'] == weekday)]\n",
    "    day_sales = day_sales_filtered.groupby('Hour').sum()\n",
    "    day_values = []\n",
    "    for hour in range(0,24):\n",
    "        if hour not in day_sales.index:\n",
    "            day_values.append(0)\n",
    "        else:\n",
    "            day_values.append(day_sales[\"Sales\"][hour])\n",
    "    ax = sns.lineplot(x=range(0,24), y=day_values, label=weekday, linewidth=4)\n",
    "\n",
    "plt.xticks(list(range(24)))\n",
    "plt.ylabel(\"Sales in USD\")\n",
    "plt.title(\"Jan 2017 - Dec 2019 Total Sales per Hour by Weekday\");\n",
    "\n",
    "plt.savefig(\"weekday_profit_hours\", dpi=360, bbox_inches='tight')  # might want to fix x axis"
   ]
  },
  {
   "cell_type": "markdown",
   "metadata": {},
   "source": [
    "We can see here that Wednesday is pretty much the lowest day (even lower than Tuesday or Thursday), so maybe switching the off day from Monday to Wednesday might be something to try.\n",
    "\n",
    "At a glance, you might consider changing up weekday hours from 11am-3pm to 12pm-4pm since the sales are higher there. But we can be pretty sure that weekend hours and customer availability are much better on weekends."
   ]
  },
  {
   "cell_type": "markdown",
   "metadata": {},
   "source": [
    "# Let's recap our suggestions"
   ]
  },
  {
   "cell_type": "markdown",
   "metadata": {},
   "source": [
    "### Immediate business recommendations\n",
    "\n",
    "These are low hanging fruit that are easy to implement and would almost certainly improve profits immediately. The only reason to not implement these right away is if you have other things you want to test first. \n",
    "\n",
    "- Add English names to the menu.\n",
    "\n",
    "- Raise the price of sticky rice - \\\\$6.50 or $7.00 doesn't seem unreasonable.\n",
    "\n",
    "- Remove some of the less popular dishes from the menu.\n",
    "\n",
    "- Note which items are vegetarian/vegan.\n",
    "\n"
   ]
  },
  {
   "cell_type": "markdown",
   "metadata": {},
   "source": [
    "### Business recommendations to be validated\n",
    "\n",
    "Recommendations that are probably good but should be checked with management, or validated with some user testing.\n",
    "\n",
    "- Close on Wednesdays instead of Mondays (if you were really worried, you could try staying open 7 days/week, but I recognize that's not realistic).\n",
    "- Offer combos such as sticky rice and an appetizer with profitable bbq items? (pair w/ marketing of value proposition)\n",
    "\n",
    "Note on combos: Offering combos increases the value proposition, which might increase the sales from customers who are already in the restaurant. But to really make it worth it, you would want to engage in some kind of marketing to amplify the customers who make it to your store.\n",
    "<!-- (cost-benefit analysis the 'worth-it' here because it might be worth it with that alone) -->\n",
    "\n",
    "**In the next notebook, we'll look at experimental design and assume we weren't the one who did the analysis role.**\n",
    "\n",
    "<!-- Maybe remove the least purchased dishes from the menu? Would need some information on how expensive it is to stock/prepare each item, but the business could become more lean this way.\n",
    "\n",
    "(?) What's the value prop? Is it important to have such variety, or could they focus on doing a few dishes really really well?\n",
    "\n",
    "Maybe pair the most popular dish with some less popular dishes (to encourage people to try other stuff).\n",
    "\n",
    "Alternatively, you could pair the most popular dish as a combo with even more popular dishes to get people to buy more. But you might be able to increase overall demand like this. The Bay Area has foodie culture, and if you're known for top tier Thai food and good prices, people will make the trip. In this case, you might want to consider some marketing stuff too. -->\n",
    "\n",
    "<!-- ### Conceptualize restaurant revenue model; move downwards after exploration complete!\n",
    "\n",
    "### (?) We can use a conceptual model of the restaurant's revenue to check we haven't missed anything huge.\n",
    "\n",
    "Now that we've seen the data, let's build a basic business model so we have an idea of what to look for. The restaurant's revenue model can be conceptualized as a product of two major factors:\n",
    "1. How many people eat at the restaurant? (How many orders will it get?)\n",
    "2. What do those customers eat? (How much is each order worth?)\n",
    "\n",
    "We can create a basic revenue model by considering the drivers of those two factors. (Red notes drivers we can directly affect). \n",
    "\n",
    "![](revenue_model.jpg)\n",
    "\n",
    "Here are some questions that might be helpful to think about during our initial exploration:\n",
    "* What hours are the best? (check against sales and orders)\n",
    "* What items are the most popular? (We can try combo meals instead of simply dropping prices)\n",
    "##### (?) if we increase value offered, will the cost/order go up?\n",
    "\n",
    "It's out of scope for this notebook, but you could also consider deeper analysis such as:\n",
    "* Market trends in the area\n",
    "* Competitive analysis on other restaurants in the area, especially Thai restaurants\n",
    "* Does the ordering of the menu items affect the menu? -->"
   ]
  },
  {
   "cell_type": "markdown",
   "metadata": {},
   "source": [
    "### Other stuff to add in the future\n",
    "\n",
    "These are low priority things that are are a bit out of scope, since we already have a bunch of high priority recommendations.\n",
    "- time series forecast on revenue\n",
    "- It looks way important to be open for December. Run a calculation that shows just how important. Seriously, hire seasonal help. \n",
    "- Order date is time accurate, not order ID accurate... woops."
   ]
  }
 ],
 "metadata": {
  "kernelspec": {
   "display_name": "Python 3",
   "language": "python",
   "name": "python3"
  },
  "language_info": {
   "codemirror_mode": {
    "name": "ipython",
    "version": 3
   },
   "file_extension": ".py",
   "mimetype": "text/x-python",
   "name": "python",
   "nbconvert_exporter": "python",
   "pygments_lexer": "ipython3",
   "version": "3.8.3"
  }
 },
 "nbformat": 4,
 "nbformat_minor": 4
}
