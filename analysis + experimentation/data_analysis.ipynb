{
 "cells": [
  {
   "cell_type": "markdown",
   "metadata": {},
   "source": [
    "# Analysis of generated data\n",
    "\n",
    "Analyze experiment results, present findings. Notebook input is data, output is A/B test suggestions.\n",
    "\n",
    "### (!) talk some more about the goal here\n",
    "\n",
    "Links to learn more about the business:\n",
    "- Restaurant [website](http://thaitanicstreetfood.com/)\n",
    "- Google [live search results](https://www.google.com/search?q=thai+tanic+sausalito) ([backup](https://github.com/onederekchen/thaitanic/blob/main/data/popular_times/full_view.PNG))\n",
    "- [Menu backup](https://github.com/onederekchen/thaitanic/blob/main/data/menus/thaitanic_menu_original%2010.2020.pdf) (menu has changed since project debut)"
   ]
  },
  {
   "cell_type": "markdown",
   "metadata": {},
   "source": [
    "### Import libraries"
   ]
  },
  {
   "cell_type": "code",
   "execution_count": 1,
   "metadata": {},
   "outputs": [],
   "source": [
    "import pandas as pd\n",
    "pd.options.display.max_rows = 10  # limit huge ouputs\n",
    "import os\n",
    "import datetime\n",
    "import matplotlib.pyplot as plt\n",
    "import seaborn as sns\n",
    "plt.style.use('ggplot')  # plt.style.available\n",
    "\n",
    "import warnings\n",
    "warnings.filterwarnings(\"ignore\")  # filter warnings"
   ]
  },
  {
   "cell_type": "markdown",
   "metadata": {},
   "source": [
    "### Get data\n",
    "\n",
    "Merge monthly order data into single .csv file. Raw files available on [Github](https://github.com/onederekchen/thaitanic/tree/main/data/raw_data)."
   ]
  },
  {
   "cell_type": "code",
   "execution_count": 2,
   "metadata": {},
   "outputs": [
    {
     "name": "stdout",
     "output_type": "stream",
     "text": [
      "36 months of data!\n"
     ]
    }
   ],
   "source": [
    "path = \"../data/raw_data_updated/\"\n",
    "\n",
    "all_months_data = pd.DataFrame()\n",
    "number_of_files = 0\n",
    "\n",
    "for file in os.listdir(path):\n",
    "    if not file.startswith('.'):  # ignore hidden files\n",
    "        current_month_data = pd.read_csv(path+file)\n",
    "        all_months_data = pd.concat([all_months_data, current_month_data])\n",
    "        number_of_files += 1\n",
    "\n",
    "# remove unnamed column (fixed for future generations!)\n",
    "# all_months_data = all_months_data.loc[:, ~all_months_data.columns.str.contains('^Unnamed')]\n",
    "    \n",
    "# original code # all_months_data.to_csv('all_data.csv', index=False)  # don't want to re-save csv every time\n",
    "# all_months_data.to_csv('all_data_updated.csv', index=False)  # don't want to re-save csv every time\n",
    "\n",
    "print(f\"{number_of_files} months of data!\")"
   ]
  },
  {
   "cell_type": "code",
   "execution_count": 10,
   "metadata": {},
   "outputs": [
    {
     "data": {
      "text/html": [
       "<div>\n",
       "<style scoped>\n",
       "    .dataframe tbody tr th:only-of-type {\n",
       "        vertical-align: middle;\n",
       "    }\n",
       "\n",
       "    .dataframe tbody tr th {\n",
       "        vertical-align: top;\n",
       "    }\n",
       "\n",
       "    .dataframe thead th {\n",
       "        text-align: right;\n",
       "    }\n",
       "</style>\n",
       "<table border=\"1\" class=\"dataframe\">\n",
       "  <thead>\n",
       "    <tr style=\"text-align: right;\">\n",
       "      <th></th>\n",
       "      <th>Order ID</th>\n",
       "      <th>Item</th>\n",
       "      <th>Quantity Ordered</th>\n",
       "      <th>Price Each</th>\n",
       "      <th>Order Date</th>\n",
       "    </tr>\n",
       "  </thead>\n",
       "  <tbody>\n",
       "    <tr>\n",
       "      <th>0</th>\n",
       "      <td>314272</td>\n",
       "      <td>Red Curry</td>\n",
       "      <td>1</td>\n",
       "      <td>12</td>\n",
       "      <td>2019-12-31 20:59:00</td>\n",
       "    </tr>\n",
       "    <tr>\n",
       "      <th>1</th>\n",
       "      <td>314305</td>\n",
       "      <td>Thai Fried Rice</td>\n",
       "      <td>1</td>\n",
       "      <td>12</td>\n",
       "      <td>2019-12-31 20:55:00</td>\n",
       "    </tr>\n",
       "    <tr>\n",
       "      <th>2</th>\n",
       "      <td>314297</td>\n",
       "      <td>Yellow Curry</td>\n",
       "      <td>1</td>\n",
       "      <td>12</td>\n",
       "      <td>2019-12-31 20:55:00</td>\n",
       "    </tr>\n",
       "    <tr>\n",
       "      <th>3</th>\n",
       "      <td>314261</td>\n",
       "      <td>Pad Thai</td>\n",
       "      <td>1</td>\n",
       "      <td>12</td>\n",
       "      <td>2019-12-31 20:54:00</td>\n",
       "    </tr>\n",
       "    <tr>\n",
       "      <th>4</th>\n",
       "      <td>314288</td>\n",
       "      <td>Tom Yum Gai</td>\n",
       "      <td>2</td>\n",
       "      <td>12</td>\n",
       "      <td>2019-12-31 20:53:00</td>\n",
       "    </tr>\n",
       "    <tr>\n",
       "      <th>...</th>\n",
       "      <td>...</td>\n",
       "      <td>...</td>\n",
       "      <td>...</td>\n",
       "      <td>...</td>\n",
       "      <td>...</td>\n",
       "    </tr>\n",
       "    <tr>\n",
       "      <th>326935</th>\n",
       "      <td>3919</td>\n",
       "      <td>Tom Kha Gai</td>\n",
       "      <td>2</td>\n",
       "      <td>12</td>\n",
       "      <td>2017-01-01 12:04:00</td>\n",
       "    </tr>\n",
       "    <tr>\n",
       "      <th>326936</th>\n",
       "      <td>3951</td>\n",
       "      <td>Pad See Ew</td>\n",
       "      <td>1</td>\n",
       "      <td>12</td>\n",
       "      <td>2017-01-01 12:02:00</td>\n",
       "    </tr>\n",
       "    <tr>\n",
       "      <th>326937</th>\n",
       "      <td>3940</td>\n",
       "      <td>Red Curry</td>\n",
       "      <td>2</td>\n",
       "      <td>12</td>\n",
       "      <td>2017-01-01 12:02:00</td>\n",
       "    </tr>\n",
       "    <tr>\n",
       "      <th>326938</th>\n",
       "      <td>3913</td>\n",
       "      <td>Pumpkin Curry</td>\n",
       "      <td>1</td>\n",
       "      <td>15</td>\n",
       "      <td>2017-01-01 12:02:00</td>\n",
       "    </tr>\n",
       "    <tr>\n",
       "      <th>326939</th>\n",
       "      <td>3915</td>\n",
       "      <td>Thai Beef Noodle Soup</td>\n",
       "      <td>1</td>\n",
       "      <td>12</td>\n",
       "      <td>2017-01-01 12:01:00</td>\n",
       "    </tr>\n",
       "  </tbody>\n",
       "</table>\n",
       "<p>326940 rows × 5 columns</p>\n",
       "</div>"
      ],
      "text/plain": [
       "        Order ID                   Item  Quantity Ordered  Price Each  \\\n",
       "0         314272              Red Curry                 1          12   \n",
       "1         314305        Thai Fried Rice                 1          12   \n",
       "2         314297           Yellow Curry                 1          12   \n",
       "3         314261               Pad Thai                 1          12   \n",
       "4         314288            Tom Yum Gai                 2          12   \n",
       "...          ...                    ...               ...         ...   \n",
       "326935      3919            Tom Kha Gai                 2          12   \n",
       "326936      3951             Pad See Ew                 1          12   \n",
       "326937      3940              Red Curry                 2          12   \n",
       "326938      3913          Pumpkin Curry                 1          15   \n",
       "326939      3915  Thai Beef Noodle Soup                 1          12   \n",
       "\n",
       "                 Order Date  \n",
       "0       2019-12-31 20:59:00  \n",
       "1       2019-12-31 20:55:00  \n",
       "2       2019-12-31 20:55:00  \n",
       "3       2019-12-31 20:54:00  \n",
       "4       2019-12-31 20:53:00  \n",
       "...                     ...  \n",
       "326935  2017-01-01 12:04:00  \n",
       "326936  2017-01-01 12:02:00  \n",
       "326937  2017-01-01 12:02:00  \n",
       "326938  2017-01-01 12:02:00  \n",
       "326939  2017-01-01 12:01:00  \n",
       "\n",
       "[326940 rows x 5 columns]"
      ]
     },
     "execution_count": 10,
     "metadata": {},
     "output_type": "execute_result"
    }
   ],
   "source": [
    "# original code # df = pd.read_csv(\"../data/all_data.csv\").sort_values(by='Order Date', ascending=False)\n",
    "df = pd.read_csv(\"../data/all_data_updated.csv\").sort_values(by='Order Date', ascending=False)\n",
    "df.reset_index(drop=True, inplace=True)\n",
    "df"
   ]
  },
  {
   "cell_type": "markdown",
   "metadata": {},
   "source": [
    "# Clean data"
   ]
  },
  {
   "cell_type": "code",
   "execution_count": 11,
   "metadata": {},
   "outputs": [
    {
     "data": {
      "text/plain": [
       "Order ID            0\n",
       "Item                0\n",
       "Quantity Ordered    0\n",
       "Price Each          0\n",
       "Order Date          0\n",
       "dtype: int64"
      ]
     },
     "execution_count": 11,
     "metadata": {},
     "output_type": "execute_result"
    }
   ],
   "source": [
    "df.isnull().sum()  # suspiciously/conveniently clean"
   ]
  },
  {
   "cell_type": "code",
   "execution_count": 12,
   "metadata": {},
   "outputs": [
    {
     "data": {
      "text/plain": [
       "Order ID                     int64\n",
       "Item                        object\n",
       "Quantity Ordered             int64\n",
       "Price Each                   int64\n",
       "Order Date          datetime64[ns]\n",
       "dtype: object"
      ]
     },
     "execution_count": 12,
     "metadata": {},
     "output_type": "execute_result"
    }
   ],
   "source": [
    "df['Order Date'] = pd.to_datetime(df['Order Date'])\n",
    "\n",
    "df.dtypes"
   ]
  },
  {
   "cell_type": "markdown",
   "metadata": {},
   "source": [
    "# Augment data"
   ]
  },
  {
   "cell_type": "code",
   "execution_count": 13,
   "metadata": {},
   "outputs": [],
   "source": [
    "df['Sales'] = df['Quantity Ordered'] * df['Price Each']\n",
    "\n",
    "df['Year'] = df['Order Date'].dt.year\n",
    "\n",
    "df['Month'] = df['Order Date'].dt.month\n",
    "\n",
    "df['Weekday'] = df['Order Date'].dt.day_name()\n",
    "\n",
    "df['Weekday Value'] = df['Order Date'].dt.weekday\n",
    "\n",
    "df['Hour'] = df['Order Date'].dt.hour"
   ]
  },
  {
   "cell_type": "markdown",
   "metadata": {},
   "source": [
    "# Explore data"
   ]
  },
  {
   "cell_type": "code",
   "execution_count": 14,
   "metadata": {},
   "outputs": [
    {
     "data": {
      "text/html": [
       "<div>\n",
       "<style scoped>\n",
       "    .dataframe tbody tr th:only-of-type {\n",
       "        vertical-align: middle;\n",
       "    }\n",
       "\n",
       "    .dataframe tbody tr th {\n",
       "        vertical-align: top;\n",
       "    }\n",
       "\n",
       "    .dataframe thead th {\n",
       "        text-align: right;\n",
       "    }\n",
       "</style>\n",
       "<table border=\"1\" class=\"dataframe\">\n",
       "  <thead>\n",
       "    <tr style=\"text-align: right;\">\n",
       "      <th></th>\n",
       "      <th>Order ID</th>\n",
       "      <th>Quantity Ordered</th>\n",
       "      <th>Price Each</th>\n",
       "      <th>Sales</th>\n",
       "      <th>Year</th>\n",
       "      <th>Month</th>\n",
       "      <th>Weekday Value</th>\n",
       "      <th>Hour</th>\n",
       "    </tr>\n",
       "  </thead>\n",
       "  <tbody>\n",
       "    <tr>\n",
       "      <th>count</th>\n",
       "      <td>326940.000000</td>\n",
       "      <td>326940.000000</td>\n",
       "      <td>326940.000000</td>\n",
       "      <td>326940.000000</td>\n",
       "      <td>326940.000000</td>\n",
       "      <td>326940.000000</td>\n",
       "      <td>326940.000000</td>\n",
       "      <td>326940.000000</td>\n",
       "    </tr>\n",
       "    <tr>\n",
       "      <th>mean</th>\n",
       "      <td>159074.723393</td>\n",
       "      <td>1.581205</td>\n",
       "      <td>12.142941</td>\n",
       "      <td>19.199110</td>\n",
       "      <td>2018.006420</td>\n",
       "      <td>6.826938</td>\n",
       "      <td>3.733376</td>\n",
       "      <td>15.868233</td>\n",
       "    </tr>\n",
       "    <tr>\n",
       "      <th>std</th>\n",
       "      <td>89609.185179</td>\n",
       "      <td>0.959682</td>\n",
       "      <td>2.906082</td>\n",
       "      <td>12.810655</td>\n",
       "      <td>0.817137</td>\n",
       "      <td>3.493723</td>\n",
       "      <td>1.709218</td>\n",
       "      <td>2.955906</td>\n",
       "    </tr>\n",
       "    <tr>\n",
       "      <th>min</th>\n",
       "      <td>3910.000000</td>\n",
       "      <td>1.000000</td>\n",
       "      <td>6.000000</td>\n",
       "      <td>6.000000</td>\n",
       "      <td>2017.000000</td>\n",
       "      <td>1.000000</td>\n",
       "      <td>1.000000</td>\n",
       "      <td>11.000000</td>\n",
       "    </tr>\n",
       "    <tr>\n",
       "      <th>25%</th>\n",
       "      <td>81514.750000</td>\n",
       "      <td>1.000000</td>\n",
       "      <td>12.000000</td>\n",
       "      <td>12.000000</td>\n",
       "      <td>2017.000000</td>\n",
       "      <td>4.000000</td>\n",
       "      <td>2.000000</td>\n",
       "      <td>13.000000</td>\n",
       "    </tr>\n",
       "    <tr>\n",
       "      <th>50%</th>\n",
       "      <td>159018.500000</td>\n",
       "      <td>1.000000</td>\n",
       "      <td>12.000000</td>\n",
       "      <td>12.000000</td>\n",
       "      <td>2018.000000</td>\n",
       "      <td>7.000000</td>\n",
       "      <td>4.000000</td>\n",
       "      <td>17.000000</td>\n",
       "    </tr>\n",
       "    <tr>\n",
       "      <th>75%</th>\n",
       "      <td>236693.250000</td>\n",
       "      <td>2.000000</td>\n",
       "      <td>12.000000</td>\n",
       "      <td>24.000000</td>\n",
       "      <td>2019.000000</td>\n",
       "      <td>10.000000</td>\n",
       "      <td>5.000000</td>\n",
       "      <td>19.000000</td>\n",
       "    </tr>\n",
       "    <tr>\n",
       "      <th>max</th>\n",
       "      <td>314307.000000</td>\n",
       "      <td>15.000000</td>\n",
       "      <td>22.000000</td>\n",
       "      <td>220.000000</td>\n",
       "      <td>2019.000000</td>\n",
       "      <td>12.000000</td>\n",
       "      <td>6.000000</td>\n",
       "      <td>20.000000</td>\n",
       "    </tr>\n",
       "  </tbody>\n",
       "</table>\n",
       "</div>"
      ],
      "text/plain": [
       "            Order ID  Quantity Ordered     Price Each          Sales  \\\n",
       "count  326940.000000     326940.000000  326940.000000  326940.000000   \n",
       "mean   159074.723393          1.581205      12.142941      19.199110   \n",
       "std     89609.185179          0.959682       2.906082      12.810655   \n",
       "min      3910.000000          1.000000       6.000000       6.000000   \n",
       "25%     81514.750000          1.000000      12.000000      12.000000   \n",
       "50%    159018.500000          1.000000      12.000000      12.000000   \n",
       "75%    236693.250000          2.000000      12.000000      24.000000   \n",
       "max    314307.000000         15.000000      22.000000     220.000000   \n",
       "\n",
       "                Year          Month  Weekday Value           Hour  \n",
       "count  326940.000000  326940.000000  326940.000000  326940.000000  \n",
       "mean     2018.006420       6.826938       3.733376      15.868233  \n",
       "std         0.817137       3.493723       1.709218       2.955906  \n",
       "min      2017.000000       1.000000       1.000000      11.000000  \n",
       "25%      2017.000000       4.000000       2.000000      13.000000  \n",
       "50%      2018.000000       7.000000       4.000000      17.000000  \n",
       "75%      2019.000000      10.000000       5.000000      19.000000  \n",
       "max      2019.000000      12.000000       6.000000      20.000000  "
      ]
     },
     "execution_count": 14,
     "metadata": {},
     "output_type": "execute_result"
    }
   ],
   "source": [
    "df.describe()"
   ]
  },
  {
   "cell_type": "markdown",
   "metadata": {},
   "source": [
    "The lowest Order ID is 3910: maybe Thaitanic started recording data or switched to a new system in December 2016, and just gave us data from January 2017 onwards.  \n",
    "\n",
    "We're looking at almost 9000 orders per month. With 36 months of data, about 25 open days per month and 8 open hours per day, we're looking at about 350 orders per day, or 40 orders per hour.\n",
    "\n",
    "At least half of the orders are just a single item, although someone ordered 15!! items. It's probably a business ordering catering, or maybe someone really likes Thai food. No judgement.\n",
    "\n",
    "The cheapest item is 6 dollars while the most expensive is 22."
   ]
  },
  {
   "cell_type": "code",
   "execution_count": 15,
   "metadata": {},
   "outputs": [
    {
     "data": {
      "text/html": [
       "<div>\n",
       "<style scoped>\n",
       "    .dataframe tbody tr th:only-of-type {\n",
       "        vertical-align: middle;\n",
       "    }\n",
       "\n",
       "    .dataframe tbody tr th {\n",
       "        vertical-align: top;\n",
       "    }\n",
       "\n",
       "    .dataframe thead th {\n",
       "        text-align: right;\n",
       "    }\n",
       "</style>\n",
       "<table border=\"1\" class=\"dataframe\">\n",
       "  <thead>\n",
       "    <tr style=\"text-align: right;\">\n",
       "      <th></th>\n",
       "      <th>Order ID</th>\n",
       "      <th>Item</th>\n",
       "      <th>Price Each</th>\n",
       "      <th>Order Date</th>\n",
       "      <th>Sales</th>\n",
       "      <th>Year</th>\n",
       "      <th>Month</th>\n",
       "      <th>Weekday</th>\n",
       "      <th>Weekday Value</th>\n",
       "      <th>Hour</th>\n",
       "    </tr>\n",
       "    <tr>\n",
       "      <th>Quantity Ordered</th>\n",
       "      <th></th>\n",
       "      <th></th>\n",
       "      <th></th>\n",
       "      <th></th>\n",
       "      <th></th>\n",
       "      <th></th>\n",
       "      <th></th>\n",
       "      <th></th>\n",
       "      <th></th>\n",
       "      <th></th>\n",
       "    </tr>\n",
       "  </thead>\n",
       "  <tbody>\n",
       "    <tr>\n",
       "      <th>1</th>\n",
       "      <td>206731</td>\n",
       "      <td>206731</td>\n",
       "      <td>206731</td>\n",
       "      <td>206731</td>\n",
       "      <td>206731</td>\n",
       "      <td>206731</td>\n",
       "      <td>206731</td>\n",
       "      <td>206731</td>\n",
       "      <td>206731</td>\n",
       "      <td>206731</td>\n",
       "    </tr>\n",
       "    <tr>\n",
       "      <th>2</th>\n",
       "      <td>76121</td>\n",
       "      <td>76121</td>\n",
       "      <td>76121</td>\n",
       "      <td>76121</td>\n",
       "      <td>76121</td>\n",
       "      <td>76121</td>\n",
       "      <td>76121</td>\n",
       "      <td>76121</td>\n",
       "      <td>76121</td>\n",
       "      <td>76121</td>\n",
       "    </tr>\n",
       "    <tr>\n",
       "      <th>3</th>\n",
       "      <td>27918</td>\n",
       "      <td>27918</td>\n",
       "      <td>27918</td>\n",
       "      <td>27918</td>\n",
       "      <td>27918</td>\n",
       "      <td>27918</td>\n",
       "      <td>27918</td>\n",
       "      <td>27918</td>\n",
       "      <td>27918</td>\n",
       "      <td>27918</td>\n",
       "    </tr>\n",
       "    <tr>\n",
       "      <th>4</th>\n",
       "      <td>10127</td>\n",
       "      <td>10127</td>\n",
       "      <td>10127</td>\n",
       "      <td>10127</td>\n",
       "      <td>10127</td>\n",
       "      <td>10127</td>\n",
       "      <td>10127</td>\n",
       "      <td>10127</td>\n",
       "      <td>10127</td>\n",
       "      <td>10127</td>\n",
       "    </tr>\n",
       "    <tr>\n",
       "      <th>5</th>\n",
       "      <td>3855</td>\n",
       "      <td>3855</td>\n",
       "      <td>3855</td>\n",
       "      <td>3855</td>\n",
       "      <td>3855</td>\n",
       "      <td>3855</td>\n",
       "      <td>3855</td>\n",
       "      <td>3855</td>\n",
       "      <td>3855</td>\n",
       "      <td>3855</td>\n",
       "    </tr>\n",
       "    <tr>\n",
       "      <th>...</th>\n",
       "      <td>...</td>\n",
       "      <td>...</td>\n",
       "      <td>...</td>\n",
       "      <td>...</td>\n",
       "      <td>...</td>\n",
       "      <td>...</td>\n",
       "      <td>...</td>\n",
       "      <td>...</td>\n",
       "      <td>...</td>\n",
       "      <td>...</td>\n",
       "    </tr>\n",
       "    <tr>\n",
       "      <th>10</th>\n",
       "      <td>38</td>\n",
       "      <td>38</td>\n",
       "      <td>38</td>\n",
       "      <td>38</td>\n",
       "      <td>38</td>\n",
       "      <td>38</td>\n",
       "      <td>38</td>\n",
       "      <td>38</td>\n",
       "      <td>38</td>\n",
       "      <td>38</td>\n",
       "    </tr>\n",
       "    <tr>\n",
       "      <th>11</th>\n",
       "      <td>9</td>\n",
       "      <td>9</td>\n",
       "      <td>9</td>\n",
       "      <td>9</td>\n",
       "      <td>9</td>\n",
       "      <td>9</td>\n",
       "      <td>9</td>\n",
       "      <td>9</td>\n",
       "      <td>9</td>\n",
       "      <td>9</td>\n",
       "    </tr>\n",
       "    <tr>\n",
       "      <th>12</th>\n",
       "      <td>3</td>\n",
       "      <td>3</td>\n",
       "      <td>3</td>\n",
       "      <td>3</td>\n",
       "      <td>3</td>\n",
       "      <td>3</td>\n",
       "      <td>3</td>\n",
       "      <td>3</td>\n",
       "      <td>3</td>\n",
       "      <td>3</td>\n",
       "    </tr>\n",
       "    <tr>\n",
       "      <th>13</th>\n",
       "      <td>2</td>\n",
       "      <td>2</td>\n",
       "      <td>2</td>\n",
       "      <td>2</td>\n",
       "      <td>2</td>\n",
       "      <td>2</td>\n",
       "      <td>2</td>\n",
       "      <td>2</td>\n",
       "      <td>2</td>\n",
       "      <td>2</td>\n",
       "    </tr>\n",
       "    <tr>\n",
       "      <th>15</th>\n",
       "      <td>1</td>\n",
       "      <td>1</td>\n",
       "      <td>1</td>\n",
       "      <td>1</td>\n",
       "      <td>1</td>\n",
       "      <td>1</td>\n",
       "      <td>1</td>\n",
       "      <td>1</td>\n",
       "      <td>1</td>\n",
       "      <td>1</td>\n",
       "    </tr>\n",
       "  </tbody>\n",
       "</table>\n",
       "<p>14 rows × 10 columns</p>\n",
       "</div>"
      ],
      "text/plain": [
       "                  Order ID    Item  Price Each  Order Date   Sales    Year  \\\n",
       "Quantity Ordered                                                             \n",
       "1                   206731  206731      206731      206731  206731  206731   \n",
       "2                    76121   76121       76121       76121   76121   76121   \n",
       "3                    27918   27918       27918       27918   27918   27918   \n",
       "4                    10127   10127       10127       10127   10127   10127   \n",
       "5                     3855    3855        3855        3855    3855    3855   \n",
       "...                    ...     ...         ...         ...     ...     ...   \n",
       "10                      38      38          38          38      38      38   \n",
       "11                       9       9           9           9       9       9   \n",
       "12                       3       3           3           3       3       3   \n",
       "13                       2       2           2           2       2       2   \n",
       "15                       1       1           1           1       1       1   \n",
       "\n",
       "                   Month  Weekday  Weekday Value    Hour  \n",
       "Quantity Ordered                                          \n",
       "1                 206731   206731         206731  206731  \n",
       "2                  76121    76121          76121   76121  \n",
       "3                  27918    27918          27918   27918  \n",
       "4                  10127    10127          10127   10127  \n",
       "5                   3855     3855           3855    3855  \n",
       "...                  ...      ...            ...     ...  \n",
       "10                    38       38             38      38  \n",
       "11                     9        9              9       9  \n",
       "12                     3        3              3       3  \n",
       "13                     2        2              2       2  \n",
       "15                     1        1              1       1  \n",
       "\n",
       "[14 rows x 10 columns]"
      ]
     },
     "execution_count": 15,
     "metadata": {},
     "output_type": "execute_result"
    }
   ],
   "source": [
    "# let's make sure the 15 orders isn't an anomaly\n",
    "\n",
    "df.groupby('Quantity Ordered').count()"
   ]
  },
  {
   "cell_type": "markdown",
   "metadata": {},
   "source": [
    "Okay, looks like it really is just a few people ordering a bunch of items. It's a relatively tiny amount of orders."
   ]
  },
  {
   "cell_type": "markdown",
   "metadata": {},
   "source": [
    "### Item popularity"
   ]
  },
  {
   "cell_type": "code",
   "execution_count": 23,
   "metadata": {},
   "outputs": [
    {
     "data": {
      "text/html": [
       "<div>\n",
       "<style scoped>\n",
       "    .dataframe tbody tr th:only-of-type {\n",
       "        vertical-align: middle;\n",
       "    }\n",
       "\n",
       "    .dataframe tbody tr th {\n",
       "        vertical-align: top;\n",
       "    }\n",
       "\n",
       "    .dataframe thead th {\n",
       "        text-align: right;\n",
       "    }\n",
       "</style>\n",
       "<table border=\"1\" class=\"dataframe\">\n",
       "  <thead>\n",
       "    <tr style=\"text-align: right;\">\n",
       "      <th></th>\n",
       "      <th>Order ID</th>\n",
       "      <th>Quantity Ordered</th>\n",
       "      <th>Price Each</th>\n",
       "      <th>Sales</th>\n",
       "      <th>Year</th>\n",
       "      <th>Month</th>\n",
       "      <th>Weekday Value</th>\n",
       "      <th>Hour</th>\n",
       "    </tr>\n",
       "    <tr>\n",
       "      <th>Item</th>\n",
       "      <th></th>\n",
       "      <th></th>\n",
       "      <th></th>\n",
       "      <th></th>\n",
       "      <th></th>\n",
       "      <th></th>\n",
       "      <th></th>\n",
       "      <th></th>\n",
       "    </tr>\n",
       "  </thead>\n",
       "  <tbody>\n",
       "    <tr>\n",
       "      <th>Sticky Rice with Mango</th>\n",
       "      <td>4943689943</td>\n",
       "      <td>49091</td>\n",
       "      <td>187278</td>\n",
       "      <td>294546</td>\n",
       "      <td>62987857</td>\n",
       "      <td>212766</td>\n",
       "      <td>116718</td>\n",
       "      <td>494918</td>\n",
       "    </tr>\n",
       "    <tr>\n",
       "      <th>Green Curry</th>\n",
       "      <td>2657156838</td>\n",
       "      <td>26557</td>\n",
       "      <td>199332</td>\n",
       "      <td>318684</td>\n",
       "      <td>33521195</td>\n",
       "      <td>114071</td>\n",
       "      <td>61846</td>\n",
       "      <td>263108</td>\n",
       "    </tr>\n",
       "    <tr>\n",
       "      <th>Red Curry</th>\n",
       "      <td>2695427239</td>\n",
       "      <td>26471</td>\n",
       "      <td>202608</td>\n",
       "      <td>317652</td>\n",
       "      <td>34072148</td>\n",
       "      <td>114821</td>\n",
       "      <td>62880</td>\n",
       "      <td>267472</td>\n",
       "    </tr>\n",
       "    <tr>\n",
       "      <th>Pad Thai</th>\n",
       "      <td>2680502729</td>\n",
       "      <td>26443</td>\n",
       "      <td>202380</td>\n",
       "      <td>317316</td>\n",
       "      <td>34033607</td>\n",
       "      <td>115746</td>\n",
       "      <td>63003</td>\n",
       "      <td>267673</td>\n",
       "    </tr>\n",
       "    <tr>\n",
       "      <th>Yellow Curry</th>\n",
       "      <td>2647809934</td>\n",
       "      <td>26382</td>\n",
       "      <td>200664</td>\n",
       "      <td>316584</td>\n",
       "      <td>33745002</td>\n",
       "      <td>113959</td>\n",
       "      <td>62294</td>\n",
       "      <td>265263</td>\n",
       "    </tr>\n",
       "    <tr>\n",
       "      <th>...</th>\n",
       "      <td>...</td>\n",
       "      <td>...</td>\n",
       "      <td>...</td>\n",
       "      <td>...</td>\n",
       "      <td>...</td>\n",
       "      <td>...</td>\n",
       "      <td>...</td>\n",
       "      <td>...</td>\n",
       "    </tr>\n",
       "    <tr>\n",
       "      <th>Som Tum</th>\n",
       "      <td>625861066</td>\n",
       "      <td>6206</td>\n",
       "      <td>46776</td>\n",
       "      <td>74472</td>\n",
       "      <td>7866244</td>\n",
       "      <td>26579</td>\n",
       "      <td>14671</td>\n",
       "      <td>61816</td>\n",
       "    </tr>\n",
       "    <tr>\n",
       "      <th>Nam Kao Tod</th>\n",
       "      <td>600595164</td>\n",
       "      <td>6028</td>\n",
       "      <td>45432</td>\n",
       "      <td>72336</td>\n",
       "      <td>7640179</td>\n",
       "      <td>25554</td>\n",
       "      <td>14172</td>\n",
       "      <td>60155</td>\n",
       "    </tr>\n",
       "    <tr>\n",
       "      <th>Yum Woonsen</th>\n",
       "      <td>595402799</td>\n",
       "      <td>6027</td>\n",
       "      <td>48672</td>\n",
       "      <td>78351</td>\n",
       "      <td>7555435</td>\n",
       "      <td>25289</td>\n",
       "      <td>14149</td>\n",
       "      <td>59828</td>\n",
       "    </tr>\n",
       "    <tr>\n",
       "      <th>Yum Nua</th>\n",
       "      <td>597291838</td>\n",
       "      <td>5874</td>\n",
       "      <td>45108</td>\n",
       "      <td>70488</td>\n",
       "      <td>7585670</td>\n",
       "      <td>25798</td>\n",
       "      <td>14002</td>\n",
       "      <td>59832</td>\n",
       "    </tr>\n",
       "    <tr>\n",
       "      <th>Pad Pak</th>\n",
       "      <td>375467005</td>\n",
       "      <td>3610</td>\n",
       "      <td>27948</td>\n",
       "      <td>43320</td>\n",
       "      <td>4699997</td>\n",
       "      <td>15736</td>\n",
       "      <td>8609</td>\n",
       "      <td>36983</td>\n",
       "    </tr>\n",
       "  </tbody>\n",
       "</table>\n",
       "<p>37 rows × 8 columns</p>\n",
       "</div>"
      ],
      "text/plain": [
       "                          Order ID  Quantity Ordered  Price Each   Sales  \\\n",
       "Item                                                                       \n",
       "Sticky Rice with Mango  4943689943             49091      187278  294546   \n",
       "Green Curry             2657156838             26557      199332  318684   \n",
       "Red Curry               2695427239             26471      202608  317652   \n",
       "Pad Thai                2680502729             26443      202380  317316   \n",
       "Yellow Curry            2647809934             26382      200664  316584   \n",
       "...                            ...               ...         ...     ...   \n",
       "Som Tum                  625861066              6206       46776   74472   \n",
       "Nam Kao Tod              600595164              6028       45432   72336   \n",
       "Yum Woonsen              595402799              6027       48672   78351   \n",
       "Yum Nua                  597291838              5874       45108   70488   \n",
       "Pad Pak                  375467005              3610       27948   43320   \n",
       "\n",
       "                            Year   Month  Weekday Value    Hour  \n",
       "Item                                                             \n",
       "Sticky Rice with Mango  62987857  212766         116718  494918  \n",
       "Green Curry             33521195  114071          61846  263108  \n",
       "Red Curry               34072148  114821          62880  267472  \n",
       "Pad Thai                34033607  115746          63003  267673  \n",
       "Yellow Curry            33745002  113959          62294  265263  \n",
       "...                          ...     ...            ...     ...  \n",
       "Som Tum                  7866244   26579          14671   61816  \n",
       "Nam Kao Tod              7640179   25554          14172   60155  \n",
       "Yum Woonsen              7555435   25289          14149   59828  \n",
       "Yum Nua                  7585670   25798          14002   59832  \n",
       "Pad Pak                  4699997   15736           8609   36983  \n",
       "\n",
       "[37 rows x 8 columns]"
      ]
     },
     "execution_count": 23,
     "metadata": {},
     "output_type": "execute_result"
    }
   ],
   "source": [
    "df.groupby('Item').sum().sort_values(by='Quantity Ordered', ascending=False)"
   ]
  },
  {
   "cell_type": "code",
   "execution_count": 17,
   "metadata": {},
   "outputs": [
    {
     "data": {
      "image/png": "[encoded data removed]",
      "text/plain": [
       "<Figure size 864x648 with 1 Axes>"
      ]
     },
     "metadata": {},
     "output_type": "display_data"
    }
   ],
   "source": [
    "item_popularity = df.groupby('Item').sum().sort_values(by='Quantity Ordered', ascending=False)\n",
    "\n",
    "plt.figure(figsize=(12,9))\n",
    "ax = sns.barplot(item_popularity.index, item_popularity['Quantity Ordered'])\n",
    "\n",
    "ax.set_xticklabels(ax.get_xticklabels(), rotation=45, horizontalalignment='right')  # rotate if small figsize\n",
    "plt.title(\"Items by Quantity Ordered, Jan 2017 - Dec 2019\")\n",
    "plt.ylabel(\"Sales in USD\");"
   ]
  },
  {
   "cell_type": "markdown",
   "metadata": {},
   "source": [
    "Some observations:\n",
    "- We love sticky rice with mango\n",
    "- Curries seem to be really popular\n",
    "- Items with non-English names seem to be less popular\n",
    "- There's a LOT of menu items\n",
    "- Significant drop-off in popularity\n",
    "\n",
    "We don't have expense information, but we could probably save a bunch of money by removing items from the menu. It's expensive to stock a big menu, and not that risky to remove it: if we get rid of an itme, do we think it will cause a customer to eat elsewhere, or to just order something else?\n",
    "\n",
    "Let's compare against sales next.\n",
    "\n",
    "\n",
    "> **comment below**\n",
    "<!-- There's a lot of variation in item orders - we don't have expense information but the restaurant could probably save a lot of money by just not having such a big menu. The variety is nice, but it's expensive to stock so many things.\n",
    "\n",
    "(!) might be interesting to group this by menu type...\n",
    "\n",
    "Looks like there's a lot of variation. Also noticing that dishes with non-English names seem to not be selling as well. Might be an idea to switch them to english names?\n",
    "\n",
    "This is an expenses thing, but it might be a easy change to stop offering the less popular dishes. A bigger menu gives people more variety which is almost never a bad thing, but it's expensive to stock that many different kinds of ingredients.\n",
    "\n",
    "Maybe remove the least purchased dishes from the menu? Would need some information on how expensive it is to stock/prepare each item, but the business could become more lean this way.\n",
    "\n",
    "(?) What's the value prop? Is it important to have such variety, or could they focus on doing a few dishes really really well?\n",
    "\n",
    "Maybe pair the most popular dish with some less popular dishes (to encourage people to try other stuff).\n",
    "\n",
    "Alternatively, you could pair the most popular dish as a combo with even more popular dishes to get people to buy more. But you might be able to increase overall demand like this. The Bay Area has foodie culture, and if you're known for top tier Thai food and good prices, people will make the trip. In this case, you might want to consider some marketing stuff too.\n",
    "\n",
    "NOTE: there's an infinite amount of analysis you could do here - you could annotate every dish in the menu with coconut and sort by that if you wanted to. Follow your hunches to avoid being distracted by less important stuff. -->"
   ]
  },
  {
   "cell_type": "markdown",
   "metadata": {},
   "source": [
    "### a great way to think about the menu change: if you make the change, you only need 30% (random num) of your customers to stay to make the same amount of revenue. That assumes you're not also saving money + labor from stocking a bigger menu."
   ]
  },
  {
   "cell_type": "code",
   "execution_count": 20,
   "metadata": {},
   "outputs": [
    {
     "data": {
      "image/png": "[encoded data removed]",
      "text/plain": [
       "<Figure size 864x648 with 2 Axes>"
      ]
     },
     "metadata": {},
     "output_type": "display_data"
    }
   ],
   "source": [
    "# try to make a dual axis plot...\n",
    "\n",
    "item_popularity = df.groupby('Item').sum().sort_values(by='Quantity Ordered', ascending=False)\n",
    "\n",
    "plt.figure(figsize=(12,9))\n",
    "ax = sns.barplot(item_popularity.index, item_popularity['Quantity Ordered'])\n",
    "\n",
    "ax2 = ax.twinx()\n",
    "sns.lineplot(item_popularity.index, item_popularity['Sales'], label='Sales')  # consider increasing thickness, changing color\n",
    "\n",
    "ax.figure.legend()\n",
    "ax.set_xticklabels(ax.get_xticklabels(), rotation=45, horizontalalignment='right')  # rotate if small figsize\n",
    "plt.title(\"Items by Quantity Ordered vs Sales, Jan 2017 - Dec 2019\")\n",
    "plt.ylabel(\"Sales in USD\");"
   ]
  },
  {
   "cell_type": "markdown",
   "metadata": {},
   "source": [
    "Sales is quantity ordered times the price. So even though sticky rice is the most popular, it doesn't make as much money as other dishes because it's cheap.\n",
    "\n",
    "- Interesting that the most sold item isn't the one generating the most profit.\n",
    "- The curries and soups are top tier popularity and sales\n",
    "- There's a dip around appetizers (since they don't cost as much), but they aren't as popular as the sticky rice.\n",
    "- The BBQ items are expensive... combo them with something to sell more?\n",
    "- Seriously consider adding English names to the Thai dishes, some of these are so slept on.\n",
    "\n",
    "**we should be looking to maximize sales** (if we had expense information, we would be trying to maximize profit).\n",
    "\n",
    "Consider raising the price of sticky rice? (tests elasticity...)\n",
    "\n",
    "Consider offering combo meals w/ appetizers and profitable meals? The two ways to increase revenue are to get more customers into the restaurant, or to get customers already in the restaurant to spend more. \n",
    "\n",
    "**What combos can we offer?** (i'm too tired to figure it out right now... probably pair sticky rice and/or an app w/ bbq items)"
   ]
  },
  {
   "cell_type": "code",
   "execution_count": 27,
   "metadata": {},
   "outputs": [],
   "source": [
    "# is it worth it to do another visualization but broken down by menu item? maybe add it on the next pass."
   ]
  },
  {
   "cell_type": "code",
   "execution_count": null,
   "metadata": {},
   "outputs": [],
   "source": []
  },
  {
   "cell_type": "code",
   "execution_count": null,
   "metadata": {},
   "outputs": [],
   "source": []
  },
  {
   "cell_type": "code",
   "execution_count": null,
   "metadata": {},
   "outputs": [],
   "source": []
  },
  {
   "cell_type": "code",
   "execution_count": null,
   "metadata": {},
   "outputs": [],
   "source": []
  },
  {
   "cell_type": "code",
   "execution_count": null,
   "metadata": {},
   "outputs": [],
   "source": [
    "# find some segue into dupes."
   ]
  },
  {
   "cell_type": "markdown",
   "metadata": {},
   "source": [
    "### Duplicate values"
   ]
  },
  {
   "cell_type": "code",
   "execution_count": null,
   "metadata": {},
   "outputs": [],
   "source": [
    "dupes_df = df.loc[(df['Order ID'].duplicated(keep=False))]\n",
    "dupes_df"
   ]
  },
  {
   "cell_type": "markdown",
   "metadata": {},
   "source": [
    "These look like additional items in the same order since they have the same order ID (so they're not errors).\n",
    "\n",
    "Let's see if the dupes are any different than the individual products\n",
    "\n",
    "# (!) NOTE FOR GENERATOR DOCUMENTATION: it's an inaccuracy that additional orders are only one additional order (e.g. no orders with 2 unique additional items)"
   ]
  },
  {
   "cell_type": "code",
   "execution_count": null,
   "metadata": {},
   "outputs": [],
   "source": [
    "dupes_df.groupby('Item').sum().sort_values(by='Quantity Ordered', ascending=False)\n",
    "\n",
    "# sort by sales instead of quantity ordered\n",
    "# dupes_df.groupby('Product').sum().sort_values(by='Sales', ascending=False)"
   ]
  },
  {
   "cell_type": "code",
   "execution_count": null,
   "metadata": {},
   "outputs": [],
   "source": [
    "# this is an opportunity for a double y axis graph that compares orders with dupes to orders without dupes, right?"
   ]
  },
  {
   "cell_type": "markdown",
   "metadata": {},
   "source": [
    "Okay, the dupes are overwhelmingly the only dessert item on the menu. There's a drop off in other dishes, but it might just be related to the popularity of those items. What about orders that don't include sticky rice with mango?\n",
    "\n",
    "Interestingly, sorting by sales gives a noticeably different ordering than just sorting by quantity ordered. Our goal is to give recommendations to maximize sales, so it's something to keep in mind."
   ]
  },
  {
   "cell_type": "code",
   "execution_count": null,
   "metadata": {},
   "outputs": [],
   "source": [
    "# remove any orders paired with sticky rice\n",
    "\n",
    "dupes_no_sticky_rice = df.loc[(df['Order ID'].duplicated(keep=False) & ~(df['Product'].str[0:6]==\"Sticky\"))]\n",
    "remaining_dupes = dupes_no_sticky_rice.loc[(dupes_no_sticky_rice['Order ID'].duplicated(keep=False))]\n",
    "remaining_dupes"
   ]
  },
  {
   "cell_type": "markdown",
   "metadata": {},
   "source": [
    "Looks like it was mostly sticky rice, but there are still other duplicate orders which isn't unusual. Actually, I'm noticing a lot of these seem to be appetizers - let's see if there's a noticeable difference in the amount of appetizers vs other meals."
   ]
  },
  {
   "cell_type": "code",
   "execution_count": null,
   "metadata": {},
   "outputs": [],
   "source": [
    "# show number of appetizers in duplicate orders (886)\n",
    "remaining_dupes.loc[(remaining_dupes['Product'].str[0:5]==\"Tom K\") | \n",
    "                   (remaining_dupes['Product'].str[0:5]==\"Srira\") | \n",
    "                   (remaining_dupes['Product'].str[0:5]==\"Chick\") | \n",
    "                   (remaining_dupes['Product'].str[0:5]==\"Vegan\")]"
   ]
  },
  {
   "cell_type": "code",
   "execution_count": null,
   "metadata": {},
   "outputs": [],
   "source": [
    "# duplicate pairings not including an appetizer (740)\n",
    "remaining_dupes.loc[~(remaining_dupes['Product'].str[0:5]==\"Tom K\") & \n",
    "                   ~(remaining_dupes['Product'].str[0:5]==\"Srira\") & \n",
    "                   ~(remaining_dupes['Product'].str[0:5]==\"Chick\") & \n",
    "                   ~(remaining_dupes['Product'].str[0:5]==\"Vegan\")]"
   ]
  },
  {
   "cell_type": "markdown",
   "metadata": {},
   "source": [
    "It looks like there's some significance here - four appetizers have MORE pairings than all other dishes (excluding desserts). \n",
    "\n",
    "##### So our finding is that people very frequently frequently add the dessert the dessert to their order, and people pair the appetizers more than normal meals (but far less than the desserts).\n",
    "\n",
    "Maybe we can include this as a combo to encourage people to buy more expensive items, or to buy appetizers which don't seem to be especially popular as a pairing."
   ]
  },
  {
   "cell_type": "markdown",
   "metadata": {},
   "source": [
    "### more than one order - look after duplicates"
   ]
  },
  {
   "cell_type": "code",
   "execution_count": null,
   "metadata": {},
   "outputs": [],
   "source": [
    "more_than_one_ordered = df.loc[(df['Quantity Ordered'] > 1)]\n",
    "one_ordered = df.loc[(df['Quantity Ordered'] == 1)]\n",
    "# len(more_than_one_ordered) + len(one_ordered)\n",
    "print(len(more_than_one_ordered) / (len(one_ordered) +len(more_than_one_ordered))*100)\n",
    "more_than_one_ordered"
   ]
  },
  {
   "cell_type": "markdown",
   "metadata": {},
   "source": [
    "#### (!) Seeing something funny here: there are as many people ordering 9 quantity as there are ordering 3. Seems fishy. Is now the time to fix that? Do I just ignore it?\n",
    "\n",
    "Let's assume I just didn't find anything useful in quantity ordered."
   ]
  },
  {
   "cell_type": "code",
   "execution_count": null,
   "metadata": {},
   "outputs": [],
   "source": []
  },
  {
   "cell_type": "code",
   "execution_count": null,
   "metadata": {},
   "outputs": [],
   "source": [
    "# good breakpoint - probably good findings before this"
   ]
  },
  {
   "cell_type": "code",
   "execution_count": null,
   "metadata": {},
   "outputs": [],
   "source": []
  },
  {
   "cell_type": "markdown",
   "metadata": {},
   "source": [
    "# Best, worst months of sales?\n",
    "\n",
    "Do I care about sales or orders? Probably sales, right? Because orders just influence sales?"
   ]
  },
  {
   "cell_type": "code",
   "execution_count": null,
   "metadata": {},
   "outputs": [],
   "source": [
    "month_total_sales = df.groupby('Month').sum()\n",
    "\n",
    "plt.figure(figsize=(8,6))\n",
    "ax = sns.barplot(month_total_sales.index, month_total_sales['Sales'])\n",
    "\n",
    "plt.title(\"Jan 2017 - Dec 2019 Total Sales by Month\")\n",
    "plt.ylabel(\"Sales in USD\");"
   ]
  },
  {
   "cell_type": "markdown",
   "metadata": {},
   "source": [
    "This just shows gets us an idea of how much money we're looking at. It's cumulative months, so we'll probably look by month by year in a bit. But this is a quick way to get a picture of where things are."
   ]
  },
  {
   "cell_type": "code",
   "execution_count": null,
   "metadata": {},
   "outputs": [],
   "source": [
    "year_sales = df.groupby('Year').sum()\n",
    "\n",
    "plt.figure(figsize=(8,6))\n",
    "ax = sns.barplot(year_sales.index, year_sales['Sales'])\n",
    "\n",
    "plt.title(\"2017 - 2019 Sales by Year\")\n",
    "plt.ylabel(\"Sales in USD (millions)\");"
   ]
  },
  {
   "cell_type": "markdown",
   "metadata": {},
   "source": [
    "Sales look similar between years. Trending upwards, but not significantly enough to note. 2019's sales are 1% higher than 2017's (+$26077 in net sales).\n",
    "\n",
    "This isn't a new restaurant, so it's likely the demand has settled to the market. It's beyond the scope of this analysis, but you could look at trends for other restaurants in the area to get an idea of how much the area affects sales (as opposed to effort from the restaurant team). \n",
    "\n",
    "2019 is also the first year the restaurant exceeded $1M in annual sales. Congrats!"
   ]
  },
  {
   "cell_type": "code",
   "execution_count": null,
   "metadata": {},
   "outputs": [],
   "source": [
    "month_sales = df.groupby(['Year', 'Month']).sum().reset_index()\n",
    "\n",
    "plt.figure(figsize=(8,6))  # figsize not applying for some reason\n",
    "ax = sns.barplot(data=month_sales, x='Month', y='Sales')\n",
    "\n",
    "plt.title(\"Jan 2017 - Dec 2019 Average Sales by Month\")\n",
    "plt.ylabel(\"Sales in USD\");\n",
    "\n",
    "# check: most of the highest values are from 2019\n",
    "# sales_2019 = df.loc[(df['Year']==2019)]\n",
    "# month_sales_2019 = sales_2019.groupby('Month').sum()\n",
    "# ax = sns.pointplot(month_sales_2019.index, month_sales_2019['Sales'], marker='.', join=False)"
   ]
  },
  {
   "cell_type": "markdown",
   "metadata": {},
   "source": [
    "This shows us the average sales per month, as well as the highest and lowest recorded in any year. Note that most of the highest values are from 2019, as the restaurants business has been trending (slightly) upwards.\n",
    "\n",
    "We mostly see that November and December are significantly higher, and that the summer months are slightly higher. February looks really low, but it might just be because it has slightly less days."
   ]
  },
  {
   "cell_type": "code",
   "execution_count": null,
   "metadata": {},
   "outputs": [],
   "source": [
    "# average weekday sales with range\n",
    "weekday_sales_without_monday = df.groupby(['Year', 'Month', 'Weekday Value', 'Weekday']).sum().reset_index()\n",
    "weekday_sales = pd.DataFrame(columns=weekday_sales_without_monday.columns)\n",
    "\n",
    "monday_row = {'Weekday': 'Monday', 'Sales': 0}  # show mondays are closed\n",
    "weekday_sales = weekday_sales.append(monday_row, ignore_index=True)\n",
    "weekday_sales = pd.concat([weekday_sales, weekday_sales_without_monday]).reset_index(drop=True)\n",
    "\n",
    "plt.figure(figsize=(8,6))\n",
    "ax = sns.barplot(data=weekday_sales, x='Weekday', y='Sales')\n",
    "\n",
    "# ax.set_xticklabels(ax.get_xticklabels(), rotation=45, horizontalalignment='right')  # rotate if small figsize\n",
    "plt.title(\"Jan 2017 - Dec 2019 Average Sales by Weekday\")\n",
    "plt.ylabel(\"Sales in USD\");"
   ]
  },
  {
   "cell_type": "markdown",
   "metadata": {},
   "source": [
    "From looking at the weekdays, we see that tuesdays are pretty consistently the least popular days of the week. There's a dip, so could we add money by opening on Mondays instead of Wednesdays?\n",
    "\n",
    "(!) Note these are really ranges, not confidence intervals. \n",
    "\n",
    "#### So the hypothesis is that opening on Mondays instead of Wednesdays will increase sales by X amount. We will open on Mondays for a month, and afterwards will consider it a success if the Monday sales are in X range.\n",
    "\n",
    "If we make more money over the course of a month on Mondays than we do on Wednesdays, that's obviously a good thing. We can value the experiment by taking the the change in revenue from Monday/Wednesday minus the amount of effort/labor that went into the experiment."
   ]
  },
  {
   "cell_type": "code",
   "execution_count": null,
   "metadata": {},
   "outputs": [],
   "source": [
    "hour_sales = df.groupby(['Year', 'Month', 'Weekday', 'Hour']).sum().reset_index()\n",
    "\n",
    "# plt.figure(figsize=(8,6))\n",
    "ax = sns.barplot(data=hour_sales, x='Hour', y='Sales')\n",
    "\n",
    "# plt.title(\"Jan 2017 - Dec 2019 Average Sales by Hour\")\n",
    "# plt.ylabel(\"Sales in USD (millions)\");"
   ]
  },
  {
   "cell_type": "markdown",
   "metadata": {},
   "source": [
    "This gives averages and ranges, but doesn't do a good job showing that there aren't an equal amount of hours. Maybe they should just be open 12-4 every day..."
   ]
  },
  {
   "cell_type": "markdown",
   "metadata": {},
   "source": [
    "# (!) breakpoint - need to think about this more. will return."
   ]
  },
  {
   "cell_type": "code",
   "execution_count": null,
   "metadata": {},
   "outputs": [],
   "source": [
    "weekdays = ['Tuesday', 'Wednesday', 'Thursday', 'Friday', 'Saturday', 'Sunday']\n",
    "\n",
    "plt.figure(figsize=(8,6))\n",
    "\n",
    "for weekday in weekdays:\n",
    "    day_sales_filtered = df.loc[(df['Weekday'] == weekday)]\n",
    "    day_sales = day_sales_filtered.groupby('Hour').sum()\n",
    "    day_values = []\n",
    "    for hour in range(0,24):\n",
    "        if hour not in day_sales.index:\n",
    "            day_values.append(0)\n",
    "        else:\n",
    "            day_values.append(day_sales[\"Sales\"][hour])\n",
    "    ax = sns.lineplot(x=range(0,24), y=day_values, label=weekday, linewidth=2)\n",
    "\n",
    "plt.xticks(list(range(24)))\n",
    "plt.ylabel(\"Sales in USD (millions)\")\n",
    "plt.title(\"Jan 2017 - Dec 2019 Total Sales per Hour by Weekday\");\n",
    "\n",
    "# plt.savefig(\"2019_Sales.png\", dpi=100, bbox_inches='tight')"
   ]
  },
  {
   "cell_type": "code",
   "execution_count": null,
   "metadata": {},
   "outputs": [],
   "source": []
  },
  {
   "cell_type": "markdown",
   "metadata": {},
   "source": [
    "We can see here that Wednesday is pretty much the lowest day (even lower than Tuesday or Thursday), so maybe switching the off day from Monday to Wednesday might be something to try.\n",
    "\n",
    "At a glance, you might consider changing up weekday hours from 11am-3pm to 12pm-4pm since the sales are higher there. But we can be pretty sure that weekend hours and customer availability are much better on weekends.\n",
    "\n",
    "# (!) the hours don't seem to be right"
   ]
  },
  {
   "cell_type": "code",
   "execution_count": null,
   "metadata": {},
   "outputs": [],
   "source": [
    "hour_sales = df.groupby(['Year', 'Month', 'Weekday', 'Hour']).sum().reset_index()\n",
    "hour_sales"
   ]
  },
  {
   "cell_type": "code",
   "execution_count": null,
   "metadata": {},
   "outputs": [],
   "source": [
    "# think more about what you're trying to visualize here\n",
    "\n",
    "weekday = 'Tuesday'\n",
    "hour= 12\n",
    "\n",
    "hour_sales = df.groupby(['Year', 'Month', 'Weekday', 'Hour']).sum().reset_index()\n",
    "filter_by_weekday = hour_sales.loc[(hour_sales['Weekday'])==weekday]\n",
    "filter_by_hour = filter_by_weekday.loc[(filter_by_weekday['Hour'])==hour]\n",
    "filter_by_hour\n",
    "\n",
    "ax = sns.lineplot(data=filter_by_weekday, x='Hour', y='Sales', label=weekday, linewidth=2)\n",
    "# plt.xticks(ticks=[range(24)])"
   ]
  },
  {
   "cell_type": "code",
   "execution_count": null,
   "metadata": {},
   "outputs": [],
   "source": [
    "# filter_by_hour"
   ]
  },
  {
   "cell_type": "code",
   "execution_count": null,
   "metadata": {},
   "outputs": [],
   "source": [
    "# let's get it with a multiindex?\n",
    "\n",
    "weekdays = ['Tuesday', 'Wednesday', 'Thursday', 'Friday', 'Saturday', 'Sunday']\n",
    "\n",
    "hour_sales = df.groupby(['Year', 'Month', 'Weekday', 'Hour']).sum().reset_index()\n",
    "\n",
    "\n",
    "plt.figure(figsize=(8,6))\n",
    "\n",
    "for weekday in weekdays:\n",
    "    day_sales_filtered = df.loc[(df['Weekday'] == weekday)]\n",
    "    day_sales = day_sales_filtered.groupby('Hour').sum()\n",
    "    day_values = []\n",
    "    for hour in range(0,24):\n",
    "        if hour not in day_sales.index:\n",
    "            day_values.append(0)\n",
    "        else:\n",
    "            day_values.append(day_sales[\"Sales\"][hour])\n",
    "    ax = sns.lineplot(x=range(0,24), y=day_values, label=weekday, linewidth=2)\n",
    "\n",
    "    \n",
    "    \n",
    "plt.xticks(range(24))\n",
    "plt.ylabel(\"Sales in USD (millions)\")\n",
    "plt.title(\"Jan 2017 - Dec 2019 Average Sales per Hour by Weekday\");\n",
    "\n",
    "# plt.savefig(\"2019_Sales.png\", dpi=100, bbox_inches='tight')"
   ]
  },
  {
   "cell_type": "code",
   "execution_count": null,
   "metadata": {},
   "outputs": [],
   "source": [
    "range(24)"
   ]
  },
  {
   "cell_type": "code",
   "execution_count": null,
   "metadata": {},
   "outputs": [],
   "source": []
  },
  {
   "cell_type": "code",
   "execution_count": null,
   "metadata": {},
   "outputs": [],
   "source": []
  },
  {
   "cell_type": "code",
   "execution_count": null,
   "metadata": {},
   "outputs": [],
   "source": []
  },
  {
   "cell_type": "markdown",
   "metadata": {},
   "source": [
    "Maybe remove the least purchased dishes from the menu? Would need some information on how expensive it is to stock/prepare each item, but the business could become more lean this way.\n",
    "\n",
    "(?) What's the value prop? Is it important to have such variety, or could they focus on doing a few dishes really really well?\n",
    "\n",
    "Maybe pair the most popular dish with some less popular dishes (to encourage people to try other stuff).\n",
    "\n",
    "Alternatively, you could pair the most popular dish as a combo with even more popular dishes to get people to buy more. But you might be able to increase overall demand like this. The Bay Area has foodie culture, and if you're known for top tier Thai food and good prices, people will make the trip. In this case, you might want to consider some marketing stuff too."
   ]
  },
  {
   "cell_type": "markdown",
   "metadata": {},
   "source": [
    "### Conceptualize restaurant revenue model --> move downwards after exploration complete!\n",
    "\n",
    "### (?) We can use a conceptual model of the restaurant's revenue to check we haven't missed anything huge.\n",
    "\n",
    "Now that we've seen the data, let's build a basic business model so we have an idea of what to look for. The restaurant's revenue model can be conceptualized as a product of two major factors:\n",
    "1. How many people eat at the restaurant? (How many orders will it get?)\n",
    "2. What do those customers eat? (How much is each order worth?)\n",
    "\n",
    "We can create a basic revenue model by considering the drivers of those two factors. (Red notes drivers we can directly affect). \n",
    "\n",
    "<!-- ![](revenue_model.jpg) -->\n",
    "\n",
    "Here are some questions that might be helpful to think about during our initial exploration:\n",
    "* What hours are the best? (check against sales and orders)\n",
    "* What items are the most popular? (We can try combo meals instead of simply dropping prices)\n",
    "##### (?) if we increase value offered, will the cost/order go up?\n",
    "\n",
    "It's out of scope for this notebook, but you could also consider deeper analysis such as:\n",
    "* Market trends in the area\n",
    "* Competitive analysis on other restaurants in the area, especially Thai restaurants\n",
    "* Does the ordering of the menu items affect the menu?"
   ]
  },
  {
   "cell_type": "markdown",
   "metadata": {},
   "source": [
    "# A/B Test suggestions\n",
    "\n",
    "1. Close on Wednesdays instead of Mondays (if you were really worried, you could try staying open 7 days/week, but I recognize that's not realistic).\n",
    "2. Offer combos? (pair w/ marketing of value proposition)"
   ]
  },
  {
   "cell_type": "markdown",
   "metadata": {},
   "source": [
    "# Non-test recommendations (!) Give insights, ordered recommendations, and suggestions for things to test.\n",
    "\n",
    "1. Stop offering so many items.\n",
    "2. Note which items are vegan/vegetarian.\n",
    "3. Consider hiring help to be open for more hours (instead of closing during the day)\n",
    "\n",
    "It looks way important to be open for December. Run a calculation that shows just how important. Seriously, hire seasonal help. \n",
    "\n",
    "\n",
    "Note on combos: Offering combos increases the value proposition, which might increase the sales from customers who are already in the restaurant. But to really make it worth it (cost-benefit analysis the 'worth-it' here because it might be worth it with that alone), you would want to engage in some kind of marketing, or way to amplify the customers who make it to your store. Marketing your value proposition.\n",
    "\n",
    "In the next notebook, we'll look at experimental design and assume we weren't the one who did the analysis role."
   ]
  },
  {
   "cell_type": "markdown",
   "metadata": {},
   "source": [
    "### Other stuff to add in the future\n",
    "\n",
    "These are low priority things that are are a bit out of scope, since we already have a bunch of high priority recommendations.\n",
    "- time series forecast on revenue"
   ]
  },
  {
   "cell_type": "markdown",
   "metadata": {},
   "source": [
    "# NOTES\n",
    "\n",
    "I'm just exploring the data. Is there anything specific I can already look for?\n",
    "\n",
    "1. Sales (break down by times?)\n",
    "\n",
    "(?) should PRODUCT column just be 'Order' or 'Item'?\n",
    "\n",
    "(!) order date is time accurate, not order ID... woops."
   ]
  }
 ],
 "metadata": {
  "kernelspec": {
   "display_name": "Python 3",
   "language": "python",
   "name": "python3"
  },
  "language_info": {
   "codemirror_mode": {
    "name": "ipython",
    "version": 3
   },
   "file_extension": ".py",
   "mimetype": "text/x-python",
   "name": "python",
   "nbconvert_exporter": "python",
   "pygments_lexer": "ipython3",
   "version": "3.8.3"
  }
 },
 "nbformat": 4,
 "nbformat_minor": 4
}
